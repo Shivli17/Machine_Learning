{
 "cells": [
  {
   "cell_type": "markdown",
   "id": "b21ff14a",
   "metadata": {},
   "source": [
    "### Name: Shivli Mathur\n",
    "### Reg no.: 220968298\n",
    "### Batch:B4"
   ]
  },
  {
   "cell_type": "markdown",
   "id": "8f711aef",
   "metadata": {},
   "source": [
    "Q5) a. Import the required libraries"
   ]
  },
  {
   "cell_type": "code",
   "execution_count": 74,
   "id": "16630d29",
   "metadata": {},
   "outputs": [],
   "source": [
    "import pandas as pd\n",
    "import numpy as np\n",
    "import seaborn as sns\n",
    "import matplotlib.pyplot as plt\n",
    "from bokeh.plotting import figure, output_notebook, show \n",
    "import bokeh as bo\n",
    "import plotly as py"
   ]
  },
  {
   "cell_type": "markdown",
   "id": "91503b83",
   "metadata": {},
   "source": [
    "b. Load the dataset"
   ]
  },
  {
   "cell_type": "code",
   "execution_count": 75,
   "id": "90491d11",
   "metadata": {},
   "outputs": [
    {
     "data": {
      "text/html": [
       "<div>\n",
       "<style scoped>\n",
       "    .dataframe tbody tr th:only-of-type {\n",
       "        vertical-align: middle;\n",
       "    }\n",
       "\n",
       "    .dataframe tbody tr th {\n",
       "        vertical-align: top;\n",
       "    }\n",
       "\n",
       "    .dataframe thead th {\n",
       "        text-align: right;\n",
       "    }\n",
       "</style>\n",
       "<table border=\"1\" class=\"dataframe\">\n",
       "  <thead>\n",
       "    <tr style=\"text-align: right;\">\n",
       "      <th></th>\n",
       "      <th>Pregnancies</th>\n",
       "      <th>Glucose</th>\n",
       "      <th>BloodPressure</th>\n",
       "      <th>SkinThickness</th>\n",
       "      <th>Insulin</th>\n",
       "      <th>BMI</th>\n",
       "      <th>DiabetesPedigreeFunction</th>\n",
       "      <th>Age</th>\n",
       "      <th>Outcome</th>\n",
       "    </tr>\n",
       "  </thead>\n",
       "  <tbody>\n",
       "    <tr>\n",
       "      <th>0</th>\n",
       "      <td>6</td>\n",
       "      <td>148</td>\n",
       "      <td>72</td>\n",
       "      <td>35</td>\n",
       "      <td>0</td>\n",
       "      <td>33.6</td>\n",
       "      <td>0.627</td>\n",
       "      <td>50</td>\n",
       "      <td>1</td>\n",
       "    </tr>\n",
       "    <tr>\n",
       "      <th>1</th>\n",
       "      <td>1</td>\n",
       "      <td>85</td>\n",
       "      <td>66</td>\n",
       "      <td>29</td>\n",
       "      <td>0</td>\n",
       "      <td>26.6</td>\n",
       "      <td>0.351</td>\n",
       "      <td>31</td>\n",
       "      <td>0</td>\n",
       "    </tr>\n",
       "    <tr>\n",
       "      <th>2</th>\n",
       "      <td>8</td>\n",
       "      <td>183</td>\n",
       "      <td>64</td>\n",
       "      <td>0</td>\n",
       "      <td>0</td>\n",
       "      <td>23.3</td>\n",
       "      <td>0.672</td>\n",
       "      <td>32</td>\n",
       "      <td>1</td>\n",
       "    </tr>\n",
       "    <tr>\n",
       "      <th>3</th>\n",
       "      <td>1</td>\n",
       "      <td>89</td>\n",
       "      <td>66</td>\n",
       "      <td>23</td>\n",
       "      <td>94</td>\n",
       "      <td>28.1</td>\n",
       "      <td>0.167</td>\n",
       "      <td>21</td>\n",
       "      <td>0</td>\n",
       "    </tr>\n",
       "    <tr>\n",
       "      <th>4</th>\n",
       "      <td>0</td>\n",
       "      <td>137</td>\n",
       "      <td>40</td>\n",
       "      <td>35</td>\n",
       "      <td>168</td>\n",
       "      <td>43.1</td>\n",
       "      <td>2.288</td>\n",
       "      <td>33</td>\n",
       "      <td>1</td>\n",
       "    </tr>\n",
       "    <tr>\n",
       "      <th>...</th>\n",
       "      <td>...</td>\n",
       "      <td>...</td>\n",
       "      <td>...</td>\n",
       "      <td>...</td>\n",
       "      <td>...</td>\n",
       "      <td>...</td>\n",
       "      <td>...</td>\n",
       "      <td>...</td>\n",
       "      <td>...</td>\n",
       "    </tr>\n",
       "    <tr>\n",
       "      <th>763</th>\n",
       "      <td>10</td>\n",
       "      <td>101</td>\n",
       "      <td>76</td>\n",
       "      <td>48</td>\n",
       "      <td>180</td>\n",
       "      <td>32.9</td>\n",
       "      <td>0.171</td>\n",
       "      <td>63</td>\n",
       "      <td>0</td>\n",
       "    </tr>\n",
       "    <tr>\n",
       "      <th>764</th>\n",
       "      <td>2</td>\n",
       "      <td>122</td>\n",
       "      <td>70</td>\n",
       "      <td>27</td>\n",
       "      <td>0</td>\n",
       "      <td>36.8</td>\n",
       "      <td>0.340</td>\n",
       "      <td>27</td>\n",
       "      <td>0</td>\n",
       "    </tr>\n",
       "    <tr>\n",
       "      <th>765</th>\n",
       "      <td>5</td>\n",
       "      <td>121</td>\n",
       "      <td>72</td>\n",
       "      <td>23</td>\n",
       "      <td>112</td>\n",
       "      <td>26.2</td>\n",
       "      <td>0.245</td>\n",
       "      <td>30</td>\n",
       "      <td>0</td>\n",
       "    </tr>\n",
       "    <tr>\n",
       "      <th>766</th>\n",
       "      <td>1</td>\n",
       "      <td>126</td>\n",
       "      <td>60</td>\n",
       "      <td>0</td>\n",
       "      <td>0</td>\n",
       "      <td>30.1</td>\n",
       "      <td>0.349</td>\n",
       "      <td>47</td>\n",
       "      <td>1</td>\n",
       "    </tr>\n",
       "    <tr>\n",
       "      <th>767</th>\n",
       "      <td>1</td>\n",
       "      <td>93</td>\n",
       "      <td>70</td>\n",
       "      <td>31</td>\n",
       "      <td>0</td>\n",
       "      <td>30.4</td>\n",
       "      <td>0.315</td>\n",
       "      <td>23</td>\n",
       "      <td>0</td>\n",
       "    </tr>\n",
       "  </tbody>\n",
       "</table>\n",
       "<p>768 rows × 9 columns</p>\n",
       "</div>"
      ],
      "text/plain": [
       "     Pregnancies  Glucose  BloodPressure  SkinThickness  Insulin   BMI  \\\n",
       "0              6      148             72             35        0  33.6   \n",
       "1              1       85             66             29        0  26.6   \n",
       "2              8      183             64              0        0  23.3   \n",
       "3              1       89             66             23       94  28.1   \n",
       "4              0      137             40             35      168  43.1   \n",
       "..           ...      ...            ...            ...      ...   ...   \n",
       "763           10      101             76             48      180  32.9   \n",
       "764            2      122             70             27        0  36.8   \n",
       "765            5      121             72             23      112  26.2   \n",
       "766            1      126             60              0        0  30.1   \n",
       "767            1       93             70             31        0  30.4   \n",
       "\n",
       "     DiabetesPedigreeFunction  Age  Outcome  \n",
       "0                       0.627   50        1  \n",
       "1                       0.351   31        0  \n",
       "2                       0.672   32        1  \n",
       "3                       0.167   21        0  \n",
       "4                       2.288   33        1  \n",
       "..                        ...  ...      ...  \n",
       "763                     0.171   63        0  \n",
       "764                     0.340   27        0  \n",
       "765                     0.245   30        0  \n",
       "766                     0.349   47        1  \n",
       "767                     0.315   23        0  \n",
       "\n",
       "[768 rows x 9 columns]"
      ]
     },
     "execution_count": 75,
     "metadata": {},
     "output_type": "execute_result"
    }
   ],
   "source": [
    "df = pd.read_csv(\"Data1.csv\")\n",
    "df"
   ]
  },
  {
   "cell_type": "markdown",
   "id": "b58a64c5",
   "metadata": {},
   "source": [
    "c. Examine the dataset information"
   ]
  },
  {
   "cell_type": "code",
   "execution_count": 76,
   "id": "0d08fe5e",
   "metadata": {},
   "outputs": [
    {
     "name": "stdout",
     "output_type": "stream",
     "text": [
      "<class 'pandas.core.frame.DataFrame'>\n",
      "RangeIndex: 768 entries, 0 to 767\n",
      "Data columns (total 9 columns):\n",
      " #   Column                    Non-Null Count  Dtype  \n",
      "---  ------                    --------------  -----  \n",
      " 0   Pregnancies               768 non-null    int64  \n",
      " 1   Glucose                   768 non-null    int64  \n",
      " 2   BloodPressure             768 non-null    int64  \n",
      " 3   SkinThickness             768 non-null    int64  \n",
      " 4   Insulin                   768 non-null    int64  \n",
      " 5   BMI                       768 non-null    float64\n",
      " 6   DiabetesPedigreeFunction  768 non-null    float64\n",
      " 7   Age                       768 non-null    int64  \n",
      " 8   Outcome                   768 non-null    int64  \n",
      "dtypes: float64(2), int64(7)\n",
      "memory usage: 54.1 KB\n"
     ]
    }
   ],
   "source": [
    "df.info()"
   ]
  },
  {
   "cell_type": "markdown",
   "id": "4d0c2519",
   "metadata": {},
   "source": [
    "d. Analyze null values"
   ]
  },
  {
   "cell_type": "code",
   "execution_count": 77,
   "id": "978b7694",
   "metadata": {},
   "outputs": [
    {
     "data": {
      "text/plain": [
       "Pregnancies                 0\n",
       "Glucose                     0\n",
       "BloodPressure               0\n",
       "SkinThickness               0\n",
       "Insulin                     0\n",
       "BMI                         0\n",
       "DiabetesPedigreeFunction    0\n",
       "Age                         0\n",
       "Outcome                     0\n",
       "dtype: int64"
      ]
     },
     "execution_count": 77,
     "metadata": {},
     "output_type": "execute_result"
    }
   ],
   "source": [
    "df.isnull().sum()"
   ]
  },
  {
   "cell_type": "markdown",
   "id": "ee0d52f9",
   "metadata": {},
   "source": [
    "e. Statistical analysis"
   ]
  },
  {
   "cell_type": "code",
   "execution_count": 78,
   "id": "8f258fab",
   "metadata": {},
   "outputs": [
    {
     "data": {
      "text/html": [
       "<div>\n",
       "<style scoped>\n",
       "    .dataframe tbody tr th:only-of-type {\n",
       "        vertical-align: middle;\n",
       "    }\n",
       "\n",
       "    .dataframe tbody tr th {\n",
       "        vertical-align: top;\n",
       "    }\n",
       "\n",
       "    .dataframe thead th {\n",
       "        text-align: right;\n",
       "    }\n",
       "</style>\n",
       "<table border=\"1\" class=\"dataframe\">\n",
       "  <thead>\n",
       "    <tr style=\"text-align: right;\">\n",
       "      <th></th>\n",
       "      <th>Pregnancies</th>\n",
       "      <th>Glucose</th>\n",
       "      <th>BloodPressure</th>\n",
       "      <th>SkinThickness</th>\n",
       "      <th>Insulin</th>\n",
       "      <th>BMI</th>\n",
       "      <th>DiabetesPedigreeFunction</th>\n",
       "      <th>Age</th>\n",
       "      <th>Outcome</th>\n",
       "    </tr>\n",
       "  </thead>\n",
       "  <tbody>\n",
       "    <tr>\n",
       "      <th>count</th>\n",
       "      <td>768.000000</td>\n",
       "      <td>768.000000</td>\n",
       "      <td>768.000000</td>\n",
       "      <td>768.000000</td>\n",
       "      <td>768.000000</td>\n",
       "      <td>768.000000</td>\n",
       "      <td>768.000000</td>\n",
       "      <td>768.000000</td>\n",
       "      <td>768.000000</td>\n",
       "    </tr>\n",
       "    <tr>\n",
       "      <th>mean</th>\n",
       "      <td>3.845052</td>\n",
       "      <td>120.894531</td>\n",
       "      <td>69.105469</td>\n",
       "      <td>20.536458</td>\n",
       "      <td>79.799479</td>\n",
       "      <td>31.992578</td>\n",
       "      <td>0.471876</td>\n",
       "      <td>33.240885</td>\n",
       "      <td>0.348958</td>\n",
       "    </tr>\n",
       "    <tr>\n",
       "      <th>std</th>\n",
       "      <td>3.369578</td>\n",
       "      <td>31.972618</td>\n",
       "      <td>19.355807</td>\n",
       "      <td>15.952218</td>\n",
       "      <td>115.244002</td>\n",
       "      <td>7.884160</td>\n",
       "      <td>0.331329</td>\n",
       "      <td>11.760232</td>\n",
       "      <td>0.476951</td>\n",
       "    </tr>\n",
       "    <tr>\n",
       "      <th>min</th>\n",
       "      <td>0.000000</td>\n",
       "      <td>0.000000</td>\n",
       "      <td>0.000000</td>\n",
       "      <td>0.000000</td>\n",
       "      <td>0.000000</td>\n",
       "      <td>0.000000</td>\n",
       "      <td>0.078000</td>\n",
       "      <td>21.000000</td>\n",
       "      <td>0.000000</td>\n",
       "    </tr>\n",
       "    <tr>\n",
       "      <th>25%</th>\n",
       "      <td>1.000000</td>\n",
       "      <td>99.000000</td>\n",
       "      <td>62.000000</td>\n",
       "      <td>0.000000</td>\n",
       "      <td>0.000000</td>\n",
       "      <td>27.300000</td>\n",
       "      <td>0.243750</td>\n",
       "      <td>24.000000</td>\n",
       "      <td>0.000000</td>\n",
       "    </tr>\n",
       "    <tr>\n",
       "      <th>50%</th>\n",
       "      <td>3.000000</td>\n",
       "      <td>117.000000</td>\n",
       "      <td>72.000000</td>\n",
       "      <td>23.000000</td>\n",
       "      <td>30.500000</td>\n",
       "      <td>32.000000</td>\n",
       "      <td>0.372500</td>\n",
       "      <td>29.000000</td>\n",
       "      <td>0.000000</td>\n",
       "    </tr>\n",
       "    <tr>\n",
       "      <th>75%</th>\n",
       "      <td>6.000000</td>\n",
       "      <td>140.250000</td>\n",
       "      <td>80.000000</td>\n",
       "      <td>32.000000</td>\n",
       "      <td>127.250000</td>\n",
       "      <td>36.600000</td>\n",
       "      <td>0.626250</td>\n",
       "      <td>41.000000</td>\n",
       "      <td>1.000000</td>\n",
       "    </tr>\n",
       "    <tr>\n",
       "      <th>max</th>\n",
       "      <td>17.000000</td>\n",
       "      <td>199.000000</td>\n",
       "      <td>122.000000</td>\n",
       "      <td>99.000000</td>\n",
       "      <td>846.000000</td>\n",
       "      <td>67.100000</td>\n",
       "      <td>2.420000</td>\n",
       "      <td>81.000000</td>\n",
       "      <td>1.000000</td>\n",
       "    </tr>\n",
       "  </tbody>\n",
       "</table>\n",
       "</div>"
      ],
      "text/plain": [
       "       Pregnancies     Glucose  BloodPressure  SkinThickness     Insulin  \\\n",
       "count   768.000000  768.000000     768.000000     768.000000  768.000000   \n",
       "mean      3.845052  120.894531      69.105469      20.536458   79.799479   \n",
       "std       3.369578   31.972618      19.355807      15.952218  115.244002   \n",
       "min       0.000000    0.000000       0.000000       0.000000    0.000000   \n",
       "25%       1.000000   99.000000      62.000000       0.000000    0.000000   \n",
       "50%       3.000000  117.000000      72.000000      23.000000   30.500000   \n",
       "75%       6.000000  140.250000      80.000000      32.000000  127.250000   \n",
       "max      17.000000  199.000000     122.000000      99.000000  846.000000   \n",
       "\n",
       "              BMI  DiabetesPedigreeFunction         Age     Outcome  \n",
       "count  768.000000                768.000000  768.000000  768.000000  \n",
       "mean    31.992578                  0.471876   33.240885    0.348958  \n",
       "std      7.884160                  0.331329   11.760232    0.476951  \n",
       "min      0.000000                  0.078000   21.000000    0.000000  \n",
       "25%     27.300000                  0.243750   24.000000    0.000000  \n",
       "50%     32.000000                  0.372500   29.000000    0.000000  \n",
       "75%     36.600000                  0.626250   41.000000    1.000000  \n",
       "max     67.100000                  2.420000   81.000000    1.000000  "
      ]
     },
     "execution_count": 78,
     "metadata": {},
     "output_type": "execute_result"
    }
   ],
   "source": [
    "df.describe()"
   ]
  },
  {
   "cell_type": "markdown",
   "id": "6050dab8",
   "metadata": {},
   "source": [
    "f. Generate boxplots for each column"
   ]
  },
  {
   "cell_type": "code",
   "execution_count": 79,
   "id": "3ccd34ab",
   "metadata": {},
   "outputs": [
    {
     "data": {
      "image/png": "[encoded data removed]",
      "text/plain": [
       "<Figure size 640x480 with 1 Axes>"
      ]
     },
     "metadata": {},
     "output_type": "display_data"
    }
   ],
   "source": [
    "df.boxplot()\n",
    "plt.xticks(rotation=90)\n",
    "plt.show()\n"
   ]
  },
  {
   "cell_type": "markdown",
   "id": "ff16fe8c",
   "metadata": {},
   "source": [
    "g. Determine quartiles and reomve outliers"
   ]
  },
  {
   "cell_type": "code",
   "execution_count": 80,
   "id": "a72e7e51",
   "metadata": {},
   "outputs": [
    {
     "name": "stderr",
     "output_type": "stream",
     "text": [
      "C:\\Users\\samya\\AppData\\Local\\Temp\\ipykernel_7988\\3403003321.py:12: SettingWithCopyWarning:\n",
      "\n",
      "\n",
      "A value is trying to be set on a copy of a slice from a DataFrame\n",
      "\n",
      "See the caveats in the documentation: https://pandas.pydata.org/pandas-docs/stable/user_guide/indexing.html#returning-a-view-versus-a-copy\n",
      "\n",
      "C:\\Users\\samya\\AppData\\Local\\Temp\\ipykernel_7988\\3403003321.py:13: SettingWithCopyWarning:\n",
      "\n",
      "\n",
      "A value is trying to be set on a copy of a slice from a DataFrame\n",
      "\n",
      "See the caveats in the documentation: https://pandas.pydata.org/pandas-docs/stable/user_guide/indexing.html#returning-a-view-versus-a-copy\n",
      "\n",
      "C:\\Users\\samya\\AppData\\Local\\Temp\\ipykernel_7988\\3403003321.py:12: SettingWithCopyWarning:\n",
      "\n",
      "\n",
      "A value is trying to be set on a copy of a slice from a DataFrame\n",
      "\n",
      "See the caveats in the documentation: https://pandas.pydata.org/pandas-docs/stable/user_guide/indexing.html#returning-a-view-versus-a-copy\n",
      "\n",
      "C:\\Users\\samya\\AppData\\Local\\Temp\\ipykernel_7988\\3403003321.py:13: SettingWithCopyWarning:\n",
      "\n",
      "\n",
      "A value is trying to be set on a copy of a slice from a DataFrame\n",
      "\n",
      "See the caveats in the documentation: https://pandas.pydata.org/pandas-docs/stable/user_guide/indexing.html#returning-a-view-versus-a-copy\n",
      "\n",
      "C:\\Users\\samya\\AppData\\Local\\Temp\\ipykernel_7988\\3403003321.py:12: SettingWithCopyWarning:\n",
      "\n",
      "\n",
      "A value is trying to be set on a copy of a slice from a DataFrame\n",
      "\n",
      "See the caveats in the documentation: https://pandas.pydata.org/pandas-docs/stable/user_guide/indexing.html#returning-a-view-versus-a-copy\n",
      "\n",
      "C:\\Users\\samya\\AppData\\Local\\Temp\\ipykernel_7988\\3403003321.py:13: SettingWithCopyWarning:\n",
      "\n",
      "\n",
      "A value is trying to be set on a copy of a slice from a DataFrame\n",
      "\n",
      "See the caveats in the documentation: https://pandas.pydata.org/pandas-docs/stable/user_guide/indexing.html#returning-a-view-versus-a-copy\n",
      "\n",
      "C:\\Users\\samya\\AppData\\Local\\Temp\\ipykernel_7988\\3403003321.py:12: SettingWithCopyWarning:\n",
      "\n",
      "\n",
      "A value is trying to be set on a copy of a slice from a DataFrame\n",
      "\n",
      "See the caveats in the documentation: https://pandas.pydata.org/pandas-docs/stable/user_guide/indexing.html#returning-a-view-versus-a-copy\n",
      "\n",
      "C:\\Users\\samya\\AppData\\Local\\Temp\\ipykernel_7988\\3403003321.py:13: SettingWithCopyWarning:\n",
      "\n",
      "\n",
      "A value is trying to be set on a copy of a slice from a DataFrame\n",
      "\n",
      "See the caveats in the documentation: https://pandas.pydata.org/pandas-docs/stable/user_guide/indexing.html#returning-a-view-versus-a-copy\n",
      "\n",
      "C:\\Users\\samya\\AppData\\Local\\Temp\\ipykernel_7988\\3403003321.py:12: SettingWithCopyWarning:\n",
      "\n",
      "\n",
      "A value is trying to be set on a copy of a slice from a DataFrame\n",
      "\n",
      "See the caveats in the documentation: https://pandas.pydata.org/pandas-docs/stable/user_guide/indexing.html#returning-a-view-versus-a-copy\n",
      "\n",
      "C:\\Users\\samya\\AppData\\Local\\Temp\\ipykernel_7988\\3403003321.py:12: FutureWarning:\n",
      "\n",
      "Setting an item of incompatible dtype is deprecated and will raise in a future error of pandas. Value '30.5' has dtype incompatible with int64, please explicitly cast to a compatible dtype first.\n",
      "\n",
      "C:\\Users\\samya\\AppData\\Local\\Temp\\ipykernel_7988\\3403003321.py:12: SettingWithCopyWarning:\n",
      "\n",
      "\n",
      "A value is trying to be set on a copy of a slice from a DataFrame\n",
      "\n",
      "See the caveats in the documentation: https://pandas.pydata.org/pandas-docs/stable/user_guide/indexing.html#returning-a-view-versus-a-copy\n",
      "\n",
      "C:\\Users\\samya\\AppData\\Local\\Temp\\ipykernel_7988\\3403003321.py:13: SettingWithCopyWarning:\n",
      "\n",
      "\n",
      "A value is trying to be set on a copy of a slice from a DataFrame\n",
      "\n",
      "See the caveats in the documentation: https://pandas.pydata.org/pandas-docs/stable/user_guide/indexing.html#returning-a-view-versus-a-copy\n",
      "\n",
      "C:\\Users\\samya\\AppData\\Local\\Temp\\ipykernel_7988\\3403003321.py:12: SettingWithCopyWarning:\n",
      "\n",
      "\n",
      "A value is trying to be set on a copy of a slice from a DataFrame\n",
      "\n",
      "See the caveats in the documentation: https://pandas.pydata.org/pandas-docs/stable/user_guide/indexing.html#returning-a-view-versus-a-copy\n",
      "\n",
      "C:\\Users\\samya\\AppData\\Local\\Temp\\ipykernel_7988\\3403003321.py:13: SettingWithCopyWarning:\n",
      "\n",
      "\n",
      "A value is trying to be set on a copy of a slice from a DataFrame\n",
      "\n",
      "See the caveats in the documentation: https://pandas.pydata.org/pandas-docs/stable/user_guide/indexing.html#returning-a-view-versus-a-copy\n",
      "\n",
      "C:\\Users\\samya\\AppData\\Local\\Temp\\ipykernel_7988\\3403003321.py:12: SettingWithCopyWarning:\n",
      "\n",
      "\n",
      "A value is trying to be set on a copy of a slice from a DataFrame\n",
      "\n",
      "See the caveats in the documentation: https://pandas.pydata.org/pandas-docs/stable/user_guide/indexing.html#returning-a-view-versus-a-copy\n",
      "\n",
      "C:\\Users\\samya\\AppData\\Local\\Temp\\ipykernel_7988\\3403003321.py:13: SettingWithCopyWarning:\n",
      "\n",
      "\n",
      "A value is trying to be set on a copy of a slice from a DataFrame\n",
      "\n",
      "See the caveats in the documentation: https://pandas.pydata.org/pandas-docs/stable/user_guide/indexing.html#returning-a-view-versus-a-copy\n",
      "\n",
      "C:\\Users\\samya\\AppData\\Local\\Temp\\ipykernel_7988\\3403003321.py:12: SettingWithCopyWarning:\n",
      "\n",
      "\n",
      "A value is trying to be set on a copy of a slice from a DataFrame\n",
      "\n",
      "See the caveats in the documentation: https://pandas.pydata.org/pandas-docs/stable/user_guide/indexing.html#returning-a-view-versus-a-copy\n",
      "\n",
      "C:\\Users\\samya\\AppData\\Local\\Temp\\ipykernel_7988\\3403003321.py:13: SettingWithCopyWarning:\n",
      "\n",
      "\n",
      "A value is trying to be set on a copy of a slice from a DataFrame\n",
      "\n",
      "See the caveats in the documentation: https://pandas.pydata.org/pandas-docs/stable/user_guide/indexing.html#returning-a-view-versus-a-copy\n",
      "\n"
     ]
    },
    {
     "data": {
      "text/html": [
       "<div>\n",
       "<style scoped>\n",
       "    .dataframe tbody tr th:only-of-type {\n",
       "        vertical-align: middle;\n",
       "    }\n",
       "\n",
       "    .dataframe tbody tr th {\n",
       "        vertical-align: top;\n",
       "    }\n",
       "\n",
       "    .dataframe thead th {\n",
       "        text-align: right;\n",
       "    }\n",
       "</style>\n",
       "<table border=\"1\" class=\"dataframe\">\n",
       "  <thead>\n",
       "    <tr style=\"text-align: right;\">\n",
       "      <th></th>\n",
       "      <th>Pregnancies</th>\n",
       "      <th>Glucose</th>\n",
       "      <th>BloodPressure</th>\n",
       "      <th>SkinThickness</th>\n",
       "      <th>Insulin</th>\n",
       "      <th>BMI</th>\n",
       "      <th>DiabetesPedigreeFunction</th>\n",
       "      <th>Age</th>\n",
       "      <th>Outcome</th>\n",
       "    </tr>\n",
       "  </thead>\n",
       "  <tbody>\n",
       "    <tr>\n",
       "      <th>0</th>\n",
       "      <td>6</td>\n",
       "      <td>148</td>\n",
       "      <td>72</td>\n",
       "      <td>35</td>\n",
       "      <td>0.0</td>\n",
       "      <td>33.6</td>\n",
       "      <td>0.6270</td>\n",
       "      <td>50</td>\n",
       "      <td>1</td>\n",
       "    </tr>\n",
       "    <tr>\n",
       "      <th>1</th>\n",
       "      <td>1</td>\n",
       "      <td>85</td>\n",
       "      <td>66</td>\n",
       "      <td>29</td>\n",
       "      <td>0.0</td>\n",
       "      <td>26.6</td>\n",
       "      <td>0.3510</td>\n",
       "      <td>31</td>\n",
       "      <td>0</td>\n",
       "    </tr>\n",
       "    <tr>\n",
       "      <th>2</th>\n",
       "      <td>8</td>\n",
       "      <td>183</td>\n",
       "      <td>64</td>\n",
       "      <td>0</td>\n",
       "      <td>0.0</td>\n",
       "      <td>23.3</td>\n",
       "      <td>0.6720</td>\n",
       "      <td>32</td>\n",
       "      <td>1</td>\n",
       "    </tr>\n",
       "    <tr>\n",
       "      <th>3</th>\n",
       "      <td>1</td>\n",
       "      <td>89</td>\n",
       "      <td>66</td>\n",
       "      <td>23</td>\n",
       "      <td>94.0</td>\n",
       "      <td>28.1</td>\n",
       "      <td>0.1670</td>\n",
       "      <td>21</td>\n",
       "      <td>0</td>\n",
       "    </tr>\n",
       "    <tr>\n",
       "      <th>4</th>\n",
       "      <td>0</td>\n",
       "      <td>137</td>\n",
       "      <td>40</td>\n",
       "      <td>35</td>\n",
       "      <td>168.0</td>\n",
       "      <td>43.1</td>\n",
       "      <td>0.3725</td>\n",
       "      <td>33</td>\n",
       "      <td>1</td>\n",
       "    </tr>\n",
       "    <tr>\n",
       "      <th>...</th>\n",
       "      <td>...</td>\n",
       "      <td>...</td>\n",
       "      <td>...</td>\n",
       "      <td>...</td>\n",
       "      <td>...</td>\n",
       "      <td>...</td>\n",
       "      <td>...</td>\n",
       "      <td>...</td>\n",
       "      <td>...</td>\n",
       "    </tr>\n",
       "    <tr>\n",
       "      <th>763</th>\n",
       "      <td>10</td>\n",
       "      <td>101</td>\n",
       "      <td>76</td>\n",
       "      <td>48</td>\n",
       "      <td>180.0</td>\n",
       "      <td>32.9</td>\n",
       "      <td>0.1710</td>\n",
       "      <td>63</td>\n",
       "      <td>0</td>\n",
       "    </tr>\n",
       "    <tr>\n",
       "      <th>764</th>\n",
       "      <td>2</td>\n",
       "      <td>122</td>\n",
       "      <td>70</td>\n",
       "      <td>27</td>\n",
       "      <td>0.0</td>\n",
       "      <td>36.8</td>\n",
       "      <td>0.3400</td>\n",
       "      <td>27</td>\n",
       "      <td>0</td>\n",
       "    </tr>\n",
       "    <tr>\n",
       "      <th>765</th>\n",
       "      <td>5</td>\n",
       "      <td>121</td>\n",
       "      <td>72</td>\n",
       "      <td>23</td>\n",
       "      <td>112.0</td>\n",
       "      <td>26.2</td>\n",
       "      <td>0.2450</td>\n",
       "      <td>30</td>\n",
       "      <td>0</td>\n",
       "    </tr>\n",
       "    <tr>\n",
       "      <th>766</th>\n",
       "      <td>1</td>\n",
       "      <td>126</td>\n",
       "      <td>60</td>\n",
       "      <td>0</td>\n",
       "      <td>0.0</td>\n",
       "      <td>30.1</td>\n",
       "      <td>0.3490</td>\n",
       "      <td>47</td>\n",
       "      <td>1</td>\n",
       "    </tr>\n",
       "    <tr>\n",
       "      <th>767</th>\n",
       "      <td>1</td>\n",
       "      <td>93</td>\n",
       "      <td>70</td>\n",
       "      <td>31</td>\n",
       "      <td>0.0</td>\n",
       "      <td>30.4</td>\n",
       "      <td>0.3150</td>\n",
       "      <td>23</td>\n",
       "      <td>0</td>\n",
       "    </tr>\n",
       "  </tbody>\n",
       "</table>\n",
       "<p>768 rows × 9 columns</p>\n",
       "</div>"
      ],
      "text/plain": [
       "     Pregnancies  Glucose  BloodPressure  SkinThickness  Insulin   BMI  \\\n",
       "0              6      148             72             35      0.0  33.6   \n",
       "1              1       85             66             29      0.0  26.6   \n",
       "2              8      183             64              0      0.0  23.3   \n",
       "3              1       89             66             23     94.0  28.1   \n",
       "4              0      137             40             35    168.0  43.1   \n",
       "..           ...      ...            ...            ...      ...   ...   \n",
       "763           10      101             76             48    180.0  32.9   \n",
       "764            2      122             70             27      0.0  36.8   \n",
       "765            5      121             72             23    112.0  26.2   \n",
       "766            1      126             60              0      0.0  30.1   \n",
       "767            1       93             70             31      0.0  30.4   \n",
       "\n",
       "     DiabetesPedigreeFunction  Age  Outcome  \n",
       "0                      0.6270   50        1  \n",
       "1                      0.3510   31        0  \n",
       "2                      0.6720   32        1  \n",
       "3                      0.1670   21        0  \n",
       "4                      0.3725   33        1  \n",
       "..                        ...  ...      ...  \n",
       "763                    0.1710   63        0  \n",
       "764                    0.3400   27        0  \n",
       "765                    0.2450   30        0  \n",
       "766                    0.3490   47        1  \n",
       "767                    0.3150   23        0  \n",
       "\n",
       "[768 rows x 9 columns]"
      ]
     },
     "execution_count": 80,
     "metadata": {},
     "output_type": "execute_result"
    }
   ],
   "source": [
    "for col in df:\n",
    "    Q1 = np.percentile(df[col], 25)\n",
    "    median = np.percentile(df[col] , 50)\n",
    "    Q3 = np.percentile(df[col], 75)\n",
    "    IQR = Q3 - Q1\n",
    "    \n",
    "    upper = Q3+1.5*IQR\n",
    "    lower = Q1-1.5*IQR\n",
    "    filt1 = df[col] > upper\n",
    "    filt2 = df[col] < lower\n",
    "    \n",
    "    df[col][filt1] = median\n",
    "    df[col][filt2] = median\n",
    "    \n",
    "df"
   ]
  },
  {
   "cell_type": "code",
   "execution_count": 81,
   "id": "517bb97a",
   "metadata": {},
   "outputs": [
    {
     "data": {
      "text/html": [
       "<div>\n",
       "<style scoped>\n",
       "    .dataframe tbody tr th:only-of-type {\n",
       "        vertical-align: middle;\n",
       "    }\n",
       "\n",
       "    .dataframe tbody tr th {\n",
       "        vertical-align: top;\n",
       "    }\n",
       "\n",
       "    .dataframe thead th {\n",
       "        text-align: right;\n",
       "    }\n",
       "</style>\n",
       "<table border=\"1\" class=\"dataframe\">\n",
       "  <thead>\n",
       "    <tr style=\"text-align: right;\">\n",
       "      <th></th>\n",
       "      <th>Pregnancies</th>\n",
       "      <th>Glucose</th>\n",
       "      <th>BloodPressure</th>\n",
       "      <th>SkinThickness</th>\n",
       "      <th>Insulin</th>\n",
       "      <th>BMI</th>\n",
       "      <th>DiabetesPedigreeFunction</th>\n",
       "      <th>Age</th>\n",
       "      <th>Outcome</th>\n",
       "    </tr>\n",
       "  </thead>\n",
       "  <tbody>\n",
       "    <tr>\n",
       "      <th>count</th>\n",
       "      <td>768.000000</td>\n",
       "      <td>768.000000</td>\n",
       "      <td>768.000000</td>\n",
       "      <td>768.000000</td>\n",
       "      <td>768.000000</td>\n",
       "      <td>768.000000</td>\n",
       "      <td>768.000000</td>\n",
       "      <td>768.000000</td>\n",
       "      <td>768.000000</td>\n",
       "    </tr>\n",
       "    <tr>\n",
       "      <th>mean</th>\n",
       "      <td>3.782552</td>\n",
       "      <td>121.656250</td>\n",
       "      <td>72.196615</td>\n",
       "      <td>20.437500</td>\n",
       "      <td>60.919271</td>\n",
       "      <td>32.198958</td>\n",
       "      <td>0.427667</td>\n",
       "      <td>32.760417</td>\n",
       "      <td>0.348958</td>\n",
       "    </tr>\n",
       "    <tr>\n",
       "      <th>std</th>\n",
       "      <td>3.270644</td>\n",
       "      <td>30.438286</td>\n",
       "      <td>11.146723</td>\n",
       "      <td>15.698554</td>\n",
       "      <td>77.635666</td>\n",
       "      <td>6.410558</td>\n",
       "      <td>0.245162</td>\n",
       "      <td>11.055385</td>\n",
       "      <td>0.476951</td>\n",
       "    </tr>\n",
       "    <tr>\n",
       "      <th>min</th>\n",
       "      <td>0.000000</td>\n",
       "      <td>44.000000</td>\n",
       "      <td>38.000000</td>\n",
       "      <td>0.000000</td>\n",
       "      <td>0.000000</td>\n",
       "      <td>18.200000</td>\n",
       "      <td>0.078000</td>\n",
       "      <td>21.000000</td>\n",
       "      <td>0.000000</td>\n",
       "    </tr>\n",
       "    <tr>\n",
       "      <th>25%</th>\n",
       "      <td>1.000000</td>\n",
       "      <td>99.750000</td>\n",
       "      <td>64.000000</td>\n",
       "      <td>0.000000</td>\n",
       "      <td>0.000000</td>\n",
       "      <td>27.500000</td>\n",
       "      <td>0.243750</td>\n",
       "      <td>24.000000</td>\n",
       "      <td>0.000000</td>\n",
       "    </tr>\n",
       "    <tr>\n",
       "      <th>50%</th>\n",
       "      <td>3.000000</td>\n",
       "      <td>117.000000</td>\n",
       "      <td>72.000000</td>\n",
       "      <td>23.000000</td>\n",
       "      <td>29.750000</td>\n",
       "      <td>32.000000</td>\n",
       "      <td>0.371750</td>\n",
       "      <td>29.000000</td>\n",
       "      <td>0.000000</td>\n",
       "    </tr>\n",
       "    <tr>\n",
       "      <th>75%</th>\n",
       "      <td>6.000000</td>\n",
       "      <td>140.250000</td>\n",
       "      <td>80.000000</td>\n",
       "      <td>32.000000</td>\n",
       "      <td>110.000000</td>\n",
       "      <td>36.300000</td>\n",
       "      <td>0.582250</td>\n",
       "      <td>40.000000</td>\n",
       "      <td>1.000000</td>\n",
       "    </tr>\n",
       "    <tr>\n",
       "      <th>max</th>\n",
       "      <td>13.000000</td>\n",
       "      <td>199.000000</td>\n",
       "      <td>106.000000</td>\n",
       "      <td>63.000000</td>\n",
       "      <td>318.000000</td>\n",
       "      <td>50.000000</td>\n",
       "      <td>1.191000</td>\n",
       "      <td>66.000000</td>\n",
       "      <td>1.000000</td>\n",
       "    </tr>\n",
       "  </tbody>\n",
       "</table>\n",
       "</div>"
      ],
      "text/plain": [
       "       Pregnancies     Glucose  BloodPressure  SkinThickness     Insulin  \\\n",
       "count   768.000000  768.000000     768.000000     768.000000  768.000000   \n",
       "mean      3.782552  121.656250      72.196615      20.437500   60.919271   \n",
       "std       3.270644   30.438286      11.146723      15.698554   77.635666   \n",
       "min       0.000000   44.000000      38.000000       0.000000    0.000000   \n",
       "25%       1.000000   99.750000      64.000000       0.000000    0.000000   \n",
       "50%       3.000000  117.000000      72.000000      23.000000   29.750000   \n",
       "75%       6.000000  140.250000      80.000000      32.000000  110.000000   \n",
       "max      13.000000  199.000000     106.000000      63.000000  318.000000   \n",
       "\n",
       "              BMI  DiabetesPedigreeFunction         Age     Outcome  \n",
       "count  768.000000                768.000000  768.000000  768.000000  \n",
       "mean    32.198958                  0.427667   32.760417    0.348958  \n",
       "std      6.410558                  0.245162   11.055385    0.476951  \n",
       "min     18.200000                  0.078000   21.000000    0.000000  \n",
       "25%     27.500000                  0.243750   24.000000    0.000000  \n",
       "50%     32.000000                  0.371750   29.000000    0.000000  \n",
       "75%     36.300000                  0.582250   40.000000    1.000000  \n",
       "max     50.000000                  1.191000   66.000000    1.000000  "
      ]
     },
     "execution_count": 81,
     "metadata": {},
     "output_type": "execute_result"
    }
   ],
   "source": [
    "df.describe()"
   ]
  },
  {
   "cell_type": "markdown",
   "id": "659c9ff4",
   "metadata": {},
   "source": [
    "h. calculate correlation and visualize with a heatmap"
   ]
  },
  {
   "cell_type": "code",
   "execution_count": 82,
   "id": "179f1796",
   "metadata": {},
   "outputs": [
    {
     "data": {
      "image/png": "[encoded data removed]",
      "text/plain": [
       "<Figure size 640x480 with 2 Axes>"
      ]
     },
     "metadata": {},
     "output_type": "display_data"
    }
   ],
   "source": [
    "sns.heatmap(df.corr() , annot = True)\n",
    "plt.show()"
   ]
  },
  {
   "cell_type": "markdown",
   "id": "d526ae73",
   "metadata": {},
   "source": [
    "i. Normalize the various features of the given datasets"
   ]
  },
  {
   "cell_type": "code",
   "execution_count": 83,
   "id": "7ee7fab3",
   "metadata": {},
   "outputs": [
    {
     "data": {
      "text/plain": [
       "array([[0.46153846, 0.67096774, 0.5       , ..., 0.49326146, 0.64444444,\n",
       "        1.        ],\n",
       "       [0.07692308, 0.26451613, 0.41176471, ..., 0.24528302, 0.22222222,\n",
       "        0.        ],\n",
       "       [0.61538462, 0.89677419, 0.38235294, ..., 0.53369272, 0.24444444,\n",
       "        1.        ],\n",
       "       ...,\n",
       "       [0.38461538, 0.49677419, 0.5       , ..., 0.15004492, 0.2       ,\n",
       "        0.        ],\n",
       "       [0.07692308, 0.52903226, 0.32352941, ..., 0.24348607, 0.57777778,\n",
       "        1.        ],\n",
       "       [0.07692308, 0.31612903, 0.47058824, ..., 0.21293801, 0.04444444,\n",
       "        0.        ]])"
      ]
     },
     "execution_count": 83,
     "metadata": {},
     "output_type": "execute_result"
    }
   ],
   "source": [
    "from sklearn.preprocessing import MinMaxScaler\n",
    "\n",
    "scaler = MinMaxScaler()\n",
    "model = scaler.fit(df)\n",
    "model.transform(df)"
   ]
  },
  {
   "cell_type": "markdown",
   "id": "75daf759",
   "metadata": {},
   "source": [
    "j. Arrange correlation values for each attribute in ascending order"
   ]
  },
  {
   "cell_type": "code",
   "execution_count": 84,
   "id": "6b829a17",
   "metadata": {},
   "outputs": [
    {
     "name": "stdout",
     "output_type": "stream",
     "text": [
      "Insulin                   Pregnancies                -0.108474\n",
      "Age                       SkinThickness              -0.101397\n",
      "SkinThickness             Pregnancies                -0.096720\n",
      "Age                       Insulin                    -0.073726\n",
      "Insulin                   BloodPressure              -0.050956\n",
      "DiabetesPedigreeFunction  Pregnancies                 0.004519\n",
      "                          BloodPressure               0.022495\n",
      "SkinThickness             BloodPressure               0.025645\n",
      "BMI                       Pregnancies                 0.028339\n",
      "Age                       DiabetesPedigreeFunction    0.036109\n",
      "SkinThickness             Glucose                     0.060034\n",
      "Outcome                   SkinThickness               0.067344\n",
      "Age                       BMI                         0.077668\n",
      "Outcome                   Insulin                     0.078066\n",
      "DiabetesPedigreeFunction  Glucose                     0.081613\n",
      "Glucose                   Pregnancies                 0.117692\n",
      "DiabetesPedigreeFunction  BMI                         0.123776\n",
      "Outcome                   DiabetesPedigreeFunction    0.151994\n",
      "DiabetesPedigreeFunction  SkinThickness               0.152763\n",
      "Outcome                   BloodPressure               0.164874\n",
      "BMI                       Insulin                     0.171503\n",
      "Insulin                   Glucose                     0.179566\n",
      "DiabetesPedigreeFunction  Insulin                     0.198580\n",
      "Outcome                   Pregnancies                 0.202492\n",
      "BloodPressure             Glucose                     0.204539\n",
      "                          Pregnancies                 0.208953\n",
      "BMI                       Glucose                     0.228245\n",
      "Outcome                   Age                         0.265858\n",
      "BMI                       BloodPressure               0.271560\n",
      "Age                       Glucose                     0.274264\n",
      "Outcome                   BMI                         0.300615\n",
      "Age                       BloodPressure               0.326372\n",
      "BMI                       SkinThickness               0.373726\n",
      "Insulin                   SkinThickness               0.472714\n",
      "Outcome                   Glucose                     0.492782\n",
      "Age                       Pregnancies                 0.560768\n",
      "dtype: float64\n"
     ]
    }
   ],
   "source": [
    "from sklearn.preprocessing import LabelEncoder \n",
    "\n",
    "corr_mat = df.corr(method='pearson') \n",
    "  \n",
    "# Extract upper triangle of correlation matrix\n",
    "upper_corr_mat = corr_mat.where(np.triu(np.ones(corr_mat.shape), k=1).astype(bool))\n",
    "\n",
    "# Extract unique correlation pairs and sort\n",
    "unique_corr_pairs = upper_corr_mat.unstack().dropna()\n",
    "sorted_mat = unique_corr_pairs.sort_values()\n",
    "\n",
    "print(sorted_mat)"
   ]
  },
  {
   "cell_type": "markdown",
   "id": "3766016e",
   "metadata": {},
   "source": [
    "Q6)  a. Scatter plots with coloured points and adjustable sizes using columns (1) col1, col2 and (2) col3, col4 (3) col5, col6."
   ]
  },
  {
   "cell_type": "code",
   "execution_count": 85,
   "id": "4b3263fa",
   "metadata": {},
   "outputs": [
    {
     "data": {
      "image/png": "[encoded data removed]",
      "text/plain": [
       "<Figure size 640x480 with 1 Axes>"
      ]
     },
     "metadata": {},
     "output_type": "display_data"
    },
    {
     "data": {
      "image/png": "[encoded data removed]",
      "text/plain": [
       "<Figure size 640x480 with 1 Axes>"
      ]
     },
     "metadata": {},
     "output_type": "display_data"
    },
    {
     "data": {
      "image/png": "[encoded data removed]",
      "text/plain": [
       "<Figure size 640x480 with 1 Axes>"
      ]
     },
     "metadata": {},
     "output_type": "display_data"
    }
   ],
   "source": [
    "plt.scatter(df['Pregnancies'] , df['Glucose'] , c=\"Pink\")\n",
    "plt.xlabel(\"Pregnancies\")\n",
    "plt.ylabel(\"Glucose\")\n",
    "plt.show()\n",
    "\n",
    "plt.scatter(df['BloodPressure'] , df['SkinThickness'] , c=\"Red\")\n",
    "plt.xlabel(\"BloodPressure\")\n",
    "plt.ylabel(\"SkinThickness\")\n",
    "plt.show()\n",
    "\n",
    "plt.scatter(df['Insulin'] , df['BMI'] , c=\"Green\")\n",
    "plt.xlabel(\"Insulin\")\n",
    "plt.ylabel(\"BMI\")\n",
    "plt.show()"
   ]
  },
  {
   "cell_type": "markdown",
   "id": "fdd3e151",
   "metadata": {},
   "source": [
    "b. Line charts for columns (1) col1, col2 (2) col3, col4 (3) col5, col6."
   ]
  },
  {
   "cell_type": "code",
   "execution_count": 86,
   "id": "78902615",
   "metadata": {},
   "outputs": [
    {
     "data": {
      "image/png": "[encoded data removed]",
      "text/plain": [
       "<Figure size 640x480 with 1 Axes>"
      ]
     },
     "metadata": {},
     "output_type": "display_data"
    },
    {
     "data": {
      "image/png": "[encoded data removed]",
      "text/plain": [
       "<Figure size 640x480 with 1 Axes>"
      ]
     },
     "metadata": {},
     "output_type": "display_data"
    },
    {
     "data": {
      "image/png": "[encoded data removed]",
      "text/plain": [
       "<Figure size 640x480 with 1 Axes>"
      ]
     },
     "metadata": {},
     "output_type": "display_data"
    }
   ],
   "source": [
    "sns.lineplot(data=df, x='Pregnancies', y='Glucose')\n",
    "plt.show()\n",
    "\n",
    "sns.lineplot(data=df, x='BloodPressure', y='SkinThickness')\n",
    "plt.show()\n",
    "\n",
    "sns.lineplot(data=df, x='BMI', y='Insulin')\n",
    "plt.show()\n"
   ]
  },
  {
   "cell_type": "markdown",
   "id": "e064c2f1",
   "metadata": {},
   "source": [
    "c. Bar charts representing columns (1) col1, col2 (2) col3, col4 (3) col5, col6"
   ]
  },
  {
   "cell_type": "code",
   "execution_count": 87,
   "id": "d7d66d1f",
   "metadata": {},
   "outputs": [
    {
     "data": {
      "image/png": "[encoded data removed]",
      "text/plain": [
       "<Figure size 640x480 with 1 Axes>"
      ]
     },
     "metadata": {},
     "output_type": "display_data"
    },
    {
     "data": {
      "image/png": "[encoded data removed]",
      "text/plain": [
       "<Figure size 640x480 with 1 Axes>"
      ]
     },
     "metadata": {},
     "output_type": "display_data"
    },
    {
     "data": {
      "image/png": "[encoded data removed]",
      "text/plain": [
       "<Figure size 640x480 with 1 Axes>"
      ]
     },
     "metadata": {},
     "output_type": "display_data"
    },
    {
     "data": {
      "image/png": "[encoded data removed]",
      "text/plain": [
       "<Figure size 640x480 with 1 Axes>"
      ]
     },
     "metadata": {},
     "output_type": "display_data"
    },
    {
     "data": {
      "image/png": "[encoded data removed]",
      "text/plain": [
       "<Figure size 640x480 with 1 Axes>"
      ]
     },
     "metadata": {},
     "output_type": "display_data"
    },
    {
     "data": {
      "image/png": "[encoded data removed]",
      "text/plain": [
       "<Figure size 640x480 with 1 Axes>"
      ]
     },
     "metadata": {},
     "output_type": "display_data"
    },
    {
     "data": {
      "image/png": "[encoded data removed]",
      "text/plain": [
       "<Figure size 640x480 with 1 Axes>"
      ]
     },
     "metadata": {},
     "output_type": "display_data"
    },
    {
     "data": {
      "image/png": "[encoded data removed]",
      "text/plain": [
       "<Figure size 640x480 with 1 Axes>"
      ]
     },
     "metadata": {},
     "output_type": "display_data"
    },
    {
     "data": {
      "image/png": "[encoded data removed]",
      "text/plain": [
       "<Figure size 640x480 with 1 Axes>"
      ]
     },
     "metadata": {},
     "output_type": "display_data"
    }
   ],
   "source": [
    "for col in df:\n",
    "    plt.hist(df[col])\n",
    "    plt.title(col)\n",
    "    plt.show()"
   ]
  },
  {
   "cell_type": "markdown",
   "id": "bdc35449",
   "metadata": {},
   "source": [
    "d. Histograms to depict the dataset's distribution."
   ]
  },
  {
   "cell_type": "code",
   "execution_count": 88,
   "id": "731e9116",
   "metadata": {},
   "outputs": [
    {
     "data": {
      "image/png": "[encoded data removed]",
      "text/plain": [
       "<Figure size 640x480 with 1 Axes>"
      ]
     },
     "metadata": {},
     "output_type": "display_data"
    }
   ],
   "source": [
    "sns.histplot(df)\n",
    "plt.show()"
   ]
  },
  {
   "cell_type": "markdown",
   "id": "761c5083",
   "metadata": {},
   "source": [
    "e. Employ Bokeh for interactive data visualization"
   ]
  },
  {
   "cell_type": "code",
   "execution_count": 89,
   "id": "70890132",
   "metadata": {},
   "outputs": [
    {
     "data": {
      "text/html": [
       "    <style>\n",
       "        .bk-notebook-logo {\n",
       "            display: block;\n",
       "            width: 20px;\n",
       "            height: 20px;\n",
       "            background-image: url(data:image/png;base64,iVBORw0KGgoAAAANSUhEUgAAABQAAAAUCAYAAACNiR0NAAAABHNCSVQICAgIfAhkiAAAAAlwSFlzAAALEgAACxIB0t1+/AAAABx0RVh0U29mdHdhcmUAQWRvYmUgRmlyZXdvcmtzIENTNui8sowAAAOkSURBVDiNjZRtaJVlGMd/1/08zzln5zjP1LWcU9N0NkN8m2CYjpgQYQXqSs0I84OLIC0hkEKoPtiH3gmKoiJDU7QpLgoLjLIQCpEsNJ1vqUOdO7ppbuec5+V+rj4ctwzd8IIbbi6u+8f1539dt3A78eXC7QizUF7gyV1fD1Yqg4JWz84yffhm0qkFqBogB9rM8tZdtwVsPUhWhGcFJngGeWrPzHm5oaMmkfEg1usvLFyc8jLRqDOMru7AyC8saQr7GG7f5fvDeH7Ej8CM66nIF+8yngt6HWaKh7k49Soy9nXurCi1o3qUbS3zWfrYeQDTB/Qj6kX6Ybhw4B+bOYoLKCC9H3Nu/leUTZ1JdRWkkn2ldcCamzrcf47KKXdAJllSlxAOkRgyHsGC/zRday5Qld9DyoM4/q/rUoy/CXh3jzOu3bHUVZeU+DEn8FInkPBFlu3+nW3Nw0mk6vCDiWg8CeJaxEwuHS3+z5RgY+YBR6V1Z1nxSOfoaPa4LASWxxdNp+VWTk7+4vzaou8v8PN+xo+KY2xsw6une2frhw05CTYOmQvsEhjhWjn0bmXPjpE1+kplmmkP3suftwTubK9Vq22qKmrBhpY4jvd5afdRA3wGjFAgcnTK2s4hY0/GPNIb0nErGMCRxWOOX64Z8RAC4oCXdklmEvcL8o0BfkNK4lUg9HTl+oPlQxdNo3Mg4Nv175e/1LDGzZen30MEjRUtmXSfiTVu1kK8W4txyV6BMKlbgk3lMwYCiusNy9fVfvvwMxv8Ynl6vxoByANLTWplvuj/nF9m2+PDtt1eiHPBr1oIfhCChQMBw6Aw0UulqTKZdfVvfG7VcfIqLG9bcldL/+pdWTLxLUy8Qq38heUIjh4XlzZxzQm19lLFlr8vdQ97rjZVOLf8nclzckbcD4wxXMidpX30sFd37Fv/GtwwhzhxGVAprjbg0gCAEeIgwCZyTV2Z1REEW8O4py0wsjeloKoMr6iCY6dP92H6Vw/oTyICIthibxjm/DfN9lVz8IqtqKYLUXfoKVMVQVVJOElGjrnnUt9T9wbgp8AyYKaGlqingHZU/uG2NTZSVqwHQTWkx9hxjkpWDaCg6Ckj5qebgBVbT3V3NNXMSiWSDdGV3hrtzla7J+duwPOToIg42ChPQOQjspnSlp1V+Gjdged7+8UN5CRAV7a5EdFNwCjEaBR27b3W890TE7g24NAP/mMDXRWrGoFPQI9ls/MWO2dWFAar/xcOIImbbpA3zgAAAABJRU5ErkJggg==);\n",
       "        }\n",
       "    </style>\n",
       "    <div>\n",
       "        <a href=\"https://bokeh.org\" target=\"_blank\" class=\"bk-notebook-logo\"></a>\n",
       "        <span id=\"f1897bfa-8c76-4a46-a658-3dae7af628ad\">Loading BokehJS ...</span>\n",
       "    </div>\n"
      ]
     },
     "metadata": {},
     "output_type": "display_data"
    },
    {
     "data": {
      "application/javascript": [
       "(function(root) {\n",
       "  function now() {\n",
       "    return new Date();\n",
       "  }\n",
       "\n",
       "  const force = true;\n",
       "\n",
       "  if (typeof root._bokeh_onload_callbacks === \"undefined\" || force === true) {\n",
       "    root._bokeh_onload_callbacks = [];\n",
       "    root._bokeh_is_loading = undefined;\n",
       "  }\n",
       "\n",
       "const JS_MIME_TYPE = 'application/javascript';\n",
       "  const HTML_MIME_TYPE = 'text/html';\n",
       "  const EXEC_MIME_TYPE = 'application/vnd.bokehjs_exec.v0+json';\n",
       "  const CLASS_NAME = 'output_bokeh rendered_html';\n",
       "\n",
       "  /**\n",
       "   * Render data to the DOM node\n",
       "   */\n",
       "  function render(props, node) {\n",
       "    const script = document.createElement(\"script\");\n",
       "    node.appendChild(script);\n",
       "  }\n",
       "\n",
       "  /**\n",
       "   * Handle when an output is cleared or removed\n",
       "   */\n",
       "  function handleClearOutput(event, handle) {\n",
       "    function drop(id) {\n",
       "      const view = Bokeh.index.get_by_id(id)\n",
       "      if (view != null) {\n",
       "        view.model.document.clear()\n",
       "        Bokeh.index.delete(view)\n",
       "      }\n",
       "    }\n",
       "\n",
       "    const cell = handle.cell;\n",
       "\n",
       "    const id = cell.output_area._bokeh_element_id;\n",
       "    const server_id = cell.output_area._bokeh_server_id;\n",
       "\n",
       "    // Clean up Bokeh references\n",
       "    if (id != null) {\n",
       "      drop(id)\n",
       "    }\n",
       "\n",
       "    if (server_id !== undefined) {\n",
       "      // Clean up Bokeh references\n",
       "      const cmd_clean = \"from bokeh.io.state import curstate; print(curstate().uuid_to_server['\" + server_id + \"'].get_sessions()[0].document.roots[0]._id)\";\n",
       "      cell.notebook.kernel.execute(cmd_clean, {\n",
       "        iopub: {\n",
       "          output: function(msg) {\n",
       "            const id = msg.content.text.trim()\n",
       "            drop(id)\n",
       "          }\n",
       "        }\n",
       "      });\n",
       "      // Destroy server and session\n",
       "      const cmd_destroy = \"import bokeh.io.notebook as ion; ion.destroy_server('\" + server_id + \"')\";\n",
       "      cell.notebook.kernel.execute(cmd_destroy);\n",
       "    }\n",
       "  }\n",
       "\n",
       "  /**\n",
       "   * Handle when a new output is added\n",
       "   */\n",
       "  function handleAddOutput(event, handle) {\n",
       "    const output_area = handle.output_area;\n",
       "    const output = handle.output;\n",
       "\n",
       "    // limit handleAddOutput to display_data with EXEC_MIME_TYPE content only\n",
       "    if ((output.output_type != \"display_data\") || (!Object.prototype.hasOwnProperty.call(output.data, EXEC_MIME_TYPE))) {\n",
       "      return\n",
       "    }\n",
       "\n",
       "    const toinsert = output_area.element.find(\".\" + CLASS_NAME.split(' ')[0]);\n",
       "\n",
       "    if (output.metadata[EXEC_MIME_TYPE][\"id\"] !== undefined) {\n",
       "      toinsert[toinsert.length - 1].firstChild.textContent = output.data[JS_MIME_TYPE];\n",
       "      // store reference to embed id on output_area\n",
       "      output_area._bokeh_element_id = output.metadata[EXEC_MIME_TYPE][\"id\"];\n",
       "    }\n",
       "    if (output.metadata[EXEC_MIME_TYPE][\"server_id\"] !== undefined) {\n",
       "      const bk_div = document.createElement(\"div\");\n",
       "      bk_div.innerHTML = output.data[HTML_MIME_TYPE];\n",
       "      const script_attrs = bk_div.children[0].attributes;\n",
       "      for (let i = 0; i < script_attrs.length; i++) {\n",
       "        toinsert[toinsert.length - 1].firstChild.setAttribute(script_attrs[i].name, script_attrs[i].value);\n",
       "        toinsert[toinsert.length - 1].firstChild.textContent = bk_div.children[0].textContent\n",
       "      }\n",
       "      // store reference to server id on output_area\n",
       "      output_area._bokeh_server_id = output.metadata[EXEC_MIME_TYPE][\"server_id\"];\n",
       "    }\n",
       "  }\n",
       "\n",
       "  function register_renderer(events, OutputArea) {\n",
       "\n",
       "    function append_mime(data, metadata, element) {\n",
       "      // create a DOM node to render to\n",
       "      const toinsert = this.create_output_subarea(\n",
       "        metadata,\n",
       "        CLASS_NAME,\n",
       "        EXEC_MIME_TYPE\n",
       "      );\n",
       "      this.keyboard_manager.register_events(toinsert);\n",
       "      // Render to node\n",
       "      const props = {data: data, metadata: metadata[EXEC_MIME_TYPE]};\n",
       "      render(props, toinsert[toinsert.length - 1]);\n",
       "      element.append(toinsert);\n",
       "      return toinsert\n",
       "    }\n",
       "\n",
       "    /* Handle when an output is cleared or removed */\n",
       "    events.on('clear_output.CodeCell', handleClearOutput);\n",
       "    events.on('delete.Cell', handleClearOutput);\n",
       "\n",
       "    /* Handle when a new output is added */\n",
       "    events.on('output_added.OutputArea', handleAddOutput);\n",
       "\n",
       "    /**\n",
       "     * Register the mime type and append_mime function with output_area\n",
       "     */\n",
       "    OutputArea.prototype.register_mime_type(EXEC_MIME_TYPE, append_mime, {\n",
       "      /* Is output safe? */\n",
       "      safe: true,\n",
       "      /* Index of renderer in `output_area.display_order` */\n",
       "      index: 0\n",
       "    });\n",
       "  }\n",
       "\n",
       "  // register the mime type if in Jupyter Notebook environment and previously unregistered\n",
       "  if (root.Jupyter !== undefined) {\n",
       "    const events = require('base/js/events');\n",
       "    const OutputArea = require('notebook/js/outputarea').OutputArea;\n",
       "\n",
       "    if (OutputArea.prototype.mime_types().indexOf(EXEC_MIME_TYPE) == -1) {\n",
       "      register_renderer(events, OutputArea);\n",
       "    }\n",
       "  }\n",
       "  if (typeof (root._bokeh_timeout) === \"undefined\" || force === true) {\n",
       "    root._bokeh_timeout = Date.now() + 5000;\n",
       "    root._bokeh_failed_load = false;\n",
       "  }\n",
       "\n",
       "  const NB_LOAD_WARNING = {'data': {'text/html':\n",
       "     \"<div style='background-color: #fdd'>\\n\"+\n",
       "     \"<p>\\n\"+\n",
       "     \"BokehJS does not appear to have successfully loaded. If loading BokehJS from CDN, this \\n\"+\n",
       "     \"may be due to a slow or bad network connection. Possible fixes:\\n\"+\n",
       "     \"</p>\\n\"+\n",
       "     \"<ul>\\n\"+\n",
       "     \"<li>re-rerun `output_notebook()` to attempt to load from CDN again, or</li>\\n\"+\n",
       "     \"<li>use INLINE resources instead, as so:</li>\\n\"+\n",
       "     \"</ul>\\n\"+\n",
       "     \"<code>\\n\"+\n",
       "     \"from bokeh.resources import INLINE\\n\"+\n",
       "     \"output_notebook(resources=INLINE)\\n\"+\n",
       "     \"</code>\\n\"+\n",
       "     \"</div>\"}};\n",
       "\n",
       "  function display_loaded() {\n",
       "    const el = document.getElementById(\"f1897bfa-8c76-4a46-a658-3dae7af628ad\");\n",
       "    if (el != null) {\n",
       "      el.textContent = \"BokehJS is loading...\";\n",
       "    }\n",
       "    if (root.Bokeh !== undefined) {\n",
       "      if (el != null) {\n",
       "        el.textContent = \"BokehJS \" + root.Bokeh.version + \" successfully loaded.\";\n",
       "      }\n",
       "    } else if (Date.now() < root._bokeh_timeout) {\n",
       "      setTimeout(display_loaded, 100)\n",
       "    }\n",
       "  }\n",
       "\n",
       "  function run_callbacks() {\n",
       "    try {\n",
       "      root._bokeh_onload_callbacks.forEach(function(callback) {\n",
       "        if (callback != null)\n",
       "          callback();\n",
       "      });\n",
       "    } finally {\n",
       "      delete root._bokeh_onload_callbacks\n",
       "    }\n",
       "    console.debug(\"Bokeh: all callbacks have finished\");\n",
       "  }\n",
       "\n",
       "  function load_libs(css_urls, js_urls, callback) {\n",
       "    if (css_urls == null) css_urls = [];\n",
       "    if (js_urls == null) js_urls = [];\n",
       "\n",
       "    root._bokeh_onload_callbacks.push(callback);\n",
       "    if (root._bokeh_is_loading > 0) {\n",
       "      console.debug(\"Bokeh: BokehJS is being loaded, scheduling callback at\", now());\n",
       "      return null;\n",
       "    }\n",
       "    if (js_urls == null || js_urls.length === 0) {\n",
       "      run_callbacks();\n",
       "      return null;\n",
       "    }\n",
       "    console.debug(\"Bokeh: BokehJS not loaded, scheduling load and callback at\", now());\n",
       "    root._bokeh_is_loading = css_urls.length + js_urls.length;\n",
       "\n",
       "    function on_load() {\n",
       "      root._bokeh_is_loading--;\n",
       "      if (root._bokeh_is_loading === 0) {\n",
       "        console.debug(\"Bokeh: all BokehJS libraries/stylesheets loaded\");\n",
       "        run_callbacks()\n",
       "      }\n",
       "    }\n",
       "\n",
       "    function on_error(url) {\n",
       "      console.error(\"failed to load \" + url);\n",
       "    }\n",
       "\n",
       "    for (let i = 0; i < css_urls.length; i++) {\n",
       "      const url = css_urls[i];\n",
       "      const element = document.createElement(\"link\");\n",
       "      element.onload = on_load;\n",
       "      element.onerror = on_error.bind(null, url);\n",
       "      element.rel = \"stylesheet\";\n",
       "      element.type = \"text/css\";\n",
       "      element.href = url;\n",
       "      console.debug(\"Bokeh: injecting link tag for BokehJS stylesheet: \", url);\n",
       "      document.body.appendChild(element);\n",
       "    }\n",
       "\n",
       "    for (let i = 0; i < js_urls.length; i++) {\n",
       "      const url = js_urls[i];\n",
       "      const element = document.createElement('script');\n",
       "      element.onload = on_load;\n",
       "      element.onerror = on_error.bind(null, url);\n",
       "      element.async = false;\n",
       "      element.src = url;\n",
       "      console.debug(\"Bokeh: injecting script tag for BokehJS library: \", url);\n",
       "      document.head.appendChild(element);\n",
       "    }\n",
       "  };\n",
       "\n",
       "  function inject_raw_css(css) {\n",
       "    const element = document.createElement(\"style\");\n",
       "    element.appendChild(document.createTextNode(css));\n",
       "    document.body.appendChild(element);\n",
       "  }\n",
       "\n",
       "  const js_urls = [\"https://cdn.bokeh.org/bokeh/release/bokeh-3.3.2.min.js\", \"https://cdn.bokeh.org/bokeh/release/bokeh-gl-3.3.2.min.js\", \"https://cdn.bokeh.org/bokeh/release/bokeh-widgets-3.3.2.min.js\", \"https://cdn.bokeh.org/bokeh/release/bokeh-tables-3.3.2.min.js\", \"https://cdn.bokeh.org/bokeh/release/bokeh-mathjax-3.3.2.min.js\"];\n",
       "  const css_urls = [];\n",
       "\n",
       "  const inline_js = [    function(Bokeh) {\n",
       "      Bokeh.set_log_level(\"info\");\n",
       "    },\n",
       "function(Bokeh) {\n",
       "    }\n",
       "  ];\n",
       "\n",
       "  function run_inline_js() {\n",
       "    if (root.Bokeh !== undefined || force === true) {\n",
       "          for (let i = 0; i < inline_js.length; i++) {\n",
       "      inline_js[i].call(root, root.Bokeh);\n",
       "    }\n",
       "if (force === true) {\n",
       "        display_loaded();\n",
       "      }} else if (Date.now() < root._bokeh_timeout) {\n",
       "      setTimeout(run_inline_js, 100);\n",
       "    } else if (!root._bokeh_failed_load) {\n",
       "      console.log(\"Bokeh: BokehJS failed to load within specified timeout.\");\n",
       "      root._bokeh_failed_load = true;\n",
       "    } else if (force !== true) {\n",
       "      const cell = $(document.getElementById(\"f1897bfa-8c76-4a46-a658-3dae7af628ad\")).parents('.cell').data().cell;\n",
       "      cell.output_area.append_execute_result(NB_LOAD_WARNING)\n",
       "    }\n",
       "  }\n",
       "\n",
       "  if (root._bokeh_is_loading === 0) {\n",
       "    console.debug(\"Bokeh: BokehJS loaded, going straight to plotting\");\n",
       "    run_inline_js();\n",
       "  } else {\n",
       "    load_libs(css_urls, js_urls, function() {\n",
       "      console.debug(\"Bokeh: BokehJS plotting callback run at\", now());\n",
       "      run_inline_js();\n",
       "    });\n",
       "  }\n",
       "}(window));"
      ],
      "application/vnd.bokehjs_load.v0+json": ""
     },
     "metadata": {},
     "output_type": "display_data"
    },
    {
     "data": {
      "text/html": [
       "\n",
       "  <div id=\"f32fb085-3a33-43d0-af34-424ce8a76e58\" data-root-id=\"p1218\" style=\"display: contents;\"></div>\n"
      ]
     },
     "metadata": {},
     "output_type": "display_data"
    },
    {
     "data": {
      "application/javascript": [
       "(function(root) {\n",
       "  function embed_document(root) {\n",
       "  const docs_json = {\"6a31d94f-6584-47f0-92ba-69ef72471110\":{\"version\":\"3.3.2\",\"title\":\"Bokeh Application\",\"roots\":[{\"type\":\"object\",\"name\":\"Figure\",\"id\":\"p1218\",\"attributes\":{\"x_range\":{\"type\":\"object\",\"name\":\"DataRange1d\",\"id\":\"p1219\"},\"y_range\":{\"type\":\"object\",\"name\":\"DataRange1d\",\"id\":\"p1220\"},\"x_scale\":{\"type\":\"object\",\"name\":\"LinearScale\",\"id\":\"p1227\"},\"y_scale\":{\"type\":\"object\",\"name\":\"LinearScale\",\"id\":\"p1228\"},\"title\":{\"type\":\"object\",\"name\":\"Title\",\"id\":\"p1225\"},\"renderers\":[{\"type\":\"object\",\"name\":\"GlyphRenderer\",\"id\":\"p1256\",\"attributes\":{\"data_source\":{\"type\":\"object\",\"name\":\"ColumnDataSource\",\"id\":\"p1250\",\"attributes\":{\"selected\":{\"type\":\"object\",\"name\":\"Selection\",\"id\":\"p1251\",\"attributes\":{\"indices\":[],\"line_indices\":[]}},\"selection_policy\":{\"type\":\"object\",\"name\":\"UnionRenderers\",\"id\":\"p1252\"},\"data\":{\"type\":\"map\",\"entries\":[[\"x\",{\"type\":\"ndarray\",\"array\":{\"type\":\"bytes\",\"data\":\"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\"},\"shape\":[768],\"dtype\":\"int32\",\"order\":\"little\"}],[\"top\",{\"type\":\"ndarray\",\"array\":{\"type\":\"bytes\",\"data\":\"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\"},\"shape\":[768],\"dtype\":\"float64\",\"order\":\"little\"}]]}}},\"view\":{\"type\":\"object\",\"name\":\"CDSView\",\"id\":\"p1257\",\"attributes\":{\"filter\":{\"type\":\"object\",\"name\":\"AllIndices\",\"id\":\"p1258\"}}},\"glyph\":{\"type\":\"object\",\"name\":\"VBar\",\"id\":\"p1253\",\"attributes\":{\"x\":{\"type\":\"field\",\"field\":\"x\"},\"width\":{\"type\":\"value\",\"value\":0.8},\"top\":{\"type\":\"field\",\"field\":\"top\"},\"line_color\":{\"type\":\"value\",\"value\":\"#1f77b4\"},\"fill_color\":{\"type\":\"value\",\"value\":\"#1f77b4\"}}},\"nonselection_glyph\":{\"type\":\"object\",\"name\":\"VBar\",\"id\":\"p1254\",\"attributes\":{\"x\":{\"type\":\"field\",\"field\":\"x\"},\"width\":{\"type\":\"value\",\"value\":0.8},\"top\":{\"type\":\"field\",\"field\":\"top\"},\"line_color\":{\"type\":\"value\",\"value\":\"#1f77b4\"},\"line_alpha\":{\"type\":\"value\",\"value\":0.1},\"fill_color\":{\"type\":\"value\",\"value\":\"#1f77b4\"},\"fill_alpha\":{\"type\":\"value\",\"value\":0.1},\"hatch_alpha\":{\"type\":\"value\",\"value\":0.1}}},\"muted_glyph\":{\"type\":\"object\",\"name\":\"VBar\",\"id\":\"p1255\",\"attributes\":{\"x\":{\"type\":\"field\",\"field\":\"x\"},\"width\":{\"type\":\"value\",\"value\":0.8},\"top\":{\"type\":\"field\",\"field\":\"top\"},\"line_color\":{\"type\":\"value\",\"value\":\"#1f77b4\"},\"line_alpha\":{\"type\":\"value\",\"value\":0.2},\"fill_color\":{\"type\":\"value\",\"value\":\"#1f77b4\"},\"fill_alpha\":{\"type\":\"value\",\"value\":0.2},\"hatch_alpha\":{\"type\":\"value\",\"value\":0.2}}}}}],\"toolbar\":{\"type\":\"object\",\"name\":\"Toolbar\",\"id\":\"p1226\",\"attributes\":{\"tools\":[{\"type\":\"object\",\"name\":\"PanTool\",\"id\":\"p1239\"},{\"type\":\"object\",\"name\":\"WheelZoomTool\",\"id\":\"p1240\",\"attributes\":{\"renderers\":\"auto\"}},{\"type\":\"object\",\"name\":\"BoxZoomTool\",\"id\":\"p1241\",\"attributes\":{\"overlay\":{\"type\":\"object\",\"name\":\"BoxAnnotation\",\"id\":\"p1242\",\"attributes\":{\"syncable\":false,\"level\":\"overlay\",\"visible\":false,\"left\":{\"type\":\"number\",\"value\":\"nan\"},\"right\":{\"type\":\"number\",\"value\":\"nan\"},\"top\":{\"type\":\"number\",\"value\":\"nan\"},\"bottom\":{\"type\":\"number\",\"value\":\"nan\"},\"left_units\":\"canvas\",\"right_units\":\"canvas\",\"top_units\":\"canvas\",\"bottom_units\":\"canvas\",\"line_color\":\"black\",\"line_alpha\":1.0,\"line_width\":2,\"line_dash\":[4,4],\"fill_color\":\"lightgrey\",\"fill_alpha\":0.5}}}},{\"type\":\"object\",\"name\":\"SaveTool\",\"id\":\"p1247\"},{\"type\":\"object\",\"name\":\"ResetTool\",\"id\":\"p1248\"},{\"type\":\"object\",\"name\":\"HelpTool\",\"id\":\"p1249\"}]}},\"left\":[{\"type\":\"object\",\"name\":\"LinearAxis\",\"id\":\"p1234\",\"attributes\":{\"ticker\":{\"type\":\"object\",\"name\":\"BasicTicker\",\"id\":\"p1235\",\"attributes\":{\"mantissas\":[1,2,5]}},\"formatter\":{\"type\":\"object\",\"name\":\"BasicTickFormatter\",\"id\":\"p1236\"},\"axis_label\":\"Insulin\",\"major_label_policy\":{\"type\":\"object\",\"name\":\"AllLabels\",\"id\":\"p1237\"}}}],\"below\":[{\"type\":\"object\",\"name\":\"LinearAxis\",\"id\":\"p1229\",\"attributes\":{\"ticker\":{\"type\":\"object\",\"name\":\"BasicTicker\",\"id\":\"p1230\",\"attributes\":{\"mantissas\":[1,2,5]}},\"formatter\":{\"type\":\"object\",\"name\":\"BasicTickFormatter\",\"id\":\"p1231\"},\"axis_label\":\"Pregnancies\",\"major_label_policy\":{\"type\":\"object\",\"name\":\"AllLabels\",\"id\":\"p1232\"}}}],\"center\":[{\"type\":\"object\",\"name\":\"Grid\",\"id\":\"p1233\",\"attributes\":{\"axis\":{\"id\":\"p1229\"}}},{\"type\":\"object\",\"name\":\"Grid\",\"id\":\"p1238\",\"attributes\":{\"dimension\":1,\"axis\":{\"id\":\"p1234\"}}}]}}]}};\n",
       "  const render_items = [{\"docid\":\"6a31d94f-6584-47f0-92ba-69ef72471110\",\"roots\":{\"p1218\":\"f32fb085-3a33-43d0-af34-424ce8a76e58\"},\"root_ids\":[\"p1218\"]}];\n",
       "  root.Bokeh.embed.embed_items_notebook(docs_json, render_items);\n",
       "  }\n",
       "  if (root.Bokeh !== undefined) {\n",
       "    embed_document(root);\n",
       "  } else {\n",
       "    let attempts = 0;\n",
       "    const timer = setInterval(function(root) {\n",
       "      if (root.Bokeh !== undefined) {\n",
       "        clearInterval(timer);\n",
       "        embed_document(root);\n",
       "      } else {\n",
       "        attempts++;\n",
       "        if (attempts > 100) {\n",
       "          clearInterval(timer);\n",
       "          console.log(\"Bokeh: ERROR: Unable to run BokehJS code because BokehJS library is missing\");\n",
       "        }\n",
       "      }\n",
       "    }, 10, root)\n",
       "  }\n",
       "})(window);"
      ],
      "application/vnd.bokehjs_exec.v0+json": ""
     },
     "metadata": {
      "application/vnd.bokehjs_exec.v0+json": {
       "id": "p1218"
      }
     },
     "output_type": "display_data"
    }
   ],
   "source": [
    "from bokeh.plotting import figure,show\n",
    "from bokeh.io import output_notebook\n",
    "c=figure(x_axis_label=\"Pregnancies\",y_axis_label=\"Insulin\")\n",
    "c.vbar(x=df.Pregnancies,top=df.Insulin,width=0.8)\n",
    "output_notebook()\n",
    "show(c)"
   ]
  },
  {
   "cell_type": "markdown",
   "id": "b8c3910f",
   "metadata": {},
   "source": [
    "f. Utilize Bokeh's GUI features, including buttons, sliders, checkboxes, and radio buttons"
   ]
  },
  {
   "cell_type": "code",
   "execution_count": 90,
   "id": "bd4cda28",
   "metadata": {},
   "outputs": [
    {
     "data": {
      "text/html": [
       "\n",
       "  <div id=\"cc158c39-594c-4e0a-bb1b-ca348362abeb\" data-root-id=\"p1261\" style=\"display: contents;\"></div>\n"
      ]
     },
     "metadata": {},
     "output_type": "display_data"
    },
    {
     "data": {
      "application/javascript": [
       "(function(root) {\n",
       "  function embed_document(root) {\n",
       "  const docs_json = {\"67b42378-9cb3-4ab4-a423-739a9208ef27\":{\"version\":\"3.3.2\",\"title\":\"Bokeh Application\",\"roots\":[{\"type\":\"object\",\"name\":\"Button\",\"id\":\"p1261\"}]}};\n",
       "  const render_items = [{\"docid\":\"67b42378-9cb3-4ab4-a423-739a9208ef27\",\"roots\":{\"p1261\":\"cc158c39-594c-4e0a-bb1b-ca348362abeb\"},\"root_ids\":[\"p1261\"]}];\n",
       "  root.Bokeh.embed.embed_items_notebook(docs_json, render_items);\n",
       "  }\n",
       "  if (root.Bokeh !== undefined) {\n",
       "    embed_document(root);\n",
       "  } else {\n",
       "    let attempts = 0;\n",
       "    const timer = setInterval(function(root) {\n",
       "      if (root.Bokeh !== undefined) {\n",
       "        clearInterval(timer);\n",
       "        embed_document(root);\n",
       "      } else {\n",
       "        attempts++;\n",
       "        if (attempts > 100) {\n",
       "          clearInterval(timer);\n",
       "          console.log(\"Bokeh: ERROR: Unable to run BokehJS code because BokehJS library is missing\");\n",
       "        }\n",
       "      }\n",
       "    }, 10, root)\n",
       "  }\n",
       "})(window);"
      ],
      "application/vnd.bokehjs_exec.v0+json": ""
     },
     "metadata": {
      "application/vnd.bokehjs_exec.v0+json": {
       "id": "p1261"
      }
     },
     "output_type": "display_data"
    }
   ],
   "source": [
    "from bokeh.models import Button , CheckboxGroup , RadioGroup , Slider\n",
    "from bokeh.plotting import show\n",
    "\n",
    "button = Button(label = \"Button\")\n",
    "show(button)"
   ]
  },
  {
   "cell_type": "code",
   "execution_count": 91,
   "id": "533d369c",
   "metadata": {},
   "outputs": [
    {
     "data": {
      "text/html": [
       "\n",
       "  <div id=\"cb182a8b-fc56-48b0-85f9-278ceb02804f\" data-root-id=\"p1262\" style=\"display: contents;\"></div>\n"
      ]
     },
     "metadata": {},
     "output_type": "display_data"
    },
    {
     "data": {
      "application/javascript": [
       "(function(root) {\n",
       "  function embed_document(root) {\n",
       "  const docs_json = {\"e920fc69-8354-4e4f-89e5-b018848b5eed\":{\"version\":\"3.3.2\",\"title\":\"Bokeh Application\",\"roots\":[{\"type\":\"object\",\"name\":\"Slider\",\"id\":\"p1262\",\"attributes\":{\"title\":\"Slider\",\"start\":0,\"end\":10,\"value\":5}}]}};\n",
       "  const render_items = [{\"docid\":\"e920fc69-8354-4e4f-89e5-b018848b5eed\",\"roots\":{\"p1262\":\"cb182a8b-fc56-48b0-85f9-278ceb02804f\"},\"root_ids\":[\"p1262\"]}];\n",
       "  root.Bokeh.embed.embed_items_notebook(docs_json, render_items);\n",
       "  }\n",
       "  if (root.Bokeh !== undefined) {\n",
       "    embed_document(root);\n",
       "  } else {\n",
       "    let attempts = 0;\n",
       "    const timer = setInterval(function(root) {\n",
       "      if (root.Bokeh !== undefined) {\n",
       "        clearInterval(timer);\n",
       "        embed_document(root);\n",
       "      } else {\n",
       "        attempts++;\n",
       "        if (attempts > 100) {\n",
       "          clearInterval(timer);\n",
       "          console.log(\"Bokeh: ERROR: Unable to run BokehJS code because BokehJS library is missing\");\n",
       "        }\n",
       "      }\n",
       "    }, 10, root)\n",
       "  }\n",
       "})(window);"
      ],
      "application/vnd.bokehjs_exec.v0+json": ""
     },
     "metadata": {
      "application/vnd.bokehjs_exec.v0+json": {
       "id": "p1262"
      }
     },
     "output_type": "display_data"
    }
   ],
   "source": [
    "slider = Slider(start=0 , end=10 , value=5 , step=1 , title=\"Slider\")\n",
    "show(slider)"
   ]
  },
  {
   "cell_type": "code",
   "execution_count": 92,
   "id": "08c0ec2a",
   "metadata": {},
   "outputs": [
    {
     "data": {
      "text/html": [
       "\n",
       "  <div id=\"e77ac499-e37c-4cf2-9465-d62e6de80ec8\" data-root-id=\"p1263\" style=\"display: contents;\"></div>\n"
      ]
     },
     "metadata": {},
     "output_type": "display_data"
    },
    {
     "data": {
      "application/javascript": [
       "(function(root) {\n",
       "  function embed_document(root) {\n",
       "  const docs_json = {\"f149989a-1ae6-4413-8efe-74f2c2dff7be\":{\"version\":\"3.3.2\",\"title\":\"Bokeh Application\",\"roots\":[{\"type\":\"object\",\"name\":\"CheckboxGroup\",\"id\":\"p1263\",\"attributes\":{\"labels\":[\"Option 1\",\"Option 2\",\"Option 3\"]}}]}};\n",
       "  const render_items = [{\"docid\":\"f149989a-1ae6-4413-8efe-74f2c2dff7be\",\"roots\":{\"p1263\":\"e77ac499-e37c-4cf2-9465-d62e6de80ec8\"},\"root_ids\":[\"p1263\"]}];\n",
       "  root.Bokeh.embed.embed_items_notebook(docs_json, render_items);\n",
       "  }\n",
       "  if (root.Bokeh !== undefined) {\n",
       "    embed_document(root);\n",
       "  } else {\n",
       "    let attempts = 0;\n",
       "    const timer = setInterval(function(root) {\n",
       "      if (root.Bokeh !== undefined) {\n",
       "        clearInterval(timer);\n",
       "        embed_document(root);\n",
       "      } else {\n",
       "        attempts++;\n",
       "        if (attempts > 100) {\n",
       "          clearInterval(timer);\n",
       "          console.log(\"Bokeh: ERROR: Unable to run BokehJS code because BokehJS library is missing\");\n",
       "        }\n",
       "      }\n",
       "    }, 10, root)\n",
       "  }\n",
       "})(window);"
      ],
      "application/vnd.bokehjs_exec.v0+json": ""
     },
     "metadata": {
      "application/vnd.bokehjs_exec.v0+json": {
       "id": "p1263"
      }
     },
     "output_type": "display_data"
    }
   ],
   "source": [
    "checkbox_group = CheckboxGroup(labels=[\"Option 1\" , \"Option 2\" , \"Option 3\"])\n",
    "show(checkbox_group)"
   ]
  },
  {
   "cell_type": "code",
   "execution_count": 93,
   "id": "2d201737",
   "metadata": {},
   "outputs": [
    {
     "data": {
      "text/html": [
       "\n",
       "  <div id=\"c1605474-83b5-40ed-9c43-c7e7911b9f4a\" data-root-id=\"p1264\" style=\"display: contents;\"></div>\n"
      ]
     },
     "metadata": {},
     "output_type": "display_data"
    },
    {
     "data": {
      "application/javascript": [
       "(function(root) {\n",
       "  function embed_document(root) {\n",
       "  const docs_json = {\"e6726347-f662-49dd-a86b-661a94a64ab2\":{\"version\":\"3.3.2\",\"title\":\"Bokeh Application\",\"roots\":[{\"type\":\"object\",\"name\":\"RadioGroup\",\"id\":\"p1264\",\"attributes\":{\"labels\":[\"Option 1\",\"Option 2\",\"Option 3\"]}}]}};\n",
       "  const render_items = [{\"docid\":\"e6726347-f662-49dd-a86b-661a94a64ab2\",\"roots\":{\"p1264\":\"c1605474-83b5-40ed-9c43-c7e7911b9f4a\"},\"root_ids\":[\"p1264\"]}];\n",
       "  root.Bokeh.embed.embed_items_notebook(docs_json, render_items);\n",
       "  }\n",
       "  if (root.Bokeh !== undefined) {\n",
       "    embed_document(root);\n",
       "  } else {\n",
       "    let attempts = 0;\n",
       "    const timer = setInterval(function(root) {\n",
       "      if (root.Bokeh !== undefined) {\n",
       "        clearInterval(timer);\n",
       "        embed_document(root);\n",
       "      } else {\n",
       "        attempts++;\n",
       "        if (attempts > 100) {\n",
       "          clearInterval(timer);\n",
       "          console.log(\"Bokeh: ERROR: Unable to run BokehJS code because BokehJS library is missing\");\n",
       "        }\n",
       "      }\n",
       "    }, 10, root)\n",
       "  }\n",
       "})(window);"
      ],
      "application/vnd.bokehjs_exec.v0+json": ""
     },
     "metadata": {
      "application/vnd.bokehjs_exec.v0+json": {
       "id": "p1264"
      }
     },
     "output_type": "display_data"
    }
   ],
   "source": [
    "radio_group = RadioGroup(labels=[\"Option 1\" , \"Option 2\" , \"Option 3\"])\n",
    "show(radio_group)"
   ]
  },
  {
   "cell_type": "markdown",
   "id": "d710a4cf",
   "metadata": {},
   "source": [
    "g. Employ Plotly to create a dropdown menu"
   ]
  },
  {
   "cell_type": "code",
   "execution_count": 94,
   "id": "280eedbc",
   "metadata": {},
   "outputs": [
    {
     "data": {
      "application/vnd.plotly.v1+json": {
       "config": {
        "plotlyServerURL": "https://plot.ly"
       },
       "data": [
        {
         "type": "surface",
         "z": [
          [
           6,
           148,
           72,
           35,
           0,
           33.6,
           0.627,
           50,
           1
          ],
          [
           1,
           85,
           66,
           29,
           0,
           26.6,
           0.351,
           31,
           0
          ],
          [
           8,
           183,
           64,
           0,
           0,
           23.3,
           0.672,
           32,
           1
          ],
          [
           1,
           89,
           66,
           23,
           94,
           28.1,
           0.167,
           21,
           0
          ],
          [
           0,
           137,
           40,
           35,
           168,
           43.1,
           0.3725,
           33,
           1
          ],
          [
           5,
           116,
           74,
           0,
           0,
           25.6,
           0.201,
           30,
           0
          ],
          [
           3,
           78,
           50,
           32,
           88,
           31,
           0.248,
           26,
           1
          ],
          [
           10,
           115,
           72,
           0,
           0,
           35.3,
           0.134,
           29,
           0
          ],
          [
           2,
           197,
           70,
           45,
           30.5,
           30.5,
           0.158,
           53,
           1
          ],
          [
           8,
           125,
           96,
           0,
           0,
           32,
           0.232,
           54,
           1
          ],
          [
           4,
           110,
           92,
           0,
           0,
           37.6,
           0.191,
           30,
           0
          ],
          [
           10,
           168,
           74,
           0,
           0,
           38,
           0.537,
           34,
           1
          ],
          [
           10,
           139,
           80,
           0,
           0,
           27.1,
           0.3725,
           57,
           0
          ],
          [
           1,
           189,
           60,
           23,
           30.5,
           30.1,
           0.398,
           59,
           1
          ],
          [
           5,
           166,
           72,
           19,
           175,
           25.8,
           0.587,
           51,
           1
          ],
          [
           7,
           100,
           72,
           0,
           0,
           30,
           0.484,
           32,
           1
          ],
          [
           0,
           118,
           84,
           47,
           230,
           45.8,
           0.551,
           31,
           1
          ],
          [
           7,
           107,
           74,
           0,
           0,
           29.6,
           0.254,
           31,
           1
          ],
          [
           1,
           103,
           72,
           38,
           83,
           43.3,
           0.183,
           33,
           0
          ],
          [
           1,
           115,
           70,
           30,
           96,
           34.6,
           0.529,
           32,
           1
          ],
          [
           3,
           126,
           88,
           41,
           235,
           39.3,
           0.704,
           27,
           0
          ],
          [
           8,
           99,
           84,
           0,
           0,
           35.4,
           0.388,
           50,
           0
          ],
          [
           7,
           196,
           90,
           0,
           0,
           39.8,
           0.451,
           41,
           1
          ],
          [
           9,
           119,
           80,
           35,
           0,
           29,
           0.263,
           29,
           1
          ],
          [
           11,
           143,
           94,
           33,
           146,
           36.6,
           0.254,
           51,
           1
          ],
          [
           10,
           125,
           70,
           26,
           115,
           31.1,
           0.205,
           41,
           1
          ],
          [
           7,
           147,
           76,
           0,
           0,
           39.4,
           0.257,
           43,
           1
          ],
          [
           1,
           97,
           66,
           15,
           140,
           23.2,
           0.487,
           22,
           0
          ],
          [
           13,
           145,
           82,
           19,
           110,
           22.2,
           0.245,
           57,
           0
          ],
          [
           5,
           117,
           92,
           0,
           0,
           34.1,
           0.337,
           38,
           0
          ],
          [
           5,
           109,
           75,
           26,
           0,
           36,
           0.546,
           60,
           0
          ],
          [
           3,
           158,
           76,
           36,
           245,
           31.6,
           0.851,
           28,
           1
          ],
          [
           3,
           88,
           58,
           11,
           54,
           24.8,
           0.267,
           22,
           0
          ],
          [
           6,
           92,
           92,
           0,
           0,
           19.9,
           0.188,
           28,
           0
          ],
          [
           10,
           122,
           78,
           31,
           0,
           27.6,
           0.512,
           45,
           0
          ],
          [
           4,
           103,
           60,
           33,
           192,
           24,
           0.966,
           33,
           0
          ],
          [
           11,
           138,
           76,
           0,
           0,
           33.2,
           0.42,
           35,
           0
          ],
          [
           9,
           102,
           76,
           37,
           0,
           32.9,
           0.665,
           46,
           1
          ],
          [
           2,
           90,
           68,
           42,
           0,
           38.2,
           0.503,
           27,
           1
          ],
          [
           4,
           111,
           72,
           47,
           207,
           37.1,
           0.3725,
           56,
           1
          ],
          [
           3,
           180,
           64,
           25,
           70,
           34,
           0.271,
           26,
           0
          ],
          [
           7,
           133,
           84,
           0,
           0,
           40.2,
           0.696,
           37,
           0
          ],
          [
           7,
           106,
           92,
           18,
           0,
           22.7,
           0.235,
           48,
           0
          ],
          [
           9,
           171,
           72,
           24,
           240,
           45.4,
           0.721,
           54,
           1
          ],
          [
           7,
           159,
           64,
           0,
           0,
           27.4,
           0.294,
           40,
           0
          ],
          [
           0,
           180,
           66,
           39,
           0,
           42,
           0.3725,
           25,
           1
          ],
          [
           1,
           146,
           56,
           0,
           0,
           29.7,
           0.564,
           29,
           0
          ],
          [
           2,
           71,
           70,
           27,
           0,
           28,
           0.586,
           22,
           0
          ],
          [
           7,
           103,
           66,
           32,
           0,
           39.1,
           0.344,
           31,
           1
          ],
          [
           7,
           105,
           72,
           0,
           0,
           32,
           0.305,
           24,
           0
          ],
          [
           1,
           103,
           80,
           11,
           82,
           19.4,
           0.491,
           22,
           0
          ],
          [
           1,
           101,
           50,
           15,
           36,
           24.2,
           0.526,
           26,
           0
          ],
          [
           5,
           88,
           66,
           21,
           23,
           24.4,
           0.342,
           30,
           0
          ],
          [
           8,
           176,
           90,
           34,
           300,
           33.7,
           0.467,
           58,
           1
          ],
          [
           7,
           150,
           66,
           42,
           30.5,
           34.7,
           0.718,
           42,
           0
          ],
          [
           1,
           73,
           50,
           10,
           0,
           23,
           0.248,
           21,
           0
          ],
          [
           7,
           187,
           68,
           39,
           304,
           37.7,
           0.254,
           41,
           1
          ],
          [
           0,
           100,
           88,
           60,
           110,
           46.8,
           0.962,
           31,
           0
          ],
          [
           0,
           146,
           82,
           0,
           0,
           40.5,
           0.3725,
           44,
           0
          ],
          [
           0,
           105,
           64,
           41,
           142,
           41.5,
           0.173,
           22,
           0
          ],
          [
           2,
           84,
           72,
           0,
           0,
           32,
           0.304,
           21,
           0
          ],
          [
           8,
           133,
           72,
           0,
           0,
           32.9,
           0.27,
           39,
           1
          ],
          [
           5,
           44,
           62,
           0,
           0,
           25,
           0.587,
           36,
           0
          ],
          [
           2,
           141,
           58,
           34,
           128,
           25.4,
           0.699,
           24,
           0
          ],
          [
           7,
           114,
           66,
           0,
           0,
           32.8,
           0.258,
           42,
           1
          ],
          [
           5,
           99,
           74,
           27,
           0,
           29,
           0.203,
           32,
           0
          ],
          [
           0,
           109,
           88,
           30,
           0,
           32.5,
           0.855,
           38,
           1
          ],
          [
           2,
           109,
           92,
           0,
           0,
           42.7,
           0.845,
           54,
           0
          ],
          [
           1,
           95,
           66,
           13,
           38,
           19.6,
           0.334,
           25,
           0
          ],
          [
           4,
           146,
           85,
           27,
           100,
           28.9,
           0.189,
           27,
           0
          ],
          [
           2,
           100,
           66,
           20,
           90,
           32.9,
           0.867,
           28,
           1
          ],
          [
           5,
           139,
           64,
           35,
           140,
           28.6,
           0.411,
           26,
           0
          ],
          [
           13,
           126,
           90,
           0,
           0,
           43.4,
           0.583,
           42,
           1
          ],
          [
           4,
           129,
           86,
           20,
           270,
           35.1,
           0.231,
           23,
           0
          ],
          [
           1,
           79,
           75,
           30,
           0,
           32,
           0.396,
           22,
           0
          ],
          [
           1,
           117,
           48,
           20,
           0,
           24.7,
           0.14,
           22,
           0
          ],
          [
           7,
           62,
           78,
           0,
           0,
           32.6,
           0.391,
           41,
           0
          ],
          [
           5,
           95,
           72,
           33,
           0,
           37.7,
           0.37,
           27,
           0
          ],
          [
           0,
           131,
           72,
           0,
           0,
           43.2,
           0.27,
           26,
           1
          ],
          [
           2,
           112,
           66,
           22,
           0,
           25,
           0.307,
           24,
           0
          ],
          [
           3,
           113,
           44,
           13,
           0,
           22.4,
           0.14,
           22,
           0
          ],
          [
           2,
           74,
           72,
           0,
           0,
           32,
           0.102,
           22,
           0
          ],
          [
           7,
           83,
           78,
           26,
           71,
           29.3,
           0.767,
           36,
           0
          ],
          [
           0,
           101,
           65,
           28,
           0,
           24.6,
           0.237,
           22,
           0
          ],
          [
           5,
           137,
           72,
           0,
           0,
           48.8,
           0.227,
           37,
           1
          ],
          [
           2,
           110,
           74,
           29,
           125,
           32.4,
           0.698,
           27,
           0
          ],
          [
           13,
           106,
           72,
           54,
           0,
           36.6,
           0.178,
           45,
           0
          ],
          [
           2,
           100,
           68,
           25,
           71,
           38.5,
           0.324,
           26,
           0
          ],
          [
           3,
           136,
           70,
           32,
           110,
           37.1,
           0.153,
           43,
           1
          ],
          [
           1,
           107,
           68,
           19,
           0,
           26.5,
           0.165,
           24,
           0
          ],
          [
           1,
           80,
           55,
           0,
           0,
           19.1,
           0.258,
           21,
           0
          ],
          [
           4,
           123,
           80,
           15,
           176,
           32,
           0.443,
           34,
           0
          ],
          [
           7,
           81,
           78,
           40,
           48,
           46.7,
           0.261,
           42,
           0
          ],
          [
           4,
           134,
           72,
           0,
           0,
           23.8,
           0.277,
           60,
           1
          ],
          [
           2,
           142,
           82,
           18,
           64,
           24.7,
           0.761,
           21,
           0
          ],
          [
           6,
           144,
           72,
           27,
           228,
           33.9,
           0.255,
           40,
           0
          ],
          [
           2,
           92,
           62,
           28,
           0,
           31.6,
           0.13,
           24,
           0
          ],
          [
           1,
           71,
           48,
           18,
           76,
           20.4,
           0.323,
           22,
           0
          ],
          [
           6,
           93,
           50,
           30,
           64,
           28.7,
           0.356,
           23,
           0
          ],
          [
           1,
           122,
           90,
           51,
           220,
           49.7,
           0.325,
           31,
           1
          ],
          [
           1,
           163,
           72,
           0,
           0,
           39,
           0.3725,
           33,
           1
          ],
          [
           1,
           151,
           60,
           0,
           0,
           26.1,
           0.179,
           22,
           0
          ],
          [
           0,
           125,
           96,
           0,
           0,
           22.5,
           0.262,
           21,
           0
          ],
          [
           1,
           81,
           72,
           18,
           40,
           26.6,
           0.283,
           24,
           0
          ],
          [
           2,
           85,
           65,
           0,
           0,
           39.6,
           0.93,
           27,
           0
          ],
          [
           1,
           126,
           56,
           29,
           152,
           28.7,
           0.801,
           21,
           0
          ],
          [
           1,
           96,
           72,
           0,
           0,
           22.4,
           0.207,
           27,
           0
          ],
          [
           4,
           144,
           58,
           28,
           140,
           29.5,
           0.287,
           37,
           0
          ],
          [
           3,
           83,
           58,
           31,
           18,
           34.3,
           0.336,
           25,
           0
          ],
          [
           0,
           95,
           85,
           25,
           36,
           37.4,
           0.247,
           24,
           1
          ],
          [
           3,
           171,
           72,
           33,
           135,
           33.3,
           0.199,
           24,
           1
          ],
          [
           8,
           155,
           62,
           26,
           30.5,
           34,
           0.543,
           46,
           1
          ],
          [
           1,
           89,
           76,
           34,
           37,
           31.2,
           0.192,
           23,
           0
          ],
          [
           4,
           76,
           62,
           0,
           0,
           34,
           0.391,
           25,
           0
          ],
          [
           7,
           160,
           54,
           32,
           175,
           30.5,
           0.588,
           39,
           1
          ],
          [
           4,
           146,
           92,
           0,
           0,
           31.2,
           0.539,
           61,
           1
          ],
          [
           5,
           124,
           74,
           0,
           0,
           34,
           0.22,
           38,
           1
          ],
          [
           5,
           78,
           48,
           0,
           0,
           33.7,
           0.654,
           25,
           0
          ],
          [
           4,
           97,
           60,
           23,
           0,
           28.2,
           0.443,
           22,
           0
          ],
          [
           4,
           99,
           76,
           15,
           51,
           23.2,
           0.223,
           21,
           0
          ],
          [
           0,
           162,
           76,
           56,
           100,
           32,
           0.759,
           25,
           1
          ],
          [
           6,
           111,
           64,
           39,
           0,
           34.2,
           0.26,
           24,
           0
          ],
          [
           2,
           107,
           74,
           30,
           100,
           33.6,
           0.404,
           23,
           0
          ],
          [
           5,
           132,
           80,
           0,
           0,
           26.8,
           0.186,
           29,
           0
          ],
          [
           0,
           113,
           76,
           0,
           0,
           33.3,
           0.278,
           23,
           1
          ],
          [
           1,
           88,
           72,
           42,
           99,
           32,
           0.496,
           26,
           1
          ],
          [
           3,
           120,
           70,
           30,
           135,
           42.9,
           0.452,
           30,
           0
          ],
          [
           1,
           118,
           58,
           36,
           94,
           33.3,
           0.261,
           23,
           0
          ],
          [
           1,
           117,
           88,
           24,
           145,
           34.5,
           0.403,
           40,
           1
          ],
          [
           0,
           105,
           84,
           0,
           0,
           27.9,
           0.741,
           62,
           1
          ],
          [
           4,
           173,
           70,
           14,
           168,
           29.7,
           0.361,
           33,
           1
          ],
          [
           9,
           122,
           56,
           0,
           0,
           33.3,
           1.114,
           33,
           1
          ],
          [
           3,
           170,
           64,
           37,
           225,
           34.5,
           0.356,
           30,
           1
          ],
          [
           8,
           84,
           74,
           31,
           0,
           38.3,
           0.457,
           39,
           0
          ],
          [
           2,
           96,
           68,
           13,
           49,
           21.1,
           0.647,
           26,
           0
          ],
          [
           2,
           125,
           60,
           20,
           140,
           33.8,
           0.088,
           31,
           0
          ],
          [
           0,
           100,
           70,
           26,
           50,
           30.8,
           0.597,
           21,
           0
          ],
          [
           0,
           93,
           60,
           25,
           92,
           28.7,
           0.532,
           22,
           0
          ],
          [
           0,
           129,
           80,
           0,
           0,
           31.2,
           0.703,
           29,
           0
          ],
          [
           5,
           105,
           72,
           29,
           30.5,
           36.9,
           0.159,
           28,
           0
          ],
          [
           3,
           128,
           78,
           0,
           0,
           21.1,
           0.268,
           55,
           0
          ],
          [
           5,
           106,
           82,
           30,
           0,
           39.5,
           0.286,
           38,
           0
          ],
          [
           2,
           108,
           52,
           26,
           63,
           32.5,
           0.318,
           22,
           0
          ],
          [
           10,
           108,
           66,
           0,
           0,
           32.4,
           0.272,
           42,
           1
          ],
          [
           4,
           154,
           62,
           31,
           284,
           32.8,
           0.237,
           23,
           0
          ],
          [
           0,
           102,
           75,
           23,
           0,
           32,
           0.572,
           21,
           0
          ],
          [
           9,
           57,
           80,
           37,
           0,
           32.8,
           0.096,
           41,
           0
          ],
          [
           2,
           106,
           64,
           35,
           119,
           30.5,
           0.3725,
           34,
           0
          ],
          [
           5,
           147,
           78,
           0,
           0,
           33.7,
           0.218,
           65,
           0
          ],
          [
           2,
           90,
           70,
           17,
           0,
           27.3,
           0.085,
           22,
           0
          ],
          [
           1,
           136,
           74,
           50,
           204,
           37.4,
           0.399,
           24,
           0
          ],
          [
           4,
           114,
           65,
           0,
           0,
           21.9,
           0.432,
           37,
           0
          ],
          [
           9,
           156,
           86,
           28,
           155,
           34.3,
           1.189,
           42,
           1
          ],
          [
           1,
           153,
           82,
           42,
           30.5,
           40.6,
           0.687,
           23,
           0
          ],
          [
           8,
           188,
           78,
           0,
           0,
           47.9,
           0.137,
           43,
           1
          ],
          [
           7,
           152,
           88,
           44,
           0,
           50,
           0.337,
           36,
           1
          ],
          [
           2,
           99,
           52,
           15,
           94,
           24.6,
           0.637,
           21,
           0
          ],
          [
           1,
           109,
           56,
           21,
           135,
           25.2,
           0.833,
           23,
           0
          ],
          [
           2,
           88,
           74,
           19,
           53,
           29,
           0.229,
           22,
           0
          ],
          [
           3,
           163,
           72,
           41,
           114,
           40.9,
           0.817,
           47,
           1
          ],
          [
           4,
           151,
           90,
           38,
           0,
           29.7,
           0.294,
           36,
           0
          ],
          [
           7,
           102,
           74,
           40,
           105,
           37.2,
           0.204,
           45,
           0
          ],
          [
           0,
           114,
           80,
           34,
           285,
           44.2,
           0.167,
           27,
           0
          ],
          [
           2,
           100,
           64,
           23,
           0,
           29.7,
           0.368,
           21,
           0
          ],
          [
           0,
           131,
           88,
           0,
           0,
           31.6,
           0.743,
           32,
           1
          ],
          [
           6,
           104,
           74,
           18,
           156,
           29.9,
           0.722,
           41,
           1
          ],
          [
           3,
           148,
           66,
           25,
           0,
           32.5,
           0.256,
           22,
           0
          ],
          [
           4,
           120,
           68,
           0,
           0,
           29.6,
           0.709,
           34,
           0
          ],
          [
           4,
           110,
           66,
           0,
           0,
           31.9,
           0.471,
           29,
           0
          ],
          [
           3,
           111,
           90,
           12,
           78,
           28.4,
           0.495,
           29,
           0
          ],
          [
           6,
           102,
           82,
           0,
           0,
           30.8,
           0.18,
           36,
           1
          ],
          [
           6,
           134,
           70,
           23,
           130,
           35.4,
           0.542,
           29,
           1
          ],
          [
           2,
           87,
           72,
           23,
           0,
           28.9,
           0.773,
           25,
           0
          ],
          [
           1,
           79,
           60,
           42,
           48,
           43.5,
           0.678,
           23,
           0
          ],
          [
           2,
           75,
           64,
           24,
           55,
           29.7,
           0.37,
           33,
           0
          ],
          [
           8,
           179,
           72,
           42,
           130,
           32.7,
           0.719,
           36,
           1
          ],
          [
           6,
           85,
           78,
           0,
           0,
           31.2,
           0.382,
           42,
           0
          ],
          [
           0,
           129,
           72,
           46,
           130,
           32,
           0.319,
           26,
           1
          ],
          [
           5,
           143,
           78,
           0,
           0,
           45,
           0.19,
           47,
           0
          ],
          [
           5,
           130,
           82,
           0,
           0,
           39.1,
           0.956,
           37,
           1
          ],
          [
           6,
           87,
           80,
           0,
           0,
           23.2,
           0.084,
           32,
           0
          ],
          [
           0,
           119,
           64,
           18,
           92,
           34.9,
           0.725,
           23,
           0
          ],
          [
           1,
           117,
           74,
           20,
           23,
           27.7,
           0.299,
           21,
           0
          ],
          [
           5,
           73,
           60,
           0,
           0,
           26.8,
           0.268,
           27,
           0
          ],
          [
           4,
           141,
           74,
           0,
           0,
           27.6,
           0.244,
           40,
           0
          ],
          [
           7,
           194,
           68,
           28,
           0,
           35.9,
           0.745,
           41,
           1
          ],
          [
           8,
           181,
           68,
           36,
           30.5,
           30.1,
           0.615,
           60,
           1
          ],
          [
           1,
           128,
           98,
           41,
           58,
           32,
           0.3725,
           33,
           1
          ],
          [
           8,
           109,
           76,
           39,
           114,
           27.9,
           0.64,
           31,
           1
          ],
          [
           5,
           139,
           80,
           35,
           160,
           31.6,
           0.361,
           25,
           1
          ],
          [
           3,
           111,
           62,
           0,
           0,
           22.6,
           0.142,
           21,
           0
          ],
          [
           9,
           123,
           70,
           44,
           94,
           33.1,
           0.374,
           40,
           0
          ],
          [
           7,
           159,
           66,
           0,
           0,
           30.4,
           0.383,
           36,
           1
          ],
          [
           11,
           135,
           72,
           0,
           0,
           32,
           0.578,
           40,
           1
          ],
          [
           8,
           85,
           55,
           20,
           0,
           24.4,
           0.136,
           42,
           0
          ],
          [
           5,
           158,
           84,
           41,
           210,
           39.4,
           0.395,
           29,
           1
          ],
          [
           1,
           105,
           58,
           0,
           0,
           24.3,
           0.187,
           21,
           0
          ],
          [
           3,
           107,
           62,
           13,
           48,
           22.9,
           0.678,
           23,
           1
          ],
          [
           4,
           109,
           64,
           44,
           99,
           34.8,
           0.905,
           26,
           1
          ],
          [
           4,
           148,
           60,
           27,
           318,
           30.9,
           0.15,
           29,
           1
          ],
          [
           0,
           113,
           80,
           16,
           0,
           31,
           0.874,
           21,
           0
          ],
          [
           1,
           138,
           82,
           0,
           0,
           40.1,
           0.236,
           28,
           0
          ],
          [
           0,
           108,
           68,
           20,
           0,
           27.3,
           0.787,
           32,
           0
          ],
          [
           2,
           99,
           70,
           16,
           44,
           20.4,
           0.235,
           27,
           0
          ],
          [
           6,
           103,
           72,
           32,
           190,
           37.7,
           0.324,
           55,
           0
          ],
          [
           5,
           111,
           72,
           28,
           0,
           23.9,
           0.407,
           27,
           0
          ],
          [
           8,
           196,
           76,
           29,
           280,
           37.5,
           0.605,
           57,
           1
          ],
          [
           5,
           162,
           104,
           0,
           0,
           37.7,
           0.151,
           52,
           1
          ],
          [
           1,
           96,
           64,
           27,
           87,
           33.2,
           0.289,
           21,
           0
          ],
          [
           7,
           184,
           84,
           33,
           0,
           35.5,
           0.355,
           41,
           1
          ],
          [
           2,
           81,
           60,
           22,
           0,
           27.7,
           0.29,
           25,
           0
          ],
          [
           0,
           147,
           85,
           54,
           0,
           42.8,
           0.375,
           24,
           0
          ],
          [
           7,
           179,
           95,
           31,
           0,
           34.2,
           0.164,
           60,
           0
          ],
          [
           0,
           140,
           65,
           26,
           130,
           42.6,
           0.431,
           24,
           1
          ],
          [
           9,
           112,
           82,
           32,
           175,
           34.2,
           0.26,
           36,
           1
          ],
          [
           12,
           151,
           70,
           40,
           271,
           41.8,
           0.742,
           38,
           1
          ],
          [
           5,
           109,
           62,
           41,
           129,
           35.8,
           0.514,
           25,
           1
          ],
          [
           6,
           125,
           68,
           30,
           120,
           30,
           0.464,
           32,
           0
          ],
          [
           5,
           85,
           74,
           22,
           0,
           29,
           0.3725,
           32,
           1
          ],
          [
           5,
           112,
           66,
           0,
           0,
           37.8,
           0.261,
           41,
           1
          ],
          [
           0,
           177,
           60,
           29,
           30.5,
           34.6,
           1.072,
           21,
           1
          ],
          [
           2,
           158,
           90,
           0,
           0,
           31.6,
           0.805,
           66,
           1
          ],
          [
           7,
           119,
           72,
           0,
           0,
           25.2,
           0.209,
           37,
           0
          ],
          [
           7,
           142,
           60,
           33,
           190,
           28.8,
           0.687,
           61,
           0
          ],
          [
           1,
           100,
           66,
           15,
           56,
           23.6,
           0.666,
           26,
           0
          ],
          [
           1,
           87,
           78,
           27,
           32,
           34.6,
           0.101,
           22,
           0
          ],
          [
           0,
           101,
           76,
           0,
           0,
           35.7,
           0.198,
           26,
           0
          ],
          [
           3,
           162,
           52,
           38,
           0,
           37.2,
           0.652,
           24,
           1
          ],
          [
           4,
           197,
           70,
           39,
           30.5,
           36.7,
           0.3725,
           31,
           0
          ],
          [
           0,
           117,
           80,
           31,
           53,
           45.2,
           0.089,
           24,
           0
          ],
          [
           4,
           142,
           86,
           0,
           0,
           44,
           0.645,
           22,
           1
          ],
          [
           6,
           134,
           80,
           37,
           30.5,
           46.2,
           0.238,
           46,
           1
          ],
          [
           1,
           79,
           80,
           25,
           37,
           25.4,
           0.583,
           22,
           0
          ],
          [
           4,
           122,
           68,
           0,
           0,
           35,
           0.394,
           29,
           0
          ],
          [
           3,
           74,
           68,
           28,
           45,
           29.7,
           0.293,
           23,
           0
          ],
          [
           4,
           171,
           72,
           0,
           0,
           43.6,
           0.479,
           26,
           1
          ],
          [
           7,
           181,
           84,
           21,
           192,
           35.9,
           0.586,
           51,
           1
          ],
          [
           0,
           179,
           90,
           27,
           0,
           44.1,
           0.686,
           23,
           1
          ],
          [
           9,
           164,
           84,
           21,
           0,
           30.8,
           0.831,
           32,
           1
          ],
          [
           0,
           104,
           76,
           0,
           0,
           18.4,
           0.582,
           27,
           0
          ],
          [
           1,
           91,
           64,
           24,
           0,
           29.2,
           0.192,
           21,
           0
          ],
          [
           4,
           91,
           70,
           32,
           88,
           33.1,
           0.446,
           22,
           0
          ],
          [
           3,
           139,
           54,
           0,
           0,
           25.6,
           0.402,
           22,
           1
          ],
          [
           6,
           119,
           50,
           22,
           176,
           27.1,
           0.3725,
           33,
           1
          ],
          [
           2,
           146,
           76,
           35,
           194,
           38.2,
           0.329,
           29,
           0
          ],
          [
           9,
           184,
           85,
           15,
           0,
           30,
           0.3725,
           49,
           1
          ],
          [
           10,
           122,
           68,
           0,
           0,
           31.2,
           0.258,
           41,
           0
          ],
          [
           0,
           165,
           90,
           33,
           30.5,
           32,
           0.427,
           23,
           0
          ],
          [
           9,
           124,
           70,
           33,
           30.5,
           35.4,
           0.282,
           34,
           0
          ],
          [
           1,
           111,
           86,
           19,
           0,
           30.1,
           0.143,
           23,
           0
          ],
          [
           9,
           106,
           52,
           0,
           0,
           31.2,
           0.38,
           42,
           0
          ],
          [
           2,
           129,
           84,
           0,
           0,
           28,
           0.284,
           27,
           0
          ],
          [
           2,
           90,
           80,
           14,
           55,
           24.4,
           0.249,
           24,
           0
          ],
          [
           0,
           86,
           68,
           32,
           0,
           35.8,
           0.238,
           25,
           0
          ],
          [
           12,
           92,
           62,
           7,
           258,
           27.6,
           0.926,
           44,
           1
          ],
          [
           1,
           113,
           64,
           35,
           0,
           33.6,
           0.543,
           21,
           1
          ],
          [
           3,
           111,
           56,
           39,
           0,
           30.1,
           0.557,
           30,
           0
          ],
          [
           2,
           114,
           68,
           22,
           0,
           28.7,
           0.092,
           25,
           0
          ],
          [
           1,
           193,
           50,
           16,
           30.5,
           25.9,
           0.655,
           24,
           0
          ],
          [
           11,
           155,
           76,
           28,
           150,
           33.3,
           0.3725,
           51,
           1
          ],
          [
           3,
           191,
           68,
           15,
           130,
           30.9,
           0.299,
           34,
           0
          ],
          [
           3,
           141,
           72,
           0,
           0,
           30,
           0.761,
           27,
           1
          ],
          [
           4,
           95,
           70,
           32,
           0,
           32.1,
           0.612,
           24,
           0
          ],
          [
           3,
           142,
           80,
           15,
           0,
           32.4,
           0.2,
           63,
           0
          ],
          [
           4,
           123,
           62,
           0,
           0,
           32,
           0.226,
           35,
           1
          ],
          [
           5,
           96,
           74,
           18,
           67,
           33.6,
           0.997,
           43,
           0
          ],
          [
           0,
           138,
           72,
           0,
           0,
           36.3,
           0.933,
           25,
           1
          ],
          [
           2,
           128,
           64,
           42,
           0,
           40,
           1.101,
           24,
           0
          ],
          [
           0,
           102,
           52,
           0,
           0,
           25.1,
           0.078,
           21,
           0
          ],
          [
           2,
           146,
           72,
           0,
           0,
           27.5,
           0.24,
           28,
           1
          ],
          [
           10,
           101,
           86,
           37,
           0,
           45.6,
           1.136,
           38,
           1
          ],
          [
           2,
           108,
           62,
           32,
           56,
           25.2,
           0.128,
           21,
           0
          ],
          [
           3,
           122,
           78,
           0,
           0,
           23,
           0.254,
           40,
           0
          ],
          [
           1,
           71,
           78,
           50,
           45,
           33.2,
           0.422,
           21,
           0
          ],
          [
           13,
           106,
           70,
           0,
           0,
           34.2,
           0.251,
           52,
           0
          ],
          [
           2,
           100,
           70,
           52,
           57,
           40.5,
           0.677,
           25,
           0
          ],
          [
           7,
           106,
           60,
           24,
           0,
           26.5,
           0.296,
           29,
           1
          ],
          [
           0,
           104,
           64,
           23,
           116,
           27.8,
           0.454,
           23,
           0
          ],
          [
           5,
           114,
           74,
           0,
           0,
           24.9,
           0.744,
           57,
           0
          ],
          [
           2,
           108,
           62,
           10,
           278,
           25.3,
           0.881,
           22,
           0
          ],
          [
           0,
           146,
           70,
           0,
           0,
           37.9,
           0.334,
           28,
           1
          ],
          [
           10,
           129,
           76,
           28,
           122,
           35.9,
           0.28,
           39,
           0
          ],
          [
           7,
           133,
           88,
           15,
           155,
           32.4,
           0.262,
           37,
           0
          ],
          [
           7,
           161,
           86,
           0,
           0,
           30.4,
           0.165,
           47,
           1
          ],
          [
           2,
           108,
           80,
           0,
           0,
           27,
           0.259,
           52,
           1
          ],
          [
           7,
           136,
           74,
           26,
           135,
           26,
           0.647,
           51,
           0
          ],
          [
           5,
           155,
           84,
           44,
           30.5,
           38.7,
           0.619,
           34,
           0
          ],
          [
           1,
           119,
           86,
           39,
           220,
           45.6,
           0.808,
           29,
           1
          ],
          [
           4,
           96,
           56,
           17,
           49,
           20.8,
           0.34,
           26,
           0
          ],
          [
           5,
           108,
           72,
           43,
           75,
           36.1,
           0.263,
           33,
           0
          ],
          [
           0,
           78,
           88,
           29,
           40,
           36.9,
           0.434,
           21,
           0
          ],
          [
           0,
           107,
           62,
           30,
           74,
           36.6,
           0.757,
           25,
           1
          ],
          [
           2,
           128,
           78,
           37,
           182,
           43.3,
           0.3725,
           31,
           1
          ],
          [
           1,
           128,
           48,
           45,
           194,
           40.5,
           0.613,
           24,
           1
          ],
          [
           0,
           161,
           50,
           0,
           0,
           21.9,
           0.254,
           65,
           0
          ],
          [
           6,
           151,
           62,
           31,
           120,
           35.5,
           0.692,
           28,
           0
          ],
          [
           2,
           146,
           70,
           38,
           30.5,
           28,
           0.337,
           29,
           1
          ],
          [
           0,
           126,
           84,
           29,
           215,
           30.7,
           0.52,
           24,
           0
          ],
          [
           3,
           100,
           78,
           25,
           184,
           36.6,
           0.412,
           46,
           1
          ],
          [
           8,
           112,
           72,
           0,
           0,
           23.6,
           0.84,
           58,
           0
          ],
          [
           0,
           167,
           72,
           0,
           0,
           32.3,
           0.839,
           30,
           1
          ],
          [
           2,
           144,
           58,
           33,
           135,
           31.6,
           0.422,
           25,
           1
          ],
          [
           5,
           77,
           82,
           41,
           42,
           35.8,
           0.156,
           35,
           0
          ],
          [
           5,
           115,
           98,
           0,
           0,
           32,
           0.209,
           28,
           1
          ],
          [
           3,
           150,
           76,
           0,
           0,
           21,
           0.207,
           37,
           0
          ],
          [
           2,
           120,
           76,
           37,
           105,
           39.7,
           0.215,
           29,
           0
          ],
          [
           10,
           161,
           68,
           23,
           132,
           25.5,
           0.326,
           47,
           1
          ],
          [
           0,
           137,
           68,
           14,
           148,
           24.8,
           0.143,
           21,
           0
          ],
          [
           0,
           128,
           68,
           19,
           180,
           30.5,
           0.3725,
           25,
           1
          ],
          [
           2,
           124,
           68,
           28,
           205,
           32.9,
           0.875,
           30,
           1
          ],
          [
           6,
           80,
           66,
           30,
           0,
           26.2,
           0.313,
           41,
           0
          ],
          [
           0,
           106,
           70,
           37,
           148,
           39.4,
           0.605,
           22,
           0
          ],
          [
           2,
           155,
           74,
           17,
           96,
           26.6,
           0.433,
           27,
           1
          ],
          [
           3,
           113,
           50,
           10,
           85,
           29.5,
           0.626,
           25,
           0
          ],
          [
           7,
           109,
           80,
           31,
           0,
           35.9,
           1.127,
           43,
           1
          ],
          [
           2,
           112,
           68,
           22,
           94,
           34.1,
           0.315,
           26,
           0
          ],
          [
           3,
           99,
           80,
           11,
           64,
           19.3,
           0.284,
           30,
           0
          ],
          [
           3,
           182,
           74,
           0,
           0,
           30.5,
           0.345,
           29,
           1
          ],
          [
           3,
           115,
           66,
           39,
           140,
           38.1,
           0.15,
           28,
           0
          ],
          [
           6,
           194,
           78,
           0,
           0,
           23.5,
           0.129,
           59,
           1
          ],
          [
           4,
           129,
           60,
           12,
           231,
           27.5,
           0.527,
           31,
           0
          ],
          [
           3,
           112,
           74,
           30,
           0,
           31.6,
           0.197,
           25,
           1
          ],
          [
           0,
           124,
           70,
           20,
           0,
           27.4,
           0.254,
           36,
           1
          ],
          [
           13,
           152,
           90,
           33,
           29,
           26.8,
           0.731,
           43,
           1
          ],
          [
           2,
           112,
           75,
           32,
           0,
           35.7,
           0.148,
           21,
           0
          ],
          [
           1,
           157,
           72,
           21,
           168,
           25.6,
           0.123,
           24,
           0
          ],
          [
           1,
           122,
           64,
           32,
           156,
           35.1,
           0.692,
           30,
           1
          ],
          [
           10,
           179,
           70,
           0,
           0,
           35.1,
           0.2,
           37,
           0
          ],
          [
           2,
           102,
           86,
           36,
           120,
           45.5,
           0.127,
           23,
           1
          ],
          [
           6,
           105,
           70,
           32,
           68,
           30.8,
           0.122,
           37,
           0
          ],
          [
           8,
           118,
           72,
           19,
           0,
           23.1,
           0.3725,
           46,
           0
          ],
          [
           2,
           87,
           58,
           16,
           52,
           32.7,
           0.166,
           25,
           0
          ],
          [
           1,
           180,
           72,
           0,
           0,
           43.3,
           0.282,
           41,
           1
          ],
          [
           12,
           106,
           80,
           0,
           0,
           23.6,
           0.137,
           44,
           0
          ],
          [
           1,
           95,
           60,
           18,
           58,
           23.9,
           0.26,
           22,
           0
          ],
          [
           0,
           165,
           76,
           43,
           255,
           47.9,
           0.259,
           26,
           0
          ],
          [
           0,
           117,
           72,
           0,
           0,
           33.8,
           0.932,
           44,
           0
          ],
          [
           5,
           115,
           76,
           0,
           0,
           31.2,
           0.343,
           44,
           1
          ],
          [
           9,
           152,
           78,
           34,
           171,
           34.2,
           0.893,
           33,
           1
          ],
          [
           7,
           178,
           84,
           0,
           0,
           39.9,
           0.331,
           41,
           1
          ],
          [
           1,
           130,
           70,
           13,
           105,
           25.9,
           0.472,
           22,
           0
          ],
          [
           1,
           95,
           74,
           21,
           73,
           25.9,
           0.673,
           36,
           0
          ],
          [
           1,
           117,
           68,
           35,
           0,
           32,
           0.389,
           22,
           0
          ],
          [
           5,
           122,
           86,
           0,
           0,
           34.7,
           0.29,
           33,
           0
          ],
          [
           8,
           95,
           72,
           0,
           0,
           36.8,
           0.485,
           57,
           0
          ],
          [
           8,
           126,
           88,
           36,
           108,
           38.5,
           0.349,
           49,
           0
          ],
          [
           1,
           139,
           46,
           19,
           83,
           28.7,
           0.654,
           22,
           0
          ],
          [
           3,
           116,
           72,
           0,
           0,
           23.5,
           0.187,
           23,
           0
          ],
          [
           3,
           99,
           62,
           19,
           74,
           21.8,
           0.279,
           26,
           0
          ],
          [
           5,
           117,
           80,
           32,
           0,
           41,
           0.346,
           37,
           1
          ],
          [
           4,
           92,
           80,
           0,
           0,
           42.2,
           0.237,
           29,
           0
          ],
          [
           4,
           137,
           84,
           0,
           0,
           31.2,
           0.252,
           30,
           0
          ],
          [
           3,
           61,
           82,
           28,
           0,
           34.4,
           0.243,
           46,
           0
          ],
          [
           1,
           90,
           62,
           12,
           43,
           27.2,
           0.58,
           24,
           0
          ],
          [
           3,
           90,
           78,
           0,
           0,
           42.7,
           0.559,
           21,
           0
          ],
          [
           9,
           165,
           88,
           0,
           0,
           30.4,
           0.302,
           49,
           1
          ],
          [
           1,
           125,
           50,
           40,
           167,
           33.3,
           0.962,
           28,
           1
          ],
          [
           13,
           129,
           72,
           30,
           0,
           39.9,
           0.569,
           44,
           1
          ],
          [
           12,
           88,
           74,
           40,
           54,
           35.3,
           0.378,
           48,
           0
          ],
          [
           1,
           196,
           76,
           36,
           249,
           36.5,
           0.875,
           29,
           1
          ],
          [
           5,
           189,
           64,
           33,
           30.5,
           31.2,
           0.583,
           29,
           1
          ],
          [
           5,
           158,
           70,
           0,
           0,
           29.8,
           0.207,
           63,
           0
          ],
          [
           5,
           103,
           72,
           37,
           0,
           39.2,
           0.305,
           65,
           0
          ],
          [
           4,
           146,
           78,
           0,
           0,
           38.5,
           0.52,
           29,
           1
          ],
          [
           4,
           147,
           74,
           25,
           293,
           34.9,
           0.385,
           30,
           0
          ],
          [
           5,
           99,
           54,
           28,
           83,
           34,
           0.499,
           30,
           0
          ],
          [
           6,
           124,
           72,
           0,
           0,
           27.6,
           0.368,
           29,
           1
          ],
          [
           0,
           101,
           64,
           17,
           0,
           21,
           0.252,
           21,
           0
          ],
          [
           3,
           81,
           86,
           16,
           66,
           27.5,
           0.306,
           22,
           0
          ],
          [
           1,
           133,
           102,
           28,
           140,
           32.8,
           0.234,
           45,
           1
          ],
          [
           3,
           173,
           82,
           48,
           30.5,
           38.4,
           0.3725,
           25,
           1
          ],
          [
           0,
           118,
           64,
           23,
           89,
           32,
           0.3725,
           21,
           0
          ],
          [
           0,
           84,
           64,
           22,
           66,
           35.8,
           0.545,
           21,
           0
          ],
          [
           2,
           105,
           58,
           40,
           94,
           34.9,
           0.225,
           25,
           0
          ],
          [
           2,
           122,
           52,
           43,
           158,
           36.2,
           0.816,
           28,
           0
          ],
          [
           12,
           140,
           82,
           43,
           30.5,
           39.2,
           0.528,
           58,
           1
          ],
          [
           0,
           98,
           82,
           15,
           84,
           25.2,
           0.299,
           22,
           0
          ],
          [
           1,
           87,
           60,
           37,
           75,
           37.2,
           0.509,
           22,
           0
          ],
          [
           4,
           156,
           75,
           0,
           0,
           48.3,
           0.238,
           32,
           1
          ],
          [
           0,
           93,
           100,
           39,
           72,
           43.4,
           1.021,
           35,
           0
          ],
          [
           1,
           107,
           72,
           30,
           82,
           30.8,
           0.821,
           24,
           0
          ],
          [
           0,
           105,
           68,
           22,
           0,
           20,
           0.236,
           22,
           0
          ],
          [
           1,
           109,
           60,
           8,
           182,
           25.4,
           0.947,
           21,
           0
          ],
          [
           1,
           90,
           62,
           18,
           59,
           25.1,
           0.3725,
           25,
           0
          ],
          [
           1,
           125,
           70,
           24,
           110,
           24.3,
           0.221,
           25,
           0
          ],
          [
           1,
           119,
           54,
           13,
           50,
           22.3,
           0.205,
           24,
           0
          ],
          [
           5,
           116,
           74,
           29,
           0,
           32.3,
           0.66,
           35,
           1
          ],
          [
           8,
           105,
           100,
           36,
           0,
           43.3,
           0.239,
           45,
           1
          ],
          [
           5,
           144,
           82,
           26,
           285,
           32,
           0.452,
           58,
           1
          ],
          [
           3,
           100,
           68,
           23,
           81,
           31.6,
           0.949,
           28,
           0
          ],
          [
           1,
           100,
           66,
           29,
           196,
           32,
           0.444,
           42,
           0
          ],
          [
           5,
           166,
           76,
           0,
           0,
           45.7,
           0.34,
           27,
           1
          ],
          [
           1,
           131,
           64,
           14,
           30.5,
           23.7,
           0.389,
           21,
           0
          ],
          [
           4,
           116,
           72,
           12,
           87,
           22.1,
           0.463,
           37,
           0
          ],
          [
           4,
           158,
           78,
           0,
           0,
           32.9,
           0.803,
           31,
           1
          ],
          [
           2,
           127,
           58,
           24,
           275,
           27.7,
           0.3725,
           25,
           0
          ],
          [
           3,
           96,
           56,
           34,
           115,
           24.7,
           0.944,
           39,
           0
          ],
          [
           0,
           131,
           66,
           40,
           0,
           34.3,
           0.196,
           22,
           1
          ],
          [
           3,
           82,
           70,
           0,
           0,
           21.1,
           0.389,
           25,
           0
          ],
          [
           3,
           193,
           70,
           31,
           0,
           34.9,
           0.241,
           25,
           1
          ],
          [
           4,
           95,
           64,
           0,
           0,
           32,
           0.161,
           31,
           1
          ],
          [
           6,
           137,
           61,
           0,
           0,
           24.2,
           0.151,
           55,
           0
          ],
          [
           5,
           136,
           84,
           41,
           88,
           35,
           0.286,
           35,
           1
          ],
          [
           9,
           72,
           78,
           25,
           0,
           31.6,
           0.28,
           38,
           0
          ],
          [
           5,
           168,
           64,
           0,
           0,
           32.9,
           0.135,
           41,
           1
          ],
          [
           2,
           123,
           48,
           32,
           165,
           42.1,
           0.52,
           26,
           0
          ],
          [
           4,
           115,
           72,
           0,
           0,
           28.9,
           0.376,
           46,
           1
          ],
          [
           0,
           101,
           62,
           0,
           0,
           21.9,
           0.336,
           25,
           0
          ],
          [
           8,
           197,
           74,
           0,
           0,
           25.9,
           1.191,
           39,
           1
          ],
          [
           1,
           172,
           68,
           49,
           30.5,
           42.4,
           0.702,
           28,
           1
          ],
          [
           6,
           102,
           90,
           39,
           0,
           35.7,
           0.674,
           28,
           0
          ],
          [
           1,
           112,
           72,
           30,
           176,
           34.4,
           0.528,
           25,
           0
          ],
          [
           1,
           143,
           84,
           23,
           310,
           42.4,
           1.076,
           22,
           0
          ],
          [
           1,
           143,
           74,
           22,
           61,
           26.2,
           0.256,
           21,
           0
          ],
          [
           0,
           138,
           60,
           35,
           167,
           34.6,
           0.534,
           21,
           1
          ],
          [
           3,
           173,
           84,
           33,
           30.5,
           35.7,
           0.258,
           22,
           1
          ],
          [
           1,
           97,
           68,
           21,
           0,
           27.2,
           1.095,
           22,
           0
          ],
          [
           4,
           144,
           82,
           32,
           0,
           38.5,
           0.554,
           37,
           1
          ],
          [
           1,
           83,
           68,
           0,
           0,
           18.2,
           0.624,
           27,
           0
          ],
          [
           3,
           129,
           64,
           29,
           115,
           26.4,
           0.219,
           28,
           1
          ],
          [
           1,
           119,
           88,
           41,
           170,
           45.3,
           0.507,
           26,
           0
          ],
          [
           2,
           94,
           68,
           18,
           76,
           26,
           0.561,
           21,
           0
          ],
          [
           0,
           102,
           64,
           46,
           78,
           40.6,
           0.496,
           21,
           0
          ],
          [
           2,
           115,
           64,
           22,
           0,
           30.8,
           0.421,
           21,
           0
          ],
          [
           8,
           151,
           78,
           32,
           210,
           42.9,
           0.516,
           36,
           1
          ],
          [
           4,
           184,
           78,
           39,
           277,
           37,
           0.264,
           31,
           1
          ],
          [
           0,
           94,
           72,
           0,
           0,
           32,
           0.256,
           25,
           0
          ],
          [
           1,
           181,
           64,
           30,
           180,
           34.1,
           0.328,
           38,
           1
          ],
          [
           0,
           135,
           94,
           46,
           145,
           40.6,
           0.284,
           26,
           0
          ],
          [
           1,
           95,
           82,
           25,
           180,
           35,
           0.233,
           43,
           1
          ],
          [
           2,
           99,
           72,
           0,
           0,
           22.2,
           0.108,
           23,
           0
          ],
          [
           3,
           89,
           74,
           16,
           85,
           30.4,
           0.551,
           38,
           0
          ],
          [
           1,
           80,
           74,
           11,
           60,
           30,
           0.527,
           22,
           0
          ],
          [
           2,
           139,
           75,
           0,
           0,
           25.6,
           0.167,
           29,
           0
          ],
          [
           1,
           90,
           68,
           8,
           0,
           24.5,
           1.138,
           36,
           0
          ],
          [
           0,
           141,
           72,
           0,
           0,
           42.4,
           0.205,
           29,
           1
          ],
          [
           12,
           140,
           85,
           33,
           0,
           37.4,
           0.244,
           41,
           0
          ],
          [
           5,
           147,
           75,
           0,
           0,
           29.9,
           0.434,
           28,
           0
          ],
          [
           1,
           97,
           70,
           15,
           0,
           18.2,
           0.147,
           21,
           0
          ],
          [
           6,
           107,
           88,
           0,
           0,
           36.8,
           0.727,
           31,
           0
          ],
          [
           0,
           189,
           104,
           25,
           0,
           34.3,
           0.435,
           41,
           1
          ],
          [
           2,
           83,
           66,
           23,
           50,
           32.2,
           0.497,
           22,
           0
          ],
          [
           4,
           117,
           64,
           27,
           120,
           33.2,
           0.23,
           24,
           0
          ],
          [
           8,
           108,
           70,
           0,
           0,
           30.5,
           0.955,
           33,
           1
          ],
          [
           4,
           117,
           62,
           12,
           0,
           29.7,
           0.38,
           30,
           1
          ],
          [
           0,
           180,
           78,
           63,
           14,
           32,
           0.3725,
           25,
           1
          ],
          [
           1,
           100,
           72,
           12,
           70,
           25.3,
           0.658,
           28,
           0
          ],
          [
           0,
           95,
           80,
           45,
           92,
           36.5,
           0.33,
           26,
           0
          ],
          [
           0,
           104,
           64,
           37,
           64,
           33.6,
           0.51,
           22,
           1
          ],
          [
           0,
           120,
           74,
           18,
           63,
           30.5,
           0.285,
           26,
           0
          ],
          [
           1,
           82,
           64,
           13,
           95,
           21.2,
           0.415,
           23,
           0
          ],
          [
           2,
           134,
           70,
           0,
           0,
           28.9,
           0.542,
           23,
           1
          ],
          [
           0,
           91,
           68,
           32,
           210,
           39.9,
           0.381,
           25,
           0
          ],
          [
           2,
           119,
           72,
           0,
           0,
           19.6,
           0.832,
           29,
           0
          ],
          [
           2,
           100,
           54,
           28,
           105,
           37.8,
           0.498,
           24,
           0
          ],
          [
           3,
           175,
           62,
           30,
           0,
           33.6,
           0.212,
           38,
           1
          ],
          [
           1,
           135,
           54,
           0,
           0,
           26.7,
           0.687,
           62,
           0
          ],
          [
           5,
           86,
           68,
           28,
           71,
           30.2,
           0.364,
           24,
           0
          ],
          [
           10,
           148,
           84,
           48,
           237,
           37.6,
           1.001,
           51,
           1
          ],
          [
           9,
           134,
           74,
           33,
           60,
           25.9,
           0.46,
           29,
           0
          ],
          [
           9,
           120,
           72,
           22,
           56,
           20.8,
           0.733,
           48,
           0
          ],
          [
           1,
           71,
           62,
           0,
           0,
           21.8,
           0.416,
           26,
           0
          ],
          [
           8,
           74,
           70,
           40,
           49,
           35.3,
           0.705,
           39,
           0
          ],
          [
           5,
           88,
           78,
           30,
           0,
           27.6,
           0.258,
           37,
           0
          ],
          [
           10,
           115,
           98,
           0,
           0,
           24,
           1.022,
           34,
           0
          ],
          [
           0,
           124,
           56,
           13,
           105,
           21.8,
           0.452,
           21,
           0
          ],
          [
           0,
           74,
           52,
           10,
           36,
           27.8,
           0.269,
           22,
           0
          ],
          [
           0,
           97,
           64,
           36,
           100,
           36.8,
           0.6,
           25,
           0
          ],
          [
           8,
           120,
           72,
           0,
           0,
           30,
           0.183,
           38,
           1
          ],
          [
           6,
           154,
           78,
           41,
           140,
           46.1,
           0.571,
           27,
           0
          ],
          [
           1,
           144,
           82,
           40,
           0,
           41.3,
           0.607,
           28,
           0
          ],
          [
           0,
           137,
           70,
           38,
           0,
           33.2,
           0.17,
           22,
           0
          ],
          [
           0,
           119,
           66,
           27,
           0,
           38.8,
           0.259,
           22,
           0
          ],
          [
           7,
           136,
           90,
           0,
           0,
           29.9,
           0.21,
           50,
           0
          ],
          [
           4,
           114,
           64,
           0,
           0,
           28.9,
           0.126,
           24,
           0
          ],
          [
           0,
           137,
           84,
           27,
           0,
           27.3,
           0.231,
           59,
           0
          ],
          [
           2,
           105,
           80,
           45,
           191,
           33.7,
           0.711,
           29,
           1
          ],
          [
           7,
           114,
           76,
           17,
           110,
           23.8,
           0.466,
           31,
           0
          ],
          [
           8,
           126,
           74,
           38,
           75,
           25.9,
           0.162,
           39,
           0
          ],
          [
           4,
           132,
           86,
           31,
           0,
           28,
           0.419,
           63,
           0
          ],
          [
           3,
           158,
           70,
           30,
           30.5,
           35.5,
           0.344,
           35,
           1
          ],
          [
           0,
           123,
           88,
           37,
           0,
           35.2,
           0.197,
           29,
           0
          ],
          [
           4,
           85,
           58,
           22,
           49,
           27.8,
           0.306,
           28,
           0
          ],
          [
           0,
           84,
           82,
           31,
           125,
           38.2,
           0.233,
           23,
           0
          ],
          [
           0,
           145,
           72,
           0,
           0,
           44.2,
           0.63,
           31,
           1
          ],
          [
           0,
           135,
           68,
           42,
           250,
           42.3,
           0.365,
           24,
           1
          ],
          [
           1,
           139,
           62,
           41,
           30.5,
           40.7,
           0.536,
           21,
           0
          ],
          [
           0,
           173,
           78,
           32,
           265,
           46.5,
           1.159,
           58,
           0
          ],
          [
           4,
           99,
           72,
           17,
           0,
           25.6,
           0.294,
           28,
           0
          ],
          [
           8,
           194,
           80,
           0,
           0,
           26.1,
           0.551,
           29,
           0
          ],
          [
           2,
           83,
           65,
           28,
           66,
           36.8,
           0.629,
           24,
           0
          ],
          [
           2,
           89,
           90,
           30,
           0,
           33.5,
           0.292,
           42,
           0
          ],
          [
           4,
           99,
           68,
           38,
           0,
           32.8,
           0.145,
           33,
           0
          ],
          [
           4,
           125,
           70,
           18,
           122,
           28.9,
           1.144,
           45,
           1
          ],
          [
           3,
           80,
           72,
           0,
           0,
           32,
           0.174,
           22,
           0
          ],
          [
           6,
           166,
           74,
           0,
           0,
           26.6,
           0.304,
           66,
           0
          ],
          [
           5,
           110,
           68,
           0,
           0,
           26,
           0.292,
           30,
           0
          ],
          [
           2,
           81,
           72,
           15,
           76,
           30.1,
           0.547,
           25,
           0
          ],
          [
           7,
           195,
           70,
           33,
           145,
           25.1,
           0.163,
           55,
           1
          ],
          [
           6,
           154,
           74,
           32,
           193,
           29.3,
           0.839,
           39,
           0
          ],
          [
           2,
           117,
           90,
           19,
           71,
           25.2,
           0.313,
           21,
           0
          ],
          [
           3,
           84,
           72,
           32,
           0,
           37.2,
           0.267,
           28,
           0
          ],
          [
           6,
           117,
           68,
           41,
           0,
           39,
           0.727,
           41,
           1
          ],
          [
           7,
           94,
           64,
           25,
           79,
           33.3,
           0.738,
           41,
           0
          ],
          [
           3,
           96,
           78,
           39,
           0,
           37.3,
           0.238,
           40,
           0
          ],
          [
           10,
           75,
           82,
           0,
           0,
           33.3,
           0.263,
           38,
           0
          ],
          [
           0,
           180,
           90,
           26,
           90,
           36.5,
           0.314,
           35,
           1
          ],
          [
           1,
           130,
           60,
           23,
           170,
           28.6,
           0.692,
           21,
           0
          ],
          [
           2,
           84,
           50,
           23,
           76,
           30.4,
           0.968,
           21,
           0
          ],
          [
           8,
           120,
           78,
           0,
           0,
           25,
           0.409,
           64,
           0
          ],
          [
           12,
           84,
           72,
           31,
           0,
           29.7,
           0.297,
           46,
           1
          ],
          [
           0,
           139,
           62,
           17,
           210,
           22.1,
           0.207,
           21,
           0
          ],
          [
           9,
           91,
           68,
           0,
           0,
           24.2,
           0.2,
           58,
           0
          ],
          [
           2,
           91,
           62,
           0,
           0,
           27.3,
           0.525,
           22,
           0
          ],
          [
           3,
           99,
           54,
           19,
           86,
           25.6,
           0.154,
           24,
           0
          ],
          [
           3,
           163,
           70,
           18,
           105,
           31.6,
           0.268,
           28,
           1
          ],
          [
           9,
           145,
           88,
           34,
           165,
           30.3,
           0.771,
           53,
           1
          ],
          [
           7,
           125,
           86,
           0,
           0,
           37.6,
           0.304,
           51,
           0
          ],
          [
           13,
           76,
           60,
           0,
           0,
           32.8,
           0.18,
           41,
           0
          ],
          [
           6,
           129,
           90,
           7,
           30.5,
           19.6,
           0.582,
           60,
           0
          ],
          [
           2,
           68,
           70,
           32,
           66,
           25,
           0.187,
           25,
           0
          ],
          [
           3,
           124,
           80,
           33,
           130,
           33.2,
           0.305,
           26,
           0
          ],
          [
           6,
           114,
           72,
           0,
           0,
           32,
           0.189,
           26,
           0
          ],
          [
           9,
           130,
           70,
           0,
           0,
           34.2,
           0.652,
           45,
           1
          ],
          [
           3,
           125,
           58,
           0,
           0,
           31.6,
           0.151,
           24,
           0
          ],
          [
           3,
           87,
           60,
           18,
           0,
           21.8,
           0.444,
           21,
           0
          ],
          [
           1,
           97,
           64,
           19,
           82,
           18.2,
           0.299,
           21,
           0
          ],
          [
           3,
           116,
           74,
           15,
           105,
           26.3,
           0.107,
           24,
           0
          ],
          [
           0,
           117,
           66,
           31,
           188,
           30.8,
           0.493,
           22,
           0
          ],
          [
           0,
           111,
           65,
           0,
           0,
           24.6,
           0.66,
           31,
           0
          ],
          [
           2,
           122,
           60,
           18,
           106,
           29.8,
           0.717,
           22,
           0
          ],
          [
           0,
           107,
           76,
           0,
           0,
           45.3,
           0.686,
           24,
           0
          ],
          [
           1,
           86,
           66,
           52,
           65,
           41.3,
           0.917,
           29,
           0
          ],
          [
           6,
           91,
           72,
           0,
           0,
           29.8,
           0.501,
           31,
           0
          ],
          [
           1,
           77,
           56,
           30,
           56,
           33.3,
           0.3725,
           24,
           0
          ],
          [
           4,
           132,
           72,
           0,
           0,
           32.9,
           0.302,
           23,
           1
          ],
          [
           0,
           105,
           90,
           0,
           0,
           29.6,
           0.197,
           46,
           0
          ],
          [
           0,
           57,
           60,
           0,
           0,
           21.7,
           0.735,
           29,
           0
          ],
          [
           0,
           127,
           80,
           37,
           210,
           36.3,
           0.804,
           23,
           0
          ],
          [
           3,
           129,
           92,
           49,
           155,
           36.4,
           0.968,
           32,
           1
          ],
          [
           8,
           100,
           74,
           40,
           215,
           39.4,
           0.661,
           43,
           1
          ],
          [
           3,
           128,
           72,
           25,
           190,
           32.4,
           0.549,
           27,
           1
          ],
          [
           10,
           90,
           85,
           32,
           0,
           34.9,
           0.825,
           56,
           1
          ],
          [
           4,
           84,
           90,
           23,
           56,
           39.5,
           0.159,
           25,
           0
          ],
          [
           1,
           88,
           78,
           29,
           76,
           32,
           0.365,
           29,
           0
          ],
          [
           8,
           186,
           90,
           35,
           225,
           34.5,
           0.423,
           37,
           1
          ],
          [
           5,
           187,
           76,
           27,
           207,
           43.6,
           1.034,
           53,
           1
          ],
          [
           4,
           131,
           68,
           21,
           166,
           33.1,
           0.16,
           28,
           0
          ],
          [
           1,
           164,
           82,
           43,
           67,
           32.8,
           0.341,
           50,
           0
          ],
          [
           4,
           189,
           72,
           31,
           0,
           28.5,
           0.68,
           37,
           0
          ],
          [
           1,
           116,
           70,
           28,
           0,
           27.4,
           0.204,
           21,
           0
          ],
          [
           3,
           84,
           68,
           30,
           106,
           31.9,
           0.591,
           25,
           0
          ],
          [
           6,
           114,
           88,
           0,
           0,
           27.8,
           0.247,
           66,
           0
          ],
          [
           1,
           88,
           62,
           24,
           44,
           29.9,
           0.422,
           23,
           0
          ],
          [
           1,
           84,
           64,
           23,
           115,
           36.9,
           0.471,
           28,
           0
          ],
          [
           7,
           124,
           70,
           33,
           215,
           25.5,
           0.161,
           37,
           0
          ],
          [
           1,
           97,
           70,
           40,
           0,
           38.1,
           0.218,
           30,
           0
          ],
          [
           8,
           110,
           76,
           0,
           0,
           27.8,
           0.237,
           58,
           0
          ],
          [
           11,
           103,
           68,
           40,
           0,
           46.2,
           0.126,
           42,
           0
          ],
          [
           11,
           85,
           74,
           0,
           0,
           30.1,
           0.3,
           35,
           0
          ],
          [
           6,
           125,
           76,
           0,
           0,
           33.8,
           0.121,
           54,
           1
          ],
          [
           0,
           198,
           66,
           32,
           274,
           41.3,
           0.502,
           28,
           1
          ],
          [
           1,
           87,
           68,
           34,
           77,
           37.6,
           0.401,
           24,
           0
          ],
          [
           6,
           99,
           60,
           19,
           54,
           26.9,
           0.497,
           32,
           0
          ],
          [
           0,
           91,
           80,
           0,
           0,
           32.4,
           0.601,
           27,
           0
          ],
          [
           2,
           95,
           54,
           14,
           88,
           26.1,
           0.748,
           22,
           0
          ],
          [
           1,
           99,
           72,
           30,
           18,
           38.6,
           0.412,
           21,
           0
          ],
          [
           6,
           92,
           62,
           32,
           126,
           32,
           0.085,
           46,
           0
          ],
          [
           4,
           154,
           72,
           29,
           126,
           31.3,
           0.338,
           37,
           0
          ],
          [
           0,
           121,
           66,
           30,
           165,
           34.3,
           0.203,
           33,
           1
          ],
          [
           3,
           78,
           70,
           0,
           0,
           32.5,
           0.27,
           39,
           0
          ],
          [
           2,
           130,
           96,
           0,
           0,
           22.6,
           0.268,
           21,
           0
          ],
          [
           3,
           111,
           58,
           31,
           44,
           29.5,
           0.43,
           22,
           0
          ],
          [
           2,
           98,
           60,
           17,
           120,
           34.7,
           0.198,
           22,
           0
          ],
          [
           1,
           143,
           86,
           30,
           30.5,
           30.1,
           0.892,
           23,
           0
          ],
          [
           1,
           119,
           44,
           47,
           63,
           35.5,
           0.28,
           25,
           0
          ],
          [
           6,
           108,
           44,
           20,
           130,
           24,
           0.813,
           35,
           0
          ],
          [
           2,
           118,
           80,
           0,
           0,
           42.9,
           0.693,
           21,
           1
          ],
          [
           10,
           133,
           68,
           0,
           0,
           27,
           0.245,
           36,
           0
          ],
          [
           2,
           197,
           70,
           23,
           0,
           34.7,
           0.575,
           62,
           1
          ],
          [
           0,
           151,
           90,
           46,
           0,
           42.1,
           0.371,
           21,
           1
          ],
          [
           6,
           109,
           60,
           27,
           0,
           25,
           0.206,
           27,
           0
          ],
          [
           12,
           121,
           78,
           17,
           0,
           26.5,
           0.259,
           62,
           0
          ],
          [
           8,
           100,
           76,
           0,
           0,
           38.7,
           0.19,
           42,
           0
          ],
          [
           8,
           124,
           76,
           24,
           30.5,
           28.7,
           0.687,
           52,
           1
          ],
          [
           1,
           93,
           56,
           11,
           0,
           22.5,
           0.417,
           22,
           0
          ],
          [
           8,
           143,
           66,
           0,
           0,
           34.9,
           0.129,
           41,
           1
          ],
          [
           6,
           103,
           66,
           0,
           0,
           24.3,
           0.249,
           29,
           0
          ],
          [
           3,
           176,
           86,
           27,
           156,
           33.3,
           1.154,
           52,
           1
          ],
          [
           0,
           73,
           72,
           0,
           0,
           21.1,
           0.342,
           25,
           0
          ],
          [
           11,
           111,
           84,
           40,
           0,
           46.8,
           0.925,
           45,
           1
          ],
          [
           2,
           112,
           78,
           50,
           140,
           39.4,
           0.175,
           24,
           0
          ],
          [
           3,
           132,
           80,
           0,
           0,
           34.4,
           0.402,
           44,
           1
          ],
          [
           2,
           82,
           52,
           22,
           115,
           28.5,
           0.3725,
           25,
           0
          ],
          [
           6,
           123,
           72,
           45,
           230,
           33.6,
           0.733,
           34,
           0
          ],
          [
           0,
           188,
           82,
           14,
           185,
           32,
           0.682,
           22,
           1
          ],
          [
           0,
           67,
           76,
           0,
           0,
           45.3,
           0.194,
           46,
           0
          ],
          [
           1,
           89,
           72,
           19,
           25,
           27.8,
           0.559,
           21,
           0
          ],
          [
           1,
           173,
           74,
           0,
           0,
           36.8,
           0.088,
           38,
           1
          ],
          [
           1,
           109,
           38,
           18,
           120,
           23.1,
           0.407,
           26,
           0
          ],
          [
           1,
           108,
           88,
           19,
           0,
           27.1,
           0.4,
           24,
           0
          ],
          [
           6,
           96,
           72,
           0,
           0,
           23.7,
           0.19,
           28,
           0
          ],
          [
           1,
           124,
           74,
           36,
           0,
           27.8,
           0.1,
           30,
           0
          ],
          [
           7,
           150,
           78,
           29,
           126,
           35.2,
           0.692,
           54,
           1
          ],
          [
           4,
           183,
           72,
           0,
           0,
           28.4,
           0.212,
           36,
           1
          ],
          [
           1,
           124,
           60,
           32,
           0,
           35.8,
           0.514,
           21,
           0
          ],
          [
           1,
           181,
           78,
           42,
           293,
           40,
           0.3725,
           22,
           1
          ],
          [
           1,
           92,
           62,
           25,
           41,
           19.5,
           0.482,
           25,
           0
          ],
          [
           0,
           152,
           82,
           39,
           272,
           41.5,
           0.27,
           27,
           0
          ],
          [
           1,
           111,
           62,
           13,
           182,
           24,
           0.138,
           23,
           0
          ],
          [
           3,
           106,
           54,
           21,
           158,
           30.9,
           0.292,
           24,
           0
          ],
          [
           3,
           174,
           58,
           22,
           194,
           32.9,
           0.593,
           36,
           1
          ],
          [
           7,
           168,
           88,
           42,
           30.5,
           38.2,
           0.787,
           40,
           1
          ],
          [
           6,
           105,
           80,
           28,
           0,
           32.5,
           0.878,
           26,
           0
          ],
          [
           11,
           138,
           74,
           26,
           144,
           36.1,
           0.557,
           50,
           1
          ],
          [
           3,
           106,
           72,
           0,
           0,
           25.8,
           0.207,
           27,
           0
          ],
          [
           6,
           117,
           96,
           0,
           0,
           28.7,
           0.157,
           30,
           0
          ],
          [
           2,
           68,
           62,
           13,
           15,
           20.1,
           0.257,
           23,
           0
          ],
          [
           9,
           112,
           82,
           24,
           0,
           28.2,
           0.3725,
           50,
           1
          ],
          [
           0,
           119,
           72,
           0,
           0,
           32.4,
           0.141,
           24,
           1
          ],
          [
           2,
           112,
           86,
           42,
           160,
           38.4,
           0.246,
           28,
           0
          ],
          [
           2,
           92,
           76,
           20,
           0,
           24.2,
           0.3725,
           28,
           0
          ],
          [
           6,
           183,
           94,
           0,
           0,
           40.8,
           0.3725,
           45,
           0
          ],
          [
           0,
           94,
           70,
           27,
           115,
           43.5,
           0.347,
           21,
           0
          ],
          [
           2,
           108,
           64,
           0,
           0,
           30.8,
           0.158,
           21,
           0
          ],
          [
           4,
           90,
           88,
           47,
           54,
           37.7,
           0.362,
           29,
           0
          ],
          [
           0,
           125,
           68,
           0,
           0,
           24.7,
           0.206,
           21,
           0
          ],
          [
           0,
           132,
           78,
           0,
           0,
           32.4,
           0.393,
           21,
           0
          ],
          [
           5,
           128,
           80,
           0,
           0,
           34.6,
           0.144,
           45,
           0
          ],
          [
           4,
           94,
           65,
           22,
           0,
           24.7,
           0.148,
           21,
           0
          ],
          [
           7,
           114,
           64,
           0,
           0,
           27.4,
           0.732,
           34,
           1
          ],
          [
           0,
           102,
           78,
           40,
           90,
           34.5,
           0.238,
           24,
           0
          ],
          [
           2,
           111,
           60,
           0,
           0,
           26.2,
           0.343,
           23,
           0
          ],
          [
           1,
           128,
           82,
           17,
           183,
           27.5,
           0.115,
           22,
           0
          ],
          [
           10,
           92,
           62,
           0,
           0,
           25.9,
           0.167,
           31,
           0
          ],
          [
           13,
           104,
           72,
           0,
           0,
           31.2,
           0.465,
           38,
           1
          ],
          [
           5,
           104,
           74,
           0,
           0,
           28.8,
           0.153,
           48,
           0
          ],
          [
           2,
           94,
           76,
           18,
           66,
           31.6,
           0.649,
           23,
           0
          ],
          [
           7,
           97,
           76,
           32,
           91,
           40.9,
           0.871,
           32,
           1
          ],
          [
           1,
           100,
           74,
           12,
           46,
           19.5,
           0.149,
           28,
           0
          ],
          [
           0,
           102,
           86,
           17,
           105,
           29.3,
           0.695,
           27,
           0
          ],
          [
           4,
           128,
           70,
           0,
           0,
           34.3,
           0.303,
           24,
           0
          ],
          [
           6,
           147,
           80,
           0,
           0,
           29.5,
           0.178,
           50,
           1
          ],
          [
           4,
           90,
           72,
           0,
           0,
           28,
           0.61,
           31,
           0
          ],
          [
           3,
           103,
           72,
           30,
           152,
           27.6,
           0.73,
           27,
           0
          ],
          [
           2,
           157,
           74,
           35,
           30.5,
           39.4,
           0.134,
           30,
           0
          ],
          [
           1,
           167,
           74,
           17,
           144,
           23.4,
           0.447,
           33,
           1
          ],
          [
           0,
           179,
           50,
           36,
           159,
           37.8,
           0.455,
           22,
           1
          ],
          [
           11,
           136,
           84,
           35,
           130,
           28.3,
           0.26,
           42,
           1
          ],
          [
           0,
           107,
           60,
           25,
           0,
           26.4,
           0.133,
           23,
           0
          ],
          [
           1,
           91,
           54,
           25,
           100,
           25.2,
           0.234,
           23,
           0
          ],
          [
           1,
           117,
           60,
           23,
           106,
           33.8,
           0.466,
           27,
           0
          ],
          [
           5,
           123,
           74,
           40,
           77,
           34.1,
           0.269,
           28,
           0
          ],
          [
           2,
           120,
           54,
           0,
           0,
           26.8,
           0.455,
           27,
           0
          ],
          [
           1,
           106,
           70,
           28,
           135,
           34.2,
           0.142,
           22,
           0
          ],
          [
           2,
           155,
           52,
           27,
           30.5,
           38.7,
           0.24,
           25,
           1
          ],
          [
           2,
           101,
           58,
           35,
           90,
           21.8,
           0.155,
           22,
           0
          ],
          [
           1,
           120,
           80,
           48,
           200,
           38.9,
           1.162,
           41,
           0
          ],
          [
           11,
           127,
           106,
           0,
           0,
           39,
           0.19,
           51,
           0
          ],
          [
           3,
           80,
           82,
           31,
           70,
           34.2,
           0.3725,
           27,
           1
          ],
          [
           10,
           162,
           84,
           0,
           0,
           27.7,
           0.182,
           54,
           0
          ],
          [
           1,
           199,
           76,
           43,
           0,
           42.9,
           0.3725,
           22,
           1
          ],
          [
           8,
           167,
           106,
           46,
           231,
           37.6,
           0.165,
           43,
           1
          ],
          [
           9,
           145,
           80,
           46,
           130,
           37.9,
           0.637,
           40,
           1
          ],
          [
           6,
           115,
           60,
           39,
           0,
           33.7,
           0.245,
           40,
           1
          ],
          [
           1,
           112,
           80,
           45,
           132,
           34.8,
           0.217,
           24,
           0
          ],
          [
           4,
           145,
           82,
           18,
           0,
           32.5,
           0.235,
           29,
           1
          ],
          [
           10,
           111,
           70,
           27,
           0,
           27.5,
           0.141,
           40,
           1
          ],
          [
           6,
           98,
           58,
           33,
           190,
           34,
           0.43,
           43,
           0
          ],
          [
           9,
           154,
           78,
           30,
           100,
           30.9,
           0.164,
           45,
           0
          ],
          [
           6,
           165,
           68,
           26,
           168,
           33.6,
           0.631,
           49,
           0
          ],
          [
           1,
           99,
           58,
           10,
           0,
           25.4,
           0.551,
           21,
           0
          ],
          [
           10,
           68,
           106,
           23,
           49,
           35.5,
           0.285,
           47,
           0
          ],
          [
           3,
           123,
           100,
           35,
           240,
           32,
           0.88,
           22,
           0
          ],
          [
           8,
           91,
           82,
           0,
           0,
           35.6,
           0.587,
           29,
           0
          ],
          [
           6,
           195,
           70,
           0,
           0,
           30.9,
           0.328,
           31,
           1
          ],
          [
           9,
           156,
           86,
           0,
           0,
           24.8,
           0.23,
           53,
           1
          ],
          [
           0,
           93,
           60,
           0,
           0,
           35.3,
           0.263,
           25,
           0
          ],
          [
           3,
           121,
           52,
           0,
           0,
           36,
           0.127,
           25,
           1
          ],
          [
           2,
           101,
           58,
           17,
           265,
           24.2,
           0.614,
           23,
           0
          ],
          [
           2,
           56,
           56,
           28,
           45,
           24.2,
           0.332,
           22,
           0
          ],
          [
           0,
           162,
           76,
           36,
           0,
           49.6,
           0.364,
           26,
           1
          ],
          [
           0,
           95,
           64,
           39,
           105,
           44.6,
           0.366,
           22,
           0
          ],
          [
           4,
           125,
           80,
           0,
           0,
           32.3,
           0.536,
           27,
           1
          ],
          [
           5,
           136,
           82,
           0,
           0,
           32,
           0.64,
           29,
           0
          ],
          [
           2,
           129,
           74,
           26,
           205,
           33.2,
           0.591,
           25,
           0
          ],
          [
           3,
           130,
           64,
           0,
           0,
           23.1,
           0.314,
           22,
           0
          ],
          [
           1,
           107,
           50,
           19,
           0,
           28.3,
           0.181,
           29,
           0
          ],
          [
           1,
           140,
           74,
           26,
           180,
           24.1,
           0.828,
           23,
           0
          ],
          [
           1,
           144,
           82,
           46,
           180,
           46.1,
           0.335,
           46,
           1
          ],
          [
           8,
           107,
           80,
           0,
           0,
           24.6,
           0.856,
           34,
           0
          ],
          [
           13,
           158,
           72,
           0,
           0,
           42.3,
           0.257,
           44,
           1
          ],
          [
           2,
           121,
           70,
           32,
           95,
           39.1,
           0.886,
           23,
           0
          ],
          [
           7,
           129,
           68,
           49,
           125,
           38.5,
           0.439,
           43,
           1
          ],
          [
           2,
           90,
           60,
           0,
           0,
           23.5,
           0.191,
           25,
           0
          ],
          [
           7,
           142,
           90,
           24,
           30.5,
           30.4,
           0.128,
           43,
           1
          ],
          [
           3,
           169,
           74,
           19,
           125,
           29.9,
           0.268,
           31,
           1
          ],
          [
           0,
           99,
           72,
           0,
           0,
           25,
           0.253,
           22,
           0
          ],
          [
           4,
           127,
           88,
           11,
           155,
           34.5,
           0.598,
           28,
           0
          ],
          [
           4,
           118,
           70,
           0,
           0,
           44.5,
           0.904,
           26,
           0
          ],
          [
           2,
           122,
           76,
           27,
           200,
           35.9,
           0.483,
           26,
           0
          ],
          [
           6,
           125,
           78,
           31,
           0,
           27.6,
           0.565,
           49,
           1
          ],
          [
           1,
           168,
           88,
           29,
           0,
           35,
           0.905,
           52,
           1
          ],
          [
           2,
           129,
           72,
           0,
           0,
           38.5,
           0.304,
           41,
           0
          ],
          [
           4,
           110,
           76,
           20,
           100,
           28.4,
           0.118,
           27,
           0
          ],
          [
           6,
           80,
           80,
           36,
           0,
           39.8,
           0.177,
           28,
           0
          ],
          [
           10,
           115,
           72,
           0,
           0,
           32,
           0.261,
           30,
           1
          ],
          [
           2,
           127,
           46,
           21,
           30.5,
           34.4,
           0.176,
           22,
           0
          ],
          [
           9,
           164,
           78,
           0,
           0,
           32.8,
           0.148,
           45,
           1
          ],
          [
           2,
           93,
           64,
           32,
           160,
           38,
           0.674,
           23,
           1
          ],
          [
           3,
           158,
           64,
           13,
           30.5,
           31.2,
           0.295,
           24,
           0
          ],
          [
           5,
           126,
           78,
           27,
           22,
           29.6,
           0.439,
           40,
           0
          ],
          [
           10,
           129,
           62,
           36,
           0,
           41.2,
           0.441,
           38,
           1
          ],
          [
           0,
           134,
           58,
           20,
           291,
           26.4,
           0.352,
           21,
           0
          ],
          [
           3,
           102,
           74,
           0,
           0,
           29.5,
           0.121,
           32,
           0
          ],
          [
           7,
           187,
           50,
           33,
           30.5,
           33.9,
           0.826,
           34,
           1
          ],
          [
           3,
           173,
           78,
           39,
           185,
           33.8,
           0.97,
           31,
           1
          ],
          [
           10,
           94,
           72,
           18,
           0,
           23.1,
           0.595,
           56,
           0
          ],
          [
           1,
           108,
           60,
           46,
           178,
           35.5,
           0.415,
           24,
           0
          ],
          [
           5,
           97,
           76,
           27,
           0,
           35.6,
           0.378,
           52,
           1
          ],
          [
           4,
           83,
           86,
           19,
           0,
           29.3,
           0.317,
           34,
           0
          ],
          [
           1,
           114,
           66,
           36,
           200,
           38.1,
           0.289,
           21,
           0
          ],
          [
           1,
           149,
           68,
           29,
           127,
           29.3,
           0.349,
           42,
           1
          ],
          [
           5,
           117,
           86,
           30,
           105,
           39.1,
           0.251,
           42,
           0
          ],
          [
           1,
           111,
           94,
           0,
           0,
           32.8,
           0.265,
           45,
           0
          ],
          [
           4,
           112,
           78,
           40,
           0,
           39.4,
           0.236,
           38,
           0
          ],
          [
           1,
           116,
           78,
           29,
           180,
           36.1,
           0.496,
           25,
           0
          ],
          [
           0,
           141,
           84,
           26,
           0,
           32.4,
           0.433,
           22,
           0
          ],
          [
           2,
           175,
           88,
           0,
           0,
           22.9,
           0.326,
           22,
           0
          ],
          [
           2,
           92,
           52,
           0,
           0,
           30.1,
           0.141,
           22,
           0
          ],
          [
           3,
           130,
           78,
           23,
           79,
           28.4,
           0.323,
           34,
           1
          ],
          [
           8,
           120,
           86,
           0,
           0,
           28.4,
           0.259,
           22,
           1
          ],
          [
           2,
           174,
           88,
           37,
           120,
           44.5,
           0.646,
           24,
           1
          ],
          [
           2,
           106,
           56,
           27,
           165,
           29,
           0.426,
           22,
           0
          ],
          [
           2,
           105,
           75,
           0,
           0,
           23.3,
           0.56,
           53,
           0
          ],
          [
           4,
           95,
           60,
           32,
           0,
           35.4,
           0.284,
           28,
           0
          ],
          [
           0,
           126,
           86,
           27,
           120,
           27.4,
           0.515,
           21,
           0
          ],
          [
           8,
           65,
           72,
           23,
           0,
           32,
           0.6,
           42,
           0
          ],
          [
           2,
           99,
           60,
           17,
           160,
           36.6,
           0.453,
           21,
           0
          ],
          [
           1,
           102,
           74,
           0,
           0,
           39.5,
           0.293,
           42,
           1
          ],
          [
           11,
           120,
           80,
           37,
           150,
           42.3,
           0.785,
           48,
           1
          ],
          [
           3,
           102,
           44,
           20,
           94,
           30.8,
           0.4,
           26,
           0
          ],
          [
           1,
           109,
           58,
           18,
           116,
           28.5,
           0.219,
           22,
           0
          ],
          [
           9,
           140,
           94,
           0,
           0,
           32.7,
           0.734,
           45,
           1
          ],
          [
           13,
           153,
           88,
           37,
           140,
           40.6,
           1.174,
           39,
           0
          ],
          [
           12,
           100,
           84,
           33,
           105,
           30,
           0.488,
           46,
           0
          ],
          [
           1,
           147,
           94,
           41,
           0,
           49.3,
           0.358,
           27,
           1
          ],
          [
           1,
           81,
           74,
           41,
           57,
           46.3,
           1.096,
           32,
           0
          ],
          [
           3,
           187,
           70,
           22,
           200,
           36.4,
           0.408,
           36,
           1
          ],
          [
           6,
           162,
           62,
           0,
           0,
           24.3,
           0.178,
           50,
           1
          ],
          [
           4,
           136,
           70,
           0,
           0,
           31.2,
           1.182,
           22,
           1
          ],
          [
           1,
           121,
           78,
           39,
           74,
           39,
           0.261,
           28,
           0
          ],
          [
           3,
           108,
           62,
           24,
           0,
           26,
           0.223,
           25,
           0
          ],
          [
           0,
           181,
           88,
           44,
           30.5,
           43.3,
           0.222,
           26,
           1
          ],
          [
           8,
           154,
           78,
           32,
           0,
           32.4,
           0.443,
           45,
           1
          ],
          [
           1,
           128,
           88,
           39,
           110,
           36.5,
           1.057,
           37,
           1
          ],
          [
           7,
           137,
           90,
           41,
           0,
           32,
           0.391,
           39,
           0
          ],
          [
           0,
           123,
           72,
           0,
           0,
           36.3,
           0.258,
           52,
           1
          ],
          [
           1,
           106,
           76,
           0,
           0,
           37.5,
           0.197,
           26,
           0
          ],
          [
           6,
           190,
           92,
           0,
           0,
           35.5,
           0.278,
           66,
           1
          ],
          [
           2,
           88,
           58,
           26,
           16,
           28.4,
           0.766,
           22,
           0
          ],
          [
           9,
           170,
           74,
           31,
           0,
           44,
           0.403,
           43,
           1
          ],
          [
           9,
           89,
           62,
           0,
           0,
           22.5,
           0.142,
           33,
           0
          ],
          [
           10,
           101,
           76,
           48,
           180,
           32.9,
           0.171,
           63,
           0
          ],
          [
           2,
           122,
           70,
           27,
           0,
           36.8,
           0.34,
           27,
           0
          ],
          [
           5,
           121,
           72,
           23,
           112,
           26.2,
           0.245,
           30,
           0
          ],
          [
           1,
           126,
           60,
           0,
           0,
           30.1,
           0.349,
           47,
           1
          ],
          [
           1,
           93,
           70,
           31,
           0,
           30.4,
           0.315,
           23,
           0
          ]
         ]
        }
       ],
       "layout": {
        "template": {
         "data": {
          "bar": [
           {
            "error_x": {
             "color": "#2a3f5f"
            },
            "error_y": {
             "color": "#2a3f5f"
            },
            "marker": {
             "line": {
              "color": "#E5ECF6",
              "width": 0.5
             },
             "pattern": {
              "fillmode": "overlay",
              "size": 10,
              "solidity": 0.2
             }
            },
            "type": "bar"
           }
          ],
          "barpolar": [
           {
            "marker": {
             "line": {
              "color": "#E5ECF6",
              "width": 0.5
             },
             "pattern": {
              "fillmode": "overlay",
              "size": 10,
              "solidity": 0.2
             }
            },
            "type": "barpolar"
           }
          ],
          "carpet": [
           {
            "aaxis": {
             "endlinecolor": "#2a3f5f",
             "gridcolor": "white",
             "linecolor": "white",
             "minorgridcolor": "white",
             "startlinecolor": "#2a3f5f"
            },
            "baxis": {
             "endlinecolor": "#2a3f5f",
             "gridcolor": "white",
             "linecolor": "white",
             "minorgridcolor": "white",
             "startlinecolor": "#2a3f5f"
            },
            "type": "carpet"
           }
          ],
          "choropleth": [
           {
            "colorbar": {
             "outlinewidth": 0,
             "ticks": ""
            },
            "type": "choropleth"
           }
          ],
          "contour": [
           {
            "colorbar": {
             "outlinewidth": 0,
             "ticks": ""
            },
            "colorscale": [
             [
              0,
              "#0d0887"
             ],
             [
              0.1111111111111111,
              "#46039f"
             ],
             [
              0.2222222222222222,
              "#7201a8"
             ],
             [
              0.3333333333333333,
              "#9c179e"
             ],
             [
              0.4444444444444444,
              "#bd3786"
             ],
             [
              0.5555555555555556,
              "#d8576b"
             ],
             [
              0.6666666666666666,
              "#ed7953"
             ],
             [
              0.7777777777777778,
              "#fb9f3a"
             ],
             [
              0.8888888888888888,
              "#fdca26"
             ],
             [
              1,
              "#f0f921"
             ]
            ],
            "type": "contour"
           }
          ],
          "contourcarpet": [
           {
            "colorbar": {
             "outlinewidth": 0,
             "ticks": ""
            },
            "type": "contourcarpet"
           }
          ],
          "heatmap": [
           {
            "colorbar": {
             "outlinewidth": 0,
             "ticks": ""
            },
            "colorscale": [
             [
              0,
              "#0d0887"
             ],
             [
              0.1111111111111111,
              "#46039f"
             ],
             [
              0.2222222222222222,
              "#7201a8"
             ],
             [
              0.3333333333333333,
              "#9c179e"
             ],
             [
              0.4444444444444444,
              "#bd3786"
             ],
             [
              0.5555555555555556,
              "#d8576b"
             ],
             [
              0.6666666666666666,
              "#ed7953"
             ],
             [
              0.7777777777777778,
              "#fb9f3a"
             ],
             [
              0.8888888888888888,
              "#fdca26"
             ],
             [
              1,
              "#f0f921"
             ]
            ],
            "type": "heatmap"
           }
          ],
          "heatmapgl": [
           {
            "colorbar": {
             "outlinewidth": 0,
             "ticks": ""
            },
            "colorscale": [
             [
              0,
              "#0d0887"
             ],
             [
              0.1111111111111111,
              "#46039f"
             ],
             [
              0.2222222222222222,
              "#7201a8"
             ],
             [
              0.3333333333333333,
              "#9c179e"
             ],
             [
              0.4444444444444444,
              "#bd3786"
             ],
             [
              0.5555555555555556,
              "#d8576b"
             ],
             [
              0.6666666666666666,
              "#ed7953"
             ],
             [
              0.7777777777777778,
              "#fb9f3a"
             ],
             [
              0.8888888888888888,
              "#fdca26"
             ],
             [
              1,
              "#f0f921"
             ]
            ],
            "type": "heatmapgl"
           }
          ],
          "histogram": [
           {
            "marker": {
             "pattern": {
              "fillmode": "overlay",
              "size": 10,
              "solidity": 0.2
             }
            },
            "type": "histogram"
           }
          ],
          "histogram2d": [
           {
            "colorbar": {
             "outlinewidth": 0,
             "ticks": ""
            },
            "colorscale": [
             [
              0,
              "#0d0887"
             ],
             [
              0.1111111111111111,
              "#46039f"
             ],
             [
              0.2222222222222222,
              "#7201a8"
             ],
             [
              0.3333333333333333,
              "#9c179e"
             ],
             [
              0.4444444444444444,
              "#bd3786"
             ],
             [
              0.5555555555555556,
              "#d8576b"
             ],
             [
              0.6666666666666666,
              "#ed7953"
             ],
             [
              0.7777777777777778,
              "#fb9f3a"
             ],
             [
              0.8888888888888888,
              "#fdca26"
             ],
             [
              1,
              "#f0f921"
             ]
            ],
            "type": "histogram2d"
           }
          ],
          "histogram2dcontour": [
           {
            "colorbar": {
             "outlinewidth": 0,
             "ticks": ""
            },
            "colorscale": [
             [
              0,
              "#0d0887"
             ],
             [
              0.1111111111111111,
              "#46039f"
             ],
             [
              0.2222222222222222,
              "#7201a8"
             ],
             [
              0.3333333333333333,
              "#9c179e"
             ],
             [
              0.4444444444444444,
              "#bd3786"
             ],
             [
              0.5555555555555556,
              "#d8576b"
             ],
             [
              0.6666666666666666,
              "#ed7953"
             ],
             [
              0.7777777777777778,
              "#fb9f3a"
             ],
             [
              0.8888888888888888,
              "#fdca26"
             ],
             [
              1,
              "#f0f921"
             ]
            ],
            "type": "histogram2dcontour"
           }
          ],
          "mesh3d": [
           {
            "colorbar": {
             "outlinewidth": 0,
             "ticks": ""
            },
            "type": "mesh3d"
           }
          ],
          "parcoords": [
           {
            "line": {
             "colorbar": {
              "outlinewidth": 0,
              "ticks": ""
             }
            },
            "type": "parcoords"
           }
          ],
          "pie": [
           {
            "automargin": true,
            "type": "pie"
           }
          ],
          "scatter": [
           {
            "fillpattern": {
             "fillmode": "overlay",
             "size": 10,
             "solidity": 0.2
            },
            "type": "scatter"
           }
          ],
          "scatter3d": [
           {
            "line": {
             "colorbar": {
              "outlinewidth": 0,
              "ticks": ""
             }
            },
            "marker": {
             "colorbar": {
              "outlinewidth": 0,
              "ticks": ""
             }
            },
            "type": "scatter3d"
           }
          ],
          "scattercarpet": [
           {
            "marker": {
             "colorbar": {
              "outlinewidth": 0,
              "ticks": ""
             }
            },
            "type": "scattercarpet"
           }
          ],
          "scattergeo": [
           {
            "marker": {
             "colorbar": {
              "outlinewidth": 0,
              "ticks": ""
             }
            },
            "type": "scattergeo"
           }
          ],
          "scattergl": [
           {
            "marker": {
             "colorbar": {
              "outlinewidth": 0,
              "ticks": ""
             }
            },
            "type": "scattergl"
           }
          ],
          "scattermapbox": [
           {
            "marker": {
             "colorbar": {
              "outlinewidth": 0,
              "ticks": ""
             }
            },
            "type": "scattermapbox"
           }
          ],
          "scatterpolar": [
           {
            "marker": {
             "colorbar": {
              "outlinewidth": 0,
              "ticks": ""
             }
            },
            "type": "scatterpolar"
           }
          ],
          "scatterpolargl": [
           {
            "marker": {
             "colorbar": {
              "outlinewidth": 0,
              "ticks": ""
             }
            },
            "type": "scatterpolargl"
           }
          ],
          "scatterternary": [
           {
            "marker": {
             "colorbar": {
              "outlinewidth": 0,
              "ticks": ""
             }
            },
            "type": "scatterternary"
           }
          ],
          "surface": [
           {
            "colorbar": {
             "outlinewidth": 0,
             "ticks": ""
            },
            "colorscale": [
             [
              0,
              "#0d0887"
             ],
             [
              0.1111111111111111,
              "#46039f"
             ],
             [
              0.2222222222222222,
              "#7201a8"
             ],
             [
              0.3333333333333333,
              "#9c179e"
             ],
             [
              0.4444444444444444,
              "#bd3786"
             ],
             [
              0.5555555555555556,
              "#d8576b"
             ],
             [
              0.6666666666666666,
              "#ed7953"
             ],
             [
              0.7777777777777778,
              "#fb9f3a"
             ],
             [
              0.8888888888888888,
              "#fdca26"
             ],
             [
              1,
              "#f0f921"
             ]
            ],
            "type": "surface"
           }
          ],
          "table": [
           {
            "cells": {
             "fill": {
              "color": "#EBF0F8"
             },
             "line": {
              "color": "white"
             }
            },
            "header": {
             "fill": {
              "color": "#C8D4E3"
             },
             "line": {
              "color": "white"
             }
            },
            "type": "table"
           }
          ]
         },
         "layout": {
          "annotationdefaults": {
           "arrowcolor": "#2a3f5f",
           "arrowhead": 0,
           "arrowwidth": 1
          },
          "autotypenumbers": "strict",
          "coloraxis": {
           "colorbar": {
            "outlinewidth": 0,
            "ticks": ""
           }
          },
          "colorscale": {
           "diverging": [
            [
             0,
             "#8e0152"
            ],
            [
             0.1,
             "#c51b7d"
            ],
            [
             0.2,
             "#de77ae"
            ],
            [
             0.3,
             "#f1b6da"
            ],
            [
             0.4,
             "#fde0ef"
            ],
            [
             0.5,
             "#f7f7f7"
            ],
            [
             0.6,
             "#e6f5d0"
            ],
            [
             0.7,
             "#b8e186"
            ],
            [
             0.8,
             "#7fbc41"
            ],
            [
             0.9,
             "#4d9221"
            ],
            [
             1,
             "#276419"
            ]
           ],
           "sequential": [
            [
             0,
             "#0d0887"
            ],
            [
             0.1111111111111111,
             "#46039f"
            ],
            [
             0.2222222222222222,
             "#7201a8"
            ],
            [
             0.3333333333333333,
             "#9c179e"
            ],
            [
             0.4444444444444444,
             "#bd3786"
            ],
            [
             0.5555555555555556,
             "#d8576b"
            ],
            [
             0.6666666666666666,
             "#ed7953"
            ],
            [
             0.7777777777777778,
             "#fb9f3a"
            ],
            [
             0.8888888888888888,
             "#fdca26"
            ],
            [
             1,
             "#f0f921"
            ]
           ],
           "sequentialminus": [
            [
             0,
             "#0d0887"
            ],
            [
             0.1111111111111111,
             "#46039f"
            ],
            [
             0.2222222222222222,
             "#7201a8"
            ],
            [
             0.3333333333333333,
             "#9c179e"
            ],
            [
             0.4444444444444444,
             "#bd3786"
            ],
            [
             0.5555555555555556,
             "#d8576b"
            ],
            [
             0.6666666666666666,
             "#ed7953"
            ],
            [
             0.7777777777777778,
             "#fb9f3a"
            ],
            [
             0.8888888888888888,
             "#fdca26"
            ],
            [
             1,
             "#f0f921"
            ]
           ]
          },
          "colorway": [
           "#636efa",
           "#EF553B",
           "#00cc96",
           "#ab63fa",
           "#FFA15A",
           "#19d3f3",
           "#FF6692",
           "#B6E880",
           "#FF97FF",
           "#FECB52"
          ],
          "font": {
           "color": "#2a3f5f"
          },
          "geo": {
           "bgcolor": "white",
           "lakecolor": "white",
           "landcolor": "#E5ECF6",
           "showlakes": true,
           "showland": true,
           "subunitcolor": "white"
          },
          "hoverlabel": {
           "align": "left"
          },
          "hovermode": "closest",
          "mapbox": {
           "style": "light"
          },
          "paper_bgcolor": "white",
          "plot_bgcolor": "#E5ECF6",
          "polar": {
           "angularaxis": {
            "gridcolor": "white",
            "linecolor": "white",
            "ticks": ""
           },
           "bgcolor": "#E5ECF6",
           "radialaxis": {
            "gridcolor": "white",
            "linecolor": "white",
            "ticks": ""
           }
          },
          "scene": {
           "xaxis": {
            "backgroundcolor": "#E5ECF6",
            "gridcolor": "white",
            "gridwidth": 2,
            "linecolor": "white",
            "showbackground": true,
            "ticks": "",
            "zerolinecolor": "white"
           },
           "yaxis": {
            "backgroundcolor": "#E5ECF6",
            "gridcolor": "white",
            "gridwidth": 2,
            "linecolor": "white",
            "showbackground": true,
            "ticks": "",
            "zerolinecolor": "white"
           },
           "zaxis": {
            "backgroundcolor": "#E5ECF6",
            "gridcolor": "white",
            "gridwidth": 2,
            "linecolor": "white",
            "showbackground": true,
            "ticks": "",
            "zerolinecolor": "white"
           }
          },
          "shapedefaults": {
           "line": {
            "color": "#2a3f5f"
           }
          },
          "ternary": {
           "aaxis": {
            "gridcolor": "white",
            "linecolor": "white",
            "ticks": ""
           },
           "baxis": {
            "gridcolor": "white",
            "linecolor": "white",
            "ticks": ""
           },
           "bgcolor": "#E5ECF6",
           "caxis": {
            "gridcolor": "white",
            "linecolor": "white",
            "ticks": ""
           }
          },
          "title": {
           "x": 0.05
          },
          "xaxis": {
           "automargin": true,
           "gridcolor": "white",
           "linecolor": "white",
           "ticks": "",
           "title": {
            "standoff": 15
           },
           "zerolinecolor": "white",
           "zerolinewidth": 2
          },
          "yaxis": {
           "automargin": true,
           "gridcolor": "white",
           "linecolor": "white",
           "ticks": "",
           "title": {
            "standoff": 15
           },
           "zerolinecolor": "white",
           "zerolinewidth": 2
          }
         }
        },
        "updatemenus": [
         {
          "buttons": [
           {
            "args": [
             "type",
             "surface"
            ],
            "label": "3D Surface",
            "method": "restyle"
           },
           {
            "args": [
             "type",
             "heatmap"
            ],
            "label": "Heatmap",
            "method": "restyle"
           }
          ],
          "direction": "down",
          "showactive": true,
          "x": 0.1,
          "xanchor": "left",
          "y": 1.1,
          "yanchor": "top"
         }
        ]
       }
      }
     },
     "metadata": {},
     "output_type": "display_data"
    }
   ],
   "source": [
    "import plotly.graph_objects as go\n",
    "fig = go.Figure()\n",
    "fig.add_surface(z=df.values)\n",
    "fig.update_layout(\n",
    "    updatemenus=[\n",
    "        dict(\n",
    "            buttons=list([\n",
    "                dict(\n",
    "                    args=['type', 'surface'],\n",
    "                    label='3D Surface',\n",
    "                    method='restyle'\n",
    "                ),\n",
    "                dict(\n",
    "                    args=['type', 'heatmap'],\n",
    "                    label='Heatmap',\n",
    "                    method='restyle'\n",
    "                )\n",
    "            ]),\n",
    "            direction='down',\n",
    "            showactive=True,\n",
    "            x=0.1,\n",
    "            xanchor='left',\n",
    "            y=1.1,\n",
    "            yanchor='top'\n",
    "        ),\n",
    "    ]\n",
    ")\n",
    "fig.show()"
   ]
  },
  {
   "cell_type": "markdown",
   "id": "13168577",
   "metadata": {},
   "source": [
    "h. Develop custom action buttons using Plotly"
   ]
  },
  {
   "cell_type": "code",
   "execution_count": 95,
   "id": "61d30814",
   "metadata": {},
   "outputs": [
    {
     "data": {
      "application/vnd.plotly.v1+json": {
       "config": {
        "plotlyServerURL": "https://plot.ly"
       },
       "data": [
        {
         "marker": {
          "color": [
           0.3725820180593643,
           0.23583558344062672,
           0.7497129973631416,
           0.7034685183558006,
           0.699428733747001,
           0.5612221736576347,
           0.702013480009097,
           0.19495912456127018,
           0.6253547512656009,
           0.8548349131009166,
           0.6936422720821799,
           0.6270345533128161,
           0.46950572473934815,
           0.7116580350299159,
           0.7732791605027916,
           0.6899613904750321,
           0.8936169376615882,
           0.39394346951319215,
           0.9975310431917748,
           0.10984964420681531,
           0.06162214784762332,
           0.0895694658841033,
           0.49945623352952295,
           0.8535442261744364,
           0.3946590268755952,
           0.27723366213608436,
           0.1423143090173291,
           0.8660211524580641,
           0.7895370052865535,
           0.8281914086850565,
           0.24966984012910654,
           0.789763646398479,
           0.6462228136458533,
           0.057033659985407104,
           0.9316455498288282,
           0.4375546062665152,
           0.6850315774139795,
           0.7969469822664436,
           0.25767995892323436,
           0.9727770428159846,
           0.38182525200731077,
           0.35532601530319985,
           0.2900585054041781,
           0.9289216269189075,
           0.531112265850738,
           0.7953925743457073,
           0.07987995014857252,
           0.6827265892639545,
           0.19958067236702481,
           0.10003127695668557,
           0.3682475319121473,
           0.8547949526834344,
           0.46448200075897195,
           0.08257578581949787,
           0.29076232685571657,
           0.08573111943703204,
           0.4670033979575623,
           0.29971866224202415,
           0.8609029073239799,
           0.46732628269369825,
           0.9207954895131739,
           0.946717086790284,
           0.6193187916260415,
           0.6678306380628051,
           0.19118238420473888,
           0.017513980574800025,
           0.4945812290011872,
           0.6229625312426155,
           0.840952269480133,
           0.1960508567443746,
           0.6918437552791914,
           0.8910725412485284,
           0.4918625864659506,
           0.6466089550189328,
           0.10443857111900601,
           0.43878212629575264,
           0.8400499946343859,
           0.5549448277844871,
           0.2395166810185052,
           0.6808336921710667,
           0.14547722498423388,
           0.5384969443007738,
           0.47527509293717896,
           0.07846599926731468,
           0.6361980728181269,
           0.7628796727598176,
           0.8149705535683214,
           0.9910796107539472,
           0.8932885184134582,
           0.9018943223484214,
           0.2718618573229905,
           0.09848182445798237,
           0.49333035330598063,
           0.972030215068597,
           0.5243071116767603,
           0.5590801370623264,
           0.5847587031509355,
           0.24778988413586134,
           0.5860685586128944,
           0.418348344606182
          ]
         },
         "mode": "markers",
         "type": "scatter",
         "x": [
          "P",
          "R",
          "E",
          "G",
          "N",
          "A",
          "N",
          "C",
          "I",
          "E",
          "S"
         ],
         "y": [
          "G",
          "L",
          "U",
          "C",
          "O",
          "S",
          "E"
         ]
        }
       ],
       "layout": {
        "template": {
         "data": {
          "bar": [
           {
            "error_x": {
             "color": "#2a3f5f"
            },
            "error_y": {
             "color": "#2a3f5f"
            },
            "marker": {
             "line": {
              "color": "#E5ECF6",
              "width": 0.5
             },
             "pattern": {
              "fillmode": "overlay",
              "size": 10,
              "solidity": 0.2
             }
            },
            "type": "bar"
           }
          ],
          "barpolar": [
           {
            "marker": {
             "line": {
              "color": "#E5ECF6",
              "width": 0.5
             },
             "pattern": {
              "fillmode": "overlay",
              "size": 10,
              "solidity": 0.2
             }
            },
            "type": "barpolar"
           }
          ],
          "carpet": [
           {
            "aaxis": {
             "endlinecolor": "#2a3f5f",
             "gridcolor": "white",
             "linecolor": "white",
             "minorgridcolor": "white",
             "startlinecolor": "#2a3f5f"
            },
            "baxis": {
             "endlinecolor": "#2a3f5f",
             "gridcolor": "white",
             "linecolor": "white",
             "minorgridcolor": "white",
             "startlinecolor": "#2a3f5f"
            },
            "type": "carpet"
           }
          ],
          "choropleth": [
           {
            "colorbar": {
             "outlinewidth": 0,
             "ticks": ""
            },
            "type": "choropleth"
           }
          ],
          "contour": [
           {
            "colorbar": {
             "outlinewidth": 0,
             "ticks": ""
            },
            "colorscale": [
             [
              0,
              "#0d0887"
             ],
             [
              0.1111111111111111,
              "#46039f"
             ],
             [
              0.2222222222222222,
              "#7201a8"
             ],
             [
              0.3333333333333333,
              "#9c179e"
             ],
             [
              0.4444444444444444,
              "#bd3786"
             ],
             [
              0.5555555555555556,
              "#d8576b"
             ],
             [
              0.6666666666666666,
              "#ed7953"
             ],
             [
              0.7777777777777778,
              "#fb9f3a"
             ],
             [
              0.8888888888888888,
              "#fdca26"
             ],
             [
              1,
              "#f0f921"
             ]
            ],
            "type": "contour"
           }
          ],
          "contourcarpet": [
           {
            "colorbar": {
             "outlinewidth": 0,
             "ticks": ""
            },
            "type": "contourcarpet"
           }
          ],
          "heatmap": [
           {
            "colorbar": {
             "outlinewidth": 0,
             "ticks": ""
            },
            "colorscale": [
             [
              0,
              "#0d0887"
             ],
             [
              0.1111111111111111,
              "#46039f"
             ],
             [
              0.2222222222222222,
              "#7201a8"
             ],
             [
              0.3333333333333333,
              "#9c179e"
             ],
             [
              0.4444444444444444,
              "#bd3786"
             ],
             [
              0.5555555555555556,
              "#d8576b"
             ],
             [
              0.6666666666666666,
              "#ed7953"
             ],
             [
              0.7777777777777778,
              "#fb9f3a"
             ],
             [
              0.8888888888888888,
              "#fdca26"
             ],
             [
              1,
              "#f0f921"
             ]
            ],
            "type": "heatmap"
           }
          ],
          "heatmapgl": [
           {
            "colorbar": {
             "outlinewidth": 0,
             "ticks": ""
            },
            "colorscale": [
             [
              0,
              "#0d0887"
             ],
             [
              0.1111111111111111,
              "#46039f"
             ],
             [
              0.2222222222222222,
              "#7201a8"
             ],
             [
              0.3333333333333333,
              "#9c179e"
             ],
             [
              0.4444444444444444,
              "#bd3786"
             ],
             [
              0.5555555555555556,
              "#d8576b"
             ],
             [
              0.6666666666666666,
              "#ed7953"
             ],
             [
              0.7777777777777778,
              "#fb9f3a"
             ],
             [
              0.8888888888888888,
              "#fdca26"
             ],
             [
              1,
              "#f0f921"
             ]
            ],
            "type": "heatmapgl"
           }
          ],
          "histogram": [
           {
            "marker": {
             "pattern": {
              "fillmode": "overlay",
              "size": 10,
              "solidity": 0.2
             }
            },
            "type": "histogram"
           }
          ],
          "histogram2d": [
           {
            "colorbar": {
             "outlinewidth": 0,
             "ticks": ""
            },
            "colorscale": [
             [
              0,
              "#0d0887"
             ],
             [
              0.1111111111111111,
              "#46039f"
             ],
             [
              0.2222222222222222,
              "#7201a8"
             ],
             [
              0.3333333333333333,
              "#9c179e"
             ],
             [
              0.4444444444444444,
              "#bd3786"
             ],
             [
              0.5555555555555556,
              "#d8576b"
             ],
             [
              0.6666666666666666,
              "#ed7953"
             ],
             [
              0.7777777777777778,
              "#fb9f3a"
             ],
             [
              0.8888888888888888,
              "#fdca26"
             ],
             [
              1,
              "#f0f921"
             ]
            ],
            "type": "histogram2d"
           }
          ],
          "histogram2dcontour": [
           {
            "colorbar": {
             "outlinewidth": 0,
             "ticks": ""
            },
            "colorscale": [
             [
              0,
              "#0d0887"
             ],
             [
              0.1111111111111111,
              "#46039f"
             ],
             [
              0.2222222222222222,
              "#7201a8"
             ],
             [
              0.3333333333333333,
              "#9c179e"
             ],
             [
              0.4444444444444444,
              "#bd3786"
             ],
             [
              0.5555555555555556,
              "#d8576b"
             ],
             [
              0.6666666666666666,
              "#ed7953"
             ],
             [
              0.7777777777777778,
              "#fb9f3a"
             ],
             [
              0.8888888888888888,
              "#fdca26"
             ],
             [
              1,
              "#f0f921"
             ]
            ],
            "type": "histogram2dcontour"
           }
          ],
          "mesh3d": [
           {
            "colorbar": {
             "outlinewidth": 0,
             "ticks": ""
            },
            "type": "mesh3d"
           }
          ],
          "parcoords": [
           {
            "line": {
             "colorbar": {
              "outlinewidth": 0,
              "ticks": ""
             }
            },
            "type": "parcoords"
           }
          ],
          "pie": [
           {
            "automargin": true,
            "type": "pie"
           }
          ],
          "scatter": [
           {
            "fillpattern": {
             "fillmode": "overlay",
             "size": 10,
             "solidity": 0.2
            },
            "type": "scatter"
           }
          ],
          "scatter3d": [
           {
            "line": {
             "colorbar": {
              "outlinewidth": 0,
              "ticks": ""
             }
            },
            "marker": {
             "colorbar": {
              "outlinewidth": 0,
              "ticks": ""
             }
            },
            "type": "scatter3d"
           }
          ],
          "scattercarpet": [
           {
            "marker": {
             "colorbar": {
              "outlinewidth": 0,
              "ticks": ""
             }
            },
            "type": "scattercarpet"
           }
          ],
          "scattergeo": [
           {
            "marker": {
             "colorbar": {
              "outlinewidth": 0,
              "ticks": ""
             }
            },
            "type": "scattergeo"
           }
          ],
          "scattergl": [
           {
            "marker": {
             "colorbar": {
              "outlinewidth": 0,
              "ticks": ""
             }
            },
            "type": "scattergl"
           }
          ],
          "scattermapbox": [
           {
            "marker": {
             "colorbar": {
              "outlinewidth": 0,
              "ticks": ""
             }
            },
            "type": "scattermapbox"
           }
          ],
          "scatterpolar": [
           {
            "marker": {
             "colorbar": {
              "outlinewidth": 0,
              "ticks": ""
             }
            },
            "type": "scatterpolar"
           }
          ],
          "scatterpolargl": [
           {
            "marker": {
             "colorbar": {
              "outlinewidth": 0,
              "ticks": ""
             }
            },
            "type": "scatterpolargl"
           }
          ],
          "scatterternary": [
           {
            "marker": {
             "colorbar": {
              "outlinewidth": 0,
              "ticks": ""
             }
            },
            "type": "scatterternary"
           }
          ],
          "surface": [
           {
            "colorbar": {
             "outlinewidth": 0,
             "ticks": ""
            },
            "colorscale": [
             [
              0,
              "#0d0887"
             ],
             [
              0.1111111111111111,
              "#46039f"
             ],
             [
              0.2222222222222222,
              "#7201a8"
             ],
             [
              0.3333333333333333,
              "#9c179e"
             ],
             [
              0.4444444444444444,
              "#bd3786"
             ],
             [
              0.5555555555555556,
              "#d8576b"
             ],
             [
              0.6666666666666666,
              "#ed7953"
             ],
             [
              0.7777777777777778,
              "#fb9f3a"
             ],
             [
              0.8888888888888888,
              "#fdca26"
             ],
             [
              1,
              "#f0f921"
             ]
            ],
            "type": "surface"
           }
          ],
          "table": [
           {
            "cells": {
             "fill": {
              "color": "#EBF0F8"
             },
             "line": {
              "color": "white"
             }
            },
            "header": {
             "fill": {
              "color": "#C8D4E3"
             },
             "line": {
              "color": "white"
             }
            },
            "type": "table"
           }
          ]
         },
         "layout": {
          "annotationdefaults": {
           "arrowcolor": "#2a3f5f",
           "arrowhead": 0,
           "arrowwidth": 1
          },
          "autotypenumbers": "strict",
          "coloraxis": {
           "colorbar": {
            "outlinewidth": 0,
            "ticks": ""
           }
          },
          "colorscale": {
           "diverging": [
            [
             0,
             "#8e0152"
            ],
            [
             0.1,
             "#c51b7d"
            ],
            [
             0.2,
             "#de77ae"
            ],
            [
             0.3,
             "#f1b6da"
            ],
            [
             0.4,
             "#fde0ef"
            ],
            [
             0.5,
             "#f7f7f7"
            ],
            [
             0.6,
             "#e6f5d0"
            ],
            [
             0.7,
             "#b8e186"
            ],
            [
             0.8,
             "#7fbc41"
            ],
            [
             0.9,
             "#4d9221"
            ],
            [
             1,
             "#276419"
            ]
           ],
           "sequential": [
            [
             0,
             "#0d0887"
            ],
            [
             0.1111111111111111,
             "#46039f"
            ],
            [
             0.2222222222222222,
             "#7201a8"
            ],
            [
             0.3333333333333333,
             "#9c179e"
            ],
            [
             0.4444444444444444,
             "#bd3786"
            ],
            [
             0.5555555555555556,
             "#d8576b"
            ],
            [
             0.6666666666666666,
             "#ed7953"
            ],
            [
             0.7777777777777778,
             "#fb9f3a"
            ],
            [
             0.8888888888888888,
             "#fdca26"
            ],
            [
             1,
             "#f0f921"
            ]
           ],
           "sequentialminus": [
            [
             0,
             "#0d0887"
            ],
            [
             0.1111111111111111,
             "#46039f"
            ],
            [
             0.2222222222222222,
             "#7201a8"
            ],
            [
             0.3333333333333333,
             "#9c179e"
            ],
            [
             0.4444444444444444,
             "#bd3786"
            ],
            [
             0.5555555555555556,
             "#d8576b"
            ],
            [
             0.6666666666666666,
             "#ed7953"
            ],
            [
             0.7777777777777778,
             "#fb9f3a"
            ],
            [
             0.8888888888888888,
             "#fdca26"
            ],
            [
             1,
             "#f0f921"
            ]
           ]
          },
          "colorway": [
           "#636efa",
           "#EF553B",
           "#00cc96",
           "#ab63fa",
           "#FFA15A",
           "#19d3f3",
           "#FF6692",
           "#B6E880",
           "#FF97FF",
           "#FECB52"
          ],
          "font": {
           "color": "#2a3f5f"
          },
          "geo": {
           "bgcolor": "white",
           "lakecolor": "white",
           "landcolor": "#E5ECF6",
           "showlakes": true,
           "showland": true,
           "subunitcolor": "white"
          },
          "hoverlabel": {
           "align": "left"
          },
          "hovermode": "closest",
          "mapbox": {
           "style": "light"
          },
          "paper_bgcolor": "white",
          "plot_bgcolor": "#E5ECF6",
          "polar": {
           "angularaxis": {
            "gridcolor": "white",
            "linecolor": "white",
            "ticks": ""
           },
           "bgcolor": "#E5ECF6",
           "radialaxis": {
            "gridcolor": "white",
            "linecolor": "white",
            "ticks": ""
           }
          },
          "scene": {
           "xaxis": {
            "backgroundcolor": "#E5ECF6",
            "gridcolor": "white",
            "gridwidth": 2,
            "linecolor": "white",
            "showbackground": true,
            "ticks": "",
            "zerolinecolor": "white"
           },
           "yaxis": {
            "backgroundcolor": "#E5ECF6",
            "gridcolor": "white",
            "gridwidth": 2,
            "linecolor": "white",
            "showbackground": true,
            "ticks": "",
            "zerolinecolor": "white"
           },
           "zaxis": {
            "backgroundcolor": "#E5ECF6",
            "gridcolor": "white",
            "gridwidth": 2,
            "linecolor": "white",
            "showbackground": true,
            "ticks": "",
            "zerolinecolor": "white"
           }
          },
          "shapedefaults": {
           "line": {
            "color": "#2a3f5f"
           }
          },
          "ternary": {
           "aaxis": {
            "gridcolor": "white",
            "linecolor": "white",
            "ticks": ""
           },
           "baxis": {
            "gridcolor": "white",
            "linecolor": "white",
            "ticks": ""
           },
           "bgcolor": "#E5ECF6",
           "caxis": {
            "gridcolor": "white",
            "linecolor": "white",
            "ticks": ""
           }
          },
          "title": {
           "x": 0.05
          },
          "xaxis": {
           "automargin": true,
           "gridcolor": "white",
           "linecolor": "white",
           "ticks": "",
           "title": {
            "standoff": 15
           },
           "zerolinecolor": "white",
           "zerolinewidth": 2
          },
          "yaxis": {
           "automargin": true,
           "gridcolor": "white",
           "linecolor": "white",
           "ticks": "",
           "title": {
            "standoff": 15
           },
           "zerolinecolor": "white",
           "zerolinewidth": 2
          }
         }
        },
        "updatemenus": [
         {
          "buttons": [
           {
            "args": [
             {
              "marker.color": [
               0.8543824417298271,
               0.11612162086046252,
               0.4790851110353984,
               0.5803979671521489,
               0.9347334584851712,
               0.5525175127406895,
               0.9606295780529962,
               0.4358312984290572,
               0.14305306769335346,
               0.49742302130633886,
               0.10718713004380043,
               0.42153012562479,
               0.6702503953966757,
               0.6236022352854239,
               0.5030321533048726,
               0.9955120270980491,
               0.7774769861862977,
               0.382339039903862,
               0.1909092891605042,
               0.6759712872502732,
               0.9193372431362684,
               0.7908395021566047,
               0.30261171905010575,
               0.2629458856960034,
               0.5155511147568795,
               0.07779931777503779,
               0.8836802659965639,
               0.24551182291552565,
               0.41678806889362274,
               0.9387133435446763,
               0.5932999196012728,
               0.7400459948129687,
               0.20595164313967673,
               0.2637618756942668,
               0.9386649009464774,
               0.16755601295101719,
               0.8837326402744609,
               0.6161762105852298,
               0.5740876952469794,
               0.5545838395599119,
               0.05678659262072683,
               0.509042008634081,
               0.2815572713289153,
               0.49250178359975627,
               0.7047156407889484,
               0.851679212301638,
               0.8383433396867817,
               0.2749152622544814,
               0.28701392451684193,
               0.129679015711056,
               0.3443699855026814,
               0.8769959787683692,
               0.25410263229907415,
               0.6413830907268284,
               0.1675050994485341,
               0.6380174209297259,
               0.8835202602927859,
               0.7695777640551761,
               0.6425657535492975,
               0.23854896964987438,
               0.019286126708385476,
               0.8154483915996473,
               0.8815064164512574,
               0.4531168856359764,
               0.248288401131449,
               0.16775987313383223,
               0.051620774864733265,
               0.23359537915387873,
               0.18644123239053467,
               0.30667161701848633,
               0.7528904910982189,
               0.1530189908382682,
               0.7299193439425616,
               0.5126862462694356,
               0.8670134461617973,
               0.10752991675332702,
               0.7256336275396564,
               0.8483936887505383,
               0.8389996646844982,
               0.6342565859424768,
               0.8160750818881064,
               0.8873325561904402,
               0.4274925141875301,
               0.12191142302394187,
               0.8712026108042328,
               0.6264998635280722,
               0.099572841175815,
               0.19994210716336513,
               0.44872639958739535,
               0.7571648887081305,
               0.009756592510804296,
               0.5193978301599281,
               0.6820881814591543,
               0.5279313386730619,
               0.517386754486864,
               0.024351739169383935,
               0.5419144706226494,
               0.15653351142314953,
               0.515846220274866,
               0.09339321774582998
              ]
             }
            ],
            "label": "Change Color",
            "method": "update"
           }
          ],
          "direction": "right",
          "type": "buttons"
         }
        ]
       }
      }
     },
     "metadata": {},
     "output_type": "display_data"
    }
   ],
   "source": [
    "import plotly.graph_objects as go\n",
    "import numpy as np\n",
    "x = []\n",
    "for i in \"PREGNANCIES\":\n",
    "    x.append(i)\n",
    "y = []\n",
    "for j in \"GLUCOSE\":\n",
    "    y.append(j)\n",
    "color = np.random.rand(100)\n",
    "fig = go.Figure()\n",
    "fig.add_trace(go.Scatter(x=x, y=y, mode='markers', marker=dict(color=color)))\n",
    "fig.update_layout(\n",
    "    updatemenus=[\n",
    "        dict(\n",
    "            type=\"buttons\",\n",
    "            direction=\"right\",\n",
    "            buttons=[\n",
    "                dict(\n",
    "                    label=\"Change Color\",\n",
    "                    method=\"update\",\n",
    "                    args=[{\"marker.color\": np.random.rand(100)}],\n",
    "                )\n",
    "            ],\n",
    "        )\n",
    "    ]\n",
    ")\n",
    "fig.show()"
   ]
  }
 ],
 "metadata": {
  "kernelspec": {
   "display_name": "Python 3 (ipykernel)",
   "language": "python",
   "name": "python3"
  },
  "language_info": {
   "codemirror_mode": {
    "name": "ipython",
    "version": 3
   },
   "file_extension": ".py",
   "mimetype": "text/x-python",
   "name": "python",
   "nbconvert_exporter": "python",
   "pygments_lexer": "ipython3",
   "version": "3.11.4"
  }
 },
 "nbformat": 4,
 "nbformat_minor": 5
}
