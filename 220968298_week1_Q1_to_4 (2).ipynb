{
 "cells": [
  {
   "cell_type": "markdown",
   "id": "ce1b279a",
   "metadata": {},
   "source": [
    "##### Name: Shivli Mathur\n",
    "##### Reg no.:220968298\n",
    "##### Batch: B4"
   ]
  },
  {
   "cell_type": "markdown",
   "id": "69bfd9bd",
   "metadata": {},
   "source": [
    "# WEEK -1"
   ]
  },
  {
   "cell_type": "markdown",
   "id": "56f1f724",
   "metadata": {},
   "source": [
    "# 1. Find the mean, median, mode, variance, and standard deviation of a list. (import statistics)"
   ]
  },
  {
   "cell_type": "code",
   "execution_count": 1,
   "id": "0732868a",
   "metadata": {},
   "outputs": [
    {
     "name": "stdout",
     "output_type": "stream",
     "text": [
      "13.375\n"
     ]
    }
   ],
   "source": [
    "import statistics \n",
    "import math\n",
    "l=[2,3,4,5,5,5,6,77]\n",
    "print(statistics.mean(l))"
   ]
  },
  {
   "cell_type": "code",
   "execution_count": 2,
   "id": "057a7359",
   "metadata": {},
   "outputs": [
    {
     "name": "stdout",
     "output_type": "stream",
     "text": [
      "5.0\n"
     ]
    }
   ],
   "source": [
    "print(statistics.median(l))"
   ]
  },
  {
   "cell_type": "code",
   "execution_count": 3,
   "id": "44ce1df7",
   "metadata": {},
   "outputs": [
    {
     "name": "stdout",
     "output_type": "stream",
     "text": [
      "5\n"
     ]
    }
   ],
   "source": [
    "print(statistics.mode(l))"
   ]
  },
  {
   "cell_type": "code",
   "execution_count": 4,
   "id": "ac2ab22c",
   "metadata": {},
   "outputs": [
    {
     "name": "stdout",
     "output_type": "stream",
     "text": [
      "662.5535714285714\n"
     ]
    }
   ],
   "source": [
    "print(statistics.variance(l))"
   ]
  },
  {
   "cell_type": "code",
   "execution_count": 5,
   "id": "a999a803",
   "metadata": {},
   "outputs": [
    {
     "name": "stdout",
     "output_type": "stream",
     "text": [
      "25.740115994854634\n"
     ]
    }
   ],
   "source": [
    "print(statistics.stdev(l))"
   ]
  },
  {
   "cell_type": "markdown",
   "id": "f4db898f",
   "metadata": {},
   "source": [
    "# 2. Create a list of numbers and use list comprehension to generate a new list with the squares of each number."
   ]
  },
  {
   "cell_type": "code",
   "execution_count": 6,
   "id": "fd8151a2",
   "metadata": {},
   "outputs": [
    {
     "name": "stdout",
     "output_type": "stream",
     "text": [
      "[4, 9]\n",
      "[1, 4, 9, 16, 25]\n",
      "[0, 1, 4, 9, 16, 25, 36, 49, 64, 81, 100]\n"
     ]
    }
   ],
   "source": [
    "def squares(start, end):\n",
    "\treturn [ n*n for n in range(start, end+1) ]\n",
    "\n",
    "print(squares(2, 3))\n",
    "print(squares(1, 5))\n",
    "print(squares(0, 10)) "
   ]
  },
  {
   "cell_type": "markdown",
   "id": "9c718288",
   "metadata": {},
   "source": [
    "# 3. Write a function that takes a tuple of numbers and returns the product of all the elements"
   ]
  },
  {
   "cell_type": "code",
   "execution_count": 9,
   "id": "09735f47",
   "metadata": {},
   "outputs": [
    {
     "name": "stdout",
     "output_type": "stream",
     "text": [
      "the original tuple is: (2, 3, 4, 5)\n",
      "the product of tuple is: 120\n"
     ]
    }
   ],
   "source": [
    "def product_of_elements(numbers):\n",
    "    result = 1\n",
    "    for num in numbers:\n",
    "        result *= num\n",
    "    return result\n",
    "\n",
    "numbers_tuple = (2, 3, 4, 5)\n",
    "print(\"the original tuple is: \" +str(numbers_tuple))\n",
    "result = product_of_elements(numbers_tuple)\n",
    "print(\"the product of tuple is: \" +str(result))\n"
   ]
  },
  {
   "cell_type": "markdown",
   "id": "004ef356",
   "metadata": {},
   "source": [
    "# 4. Write a program that counts the frequency of each letter in each string and stores the results in a dictionary. "
   ]
  },
  {
   "cell_type": "code",
   "execution_count": 10,
   "id": "51e5f2af",
   "metadata": {},
   "outputs": [
    {
     "name": "stdout",
     "output_type": "stream",
     "text": [
      "{'t': 2, 'o': 1, 'd': 2, 'a': 4, 'y': 2, ' ': 4, 'i': 2, 's': 1, 'b': 1, 'e': 1, 'u': 2, 'f': 1, 'l': 1, '.': 1}\n"
     ]
    }
   ],
   "source": [
    "def char_frequency(str1):\n",
    "    dict = {}\n",
    "    for n in str1:\n",
    "        keys = dict.keys()\n",
    "        if n in keys:\n",
    "            dict[n] += 1   \n",
    "        else:\n",
    "            dict[n] = 1\n",
    "    return dict\n",
    "print(char_frequency('today is a beautiful day.')) "
   ]
  },
  {
   "cell_type": "code",
   "execution_count": null,
   "id": "ff61385a",
   "metadata": {},
   "outputs": [],
   "source": []
  }
 ],
 "metadata": {
  "kernelspec": {
   "display_name": "Python 3 (ipykernel)",
   "language": "python",
   "name": "python3"
  },
  "language_info": {
   "codemirror_mode": {
    "name": "ipython",
    "version": 3
   },
   "file_extension": ".py",
   "mimetype": "text/x-python",
   "name": "python",
   "nbconvert_exporter": "python",
   "pygments_lexer": "ipython3",
   "version": "3.11.4"
  }
 },
 "nbformat": 4,
 "nbformat_minor": 5
}
