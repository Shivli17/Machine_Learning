{
 "cells": [
  {
   "cell_type": "markdown",
   "id": "676e3c9c",
   "metadata": {},
   "source": [
    "### Name: Shivli Mathur\n",
    "### Reg no.: 220968298\n",
    "### Batch:B4"
   ]
  },
  {
   "cell_type": "markdown",
   "id": "4164076c",
   "metadata": {},
   "source": [
    "Q5) a. Import the required libraries"
   ]
  },
  {
   "cell_type": "code",
   "execution_count": 25,
   "id": "14f58b2a",
   "metadata": {},
   "outputs": [],
   "source": [
    "import pandas as pd\n",
    "import numpy as np\n",
    "import seaborn as sns\n",
    "import matplotlib.pyplot as plt"
   ]
  },
  {
   "cell_type": "markdown",
   "id": "349b4c25",
   "metadata": {},
   "source": [
    "b. Load the dataset"
   ]
  },
  {
   "cell_type": "code",
   "execution_count": 26,
   "id": "48c76712",
   "metadata": {},
   "outputs": [
    {
     "data": {
      "text/html": [
       "<div>\n",
       "<style scoped>\n",
       "    .dataframe tbody tr th:only-of-type {\n",
       "        vertical-align: middle;\n",
       "    }\n",
       "\n",
       "    .dataframe tbody tr th {\n",
       "        vertical-align: top;\n",
       "    }\n",
       "\n",
       "    .dataframe thead th {\n",
       "        text-align: right;\n",
       "    }\n",
       "</style>\n",
       "<table border=\"1\" class=\"dataframe\">\n",
       "  <thead>\n",
       "    <tr style=\"text-align: right;\">\n",
       "      <th></th>\n",
       "      <th>DISTCD</th>\n",
       "      <th>STATNAME</th>\n",
       "      <th>DISTNAME</th>\n",
       "      <th>BLOCKS</th>\n",
       "      <th>VILLAGES</th>\n",
       "      <th>CLUSTERS</th>\n",
       "      <th>TOTPOPULAT</th>\n",
       "    </tr>\n",
       "  </thead>\n",
       "  <tbody>\n",
       "    <tr>\n",
       "      <th>0</th>\n",
       "      <td>101</td>\n",
       "      <td>JAMMU &amp; KASHMIR</td>\n",
       "      <td>KUPWARA</td>\n",
       "      <td>13</td>\n",
       "      <td>391</td>\n",
       "      <td>104</td>\n",
       "      <td>875564</td>\n",
       "    </tr>\n",
       "    <tr>\n",
       "      <th>1</th>\n",
       "      <td>102</td>\n",
       "      <td>JAMMU &amp; KASHMIR</td>\n",
       "      <td>BARAMULA</td>\n",
       "      <td>18</td>\n",
       "      <td>678</td>\n",
       "      <td>144</td>\n",
       "      <td>1015503</td>\n",
       "    </tr>\n",
       "    <tr>\n",
       "      <th>2</th>\n",
       "      <td>103</td>\n",
       "      <td>JAMMU &amp; KASHMIR</td>\n",
       "      <td>SRINAGAR</td>\n",
       "      <td>8</td>\n",
       "      <td>94</td>\n",
       "      <td>65</td>\n",
       "      <td>1269751</td>\n",
       "    </tr>\n",
       "    <tr>\n",
       "      <th>3</th>\n",
       "      <td>201</td>\n",
       "      <td>HIMACHAL PRADESH</td>\n",
       "      <td>CHAMBA</td>\n",
       "      <td>15</td>\n",
       "      <td>1150</td>\n",
       "      <td>266</td>\n",
       "      <td>518844</td>\n",
       "    </tr>\n",
       "    <tr>\n",
       "      <th>4</th>\n",
       "      <td>202</td>\n",
       "      <td>HIMACHAL PRADESH</td>\n",
       "      <td>KANGRA</td>\n",
       "      <td>19</td>\n",
       "      <td>1785</td>\n",
       "      <td>358</td>\n",
       "      <td>1507223</td>\n",
       "    </tr>\n",
       "    <tr>\n",
       "      <th>5</th>\n",
       "      <td>203</td>\n",
       "      <td>HIMACHAL PRADESH</td>\n",
       "      <td>LAHUL &amp; SPITI</td>\n",
       "      <td>4</td>\n",
       "      <td>168</td>\n",
       "      <td>53</td>\n",
       "      <td>31528</td>\n",
       "    </tr>\n",
       "    <tr>\n",
       "      <th>6</th>\n",
       "      <td>309</td>\n",
       "      <td>PUNJAB</td>\n",
       "      <td>LUDHIANA</td>\n",
       "      <td>12</td>\n",
       "      <td>1044</td>\n",
       "      <td>143</td>\n",
       "      <td>3487882</td>\n",
       "    </tr>\n",
       "    <tr>\n",
       "      <th>7</th>\n",
       "      <td>310</td>\n",
       "      <td>PUNJAB</td>\n",
       "      <td>MOGA</td>\n",
       "      <td>5</td>\n",
       "      <td>332</td>\n",
       "      <td>46</td>\n",
       "      <td>992289</td>\n",
       "    </tr>\n",
       "    <tr>\n",
       "      <th>8</th>\n",
       "      <td>311</td>\n",
       "      <td>PUNJAB</td>\n",
       "      <td>FIROZPUR</td>\n",
       "      <td>6</td>\n",
       "      <td>666</td>\n",
       "      <td>79</td>\n",
       "      <td>2026831</td>\n",
       "    </tr>\n",
       "    <tr>\n",
       "      <th>9</th>\n",
       "      <td>401</td>\n",
       "      <td>CHANDIGARH</td>\n",
       "      <td>CHANDIGARH</td>\n",
       "      <td>20</td>\n",
       "      <td>84</td>\n",
       "      <td>20</td>\n",
       "      <td>1054686</td>\n",
       "    </tr>\n",
       "    <tr>\n",
       "      <th>10</th>\n",
       "      <td>501</td>\n",
       "      <td>UTTARAKHAND</td>\n",
       "      <td>UTTARKASHI</td>\n",
       "      <td>6</td>\n",
       "      <td>662</td>\n",
       "      <td>61</td>\n",
       "      <td>329686</td>\n",
       "    </tr>\n",
       "    <tr>\n",
       "      <th>11</th>\n",
       "      <td>502</td>\n",
       "      <td>UTTARAKHAND</td>\n",
       "      <td>CHAMOLI</td>\n",
       "      <td>9</td>\n",
       "      <td>809</td>\n",
       "      <td>78</td>\n",
       "      <td>391114</td>\n",
       "    </tr>\n",
       "    <tr>\n",
       "      <th>12</th>\n",
       "      <td>503</td>\n",
       "      <td>UTTARAKHAND</td>\n",
       "      <td>RUDRAPRAYAG</td>\n",
       "      <td>3</td>\n",
       "      <td>537</td>\n",
       "      <td>46</td>\n",
       "      <td>236857</td>\n",
       "    </tr>\n",
       "    <tr>\n",
       "      <th>13</th>\n",
       "      <td>601</td>\n",
       "      <td>HARYANA</td>\n",
       "      <td>PANCHKULA</td>\n",
       "      <td>4</td>\n",
       "      <td>279</td>\n",
       "      <td>43</td>\n",
       "      <td>558890</td>\n",
       "    </tr>\n",
       "    <tr>\n",
       "      <th>14</th>\n",
       "      <td>602</td>\n",
       "      <td>HARYANA</td>\n",
       "      <td>AMBALA</td>\n",
       "      <td>6</td>\n",
       "      <td>431</td>\n",
       "      <td>75</td>\n",
       "      <td>1136784</td>\n",
       "    </tr>\n",
       "    <tr>\n",
       "      <th>15</th>\n",
       "      <td>603</td>\n",
       "      <td>HARYANA</td>\n",
       "      <td>YAMUNANAGAR</td>\n",
       "      <td>6</td>\n",
       "      <td>591</td>\n",
       "      <td>80</td>\n",
       "      <td>1214162</td>\n",
       "    </tr>\n",
       "    <tr>\n",
       "      <th>16</th>\n",
       "      <td>701</td>\n",
       "      <td>DELHI</td>\n",
       "      <td>NORTH WEST DELHI</td>\n",
       "      <td>9</td>\n",
       "      <td>224</td>\n",
       "      <td>9</td>\n",
       "      <td>3651261</td>\n",
       "    </tr>\n",
       "    <tr>\n",
       "      <th>17</th>\n",
       "      <td>702</td>\n",
       "      <td>DELHI</td>\n",
       "      <td>NORTH DELHI</td>\n",
       "      <td>6</td>\n",
       "      <td>80</td>\n",
       "      <td>6</td>\n",
       "      <td>883418</td>\n",
       "    </tr>\n",
       "    <tr>\n",
       "      <th>18</th>\n",
       "      <td>703</td>\n",
       "      <td>DELHI</td>\n",
       "      <td>NORTH EAST DELHI</td>\n",
       "      <td>6</td>\n",
       "      <td>133</td>\n",
       "      <td>6</td>\n",
       "      <td>2240749</td>\n",
       "    </tr>\n",
       "    <tr>\n",
       "      <th>19</th>\n",
       "      <td>801</td>\n",
       "      <td>RAJASTHAN</td>\n",
       "      <td>GANGANAGAR</td>\n",
       "      <td>9</td>\n",
       "      <td>1937</td>\n",
       "      <td>378</td>\n",
       "      <td>1969520</td>\n",
       "    </tr>\n",
       "    <tr>\n",
       "      <th>20</th>\n",
       "      <td>802</td>\n",
       "      <td>RAJASTHAN</td>\n",
       "      <td>HANUMANGARH</td>\n",
       "      <td>7</td>\n",
       "      <td>994</td>\n",
       "      <td>284</td>\n",
       "      <td>1779650</td>\n",
       "    </tr>\n",
       "    <tr>\n",
       "      <th>21</th>\n",
       "      <td>803</td>\n",
       "      <td>RAJASTHAN</td>\n",
       "      <td>BIKANER</td>\n",
       "      <td>7</td>\n",
       "      <td>866</td>\n",
       "      <td>293</td>\n",
       "      <td>2367745</td>\n",
       "    </tr>\n",
       "    <tr>\n",
       "      <th>22</th>\n",
       "      <td>901</td>\n",
       "      <td>UTTAR PRADESH</td>\n",
       "      <td>SAHARANPUR</td>\n",
       "      <td>14</td>\n",
       "      <td>1357</td>\n",
       "      <td>127</td>\n",
       "      <td>3464228</td>\n",
       "    </tr>\n",
       "    <tr>\n",
       "      <th>23</th>\n",
       "      <td>902</td>\n",
       "      <td>UTTAR PRADESH</td>\n",
       "      <td>MUZAFFARNAGAR</td>\n",
       "      <td>12</td>\n",
       "      <td>594</td>\n",
       "      <td>86</td>\n",
       "      <td>4138605</td>\n",
       "    </tr>\n",
       "    <tr>\n",
       "      <th>24</th>\n",
       "      <td>903</td>\n",
       "      <td>UTTAR PRADESH</td>\n",
       "      <td>BIJNOR</td>\n",
       "      <td>16</td>\n",
       "      <td>1919</td>\n",
       "      <td>159</td>\n",
       "      <td>3683896</td>\n",
       "    </tr>\n",
       "    <tr>\n",
       "      <th>25</th>\n",
       "      <td>904</td>\n",
       "      <td>UTTAR PRADESH</td>\n",
       "      <td>MORADABAD</td>\n",
       "      <td>10</td>\n",
       "      <td>1141</td>\n",
       "      <td>69</td>\n",
       "      <td>4773138</td>\n",
       "    </tr>\n",
       "    <tr>\n",
       "      <th>26</th>\n",
       "      <td>1001</td>\n",
       "      <td>BIHAR</td>\n",
       "      <td>PASHCHIM CHAMPARAN</td>\n",
       "      <td>18</td>\n",
       "      <td>1210</td>\n",
       "      <td>193</td>\n",
       "      <td>3922780</td>\n",
       "    </tr>\n",
       "    <tr>\n",
       "      <th>27</th>\n",
       "      <td>1002</td>\n",
       "      <td>BIHAR</td>\n",
       "      <td>PURBA CHAMPARAN</td>\n",
       "      <td>27</td>\n",
       "      <td>1534</td>\n",
       "      <td>251</td>\n",
       "      <td>5082868</td>\n",
       "    </tr>\n",
       "    <tr>\n",
       "      <th>28</th>\n",
       "      <td>1003</td>\n",
       "      <td>BIHAR</td>\n",
       "      <td>SHEOHAR</td>\n",
       "      <td>5</td>\n",
       "      <td>183</td>\n",
       "      <td>34</td>\n",
       "      <td>656916</td>\n",
       "    </tr>\n",
       "    <tr>\n",
       "      <th>29</th>\n",
       "      <td>1004</td>\n",
       "      <td>BIHAR</td>\n",
       "      <td>SITAMARHI</td>\n",
       "      <td>17</td>\n",
       "      <td>852</td>\n",
       "      <td>169</td>\n",
       "      <td>3419622</td>\n",
       "    </tr>\n",
       "    <tr>\n",
       "      <th>30</th>\n",
       "      <td>1005</td>\n",
       "      <td>BIHAR</td>\n",
       "      <td>MADHUBANI</td>\n",
       "      <td>21</td>\n",
       "      <td>1102</td>\n",
       "      <td>241</td>\n",
       "      <td>4476044</td>\n",
       "    </tr>\n",
       "    <tr>\n",
       "      <th>31</th>\n",
       "      <td>1006</td>\n",
       "      <td>BIHAR</td>\n",
       "      <td>SUPAUL</td>\n",
       "      <td>11</td>\n",
       "      <td>623</td>\n",
       "      <td>94</td>\n",
       "      <td>2228397</td>\n",
       "    </tr>\n",
       "  </tbody>\n",
       "</table>\n",
       "</div>"
      ],
      "text/plain": [
       "    DISTCD          STATNAME            DISTNAME  BLOCKS  VILLAGES  CLUSTERS  \\\n",
       "0      101   JAMMU & KASHMIR             KUPWARA      13       391       104   \n",
       "1      102   JAMMU & KASHMIR            BARAMULA      18       678       144   \n",
       "2      103   JAMMU & KASHMIR            SRINAGAR       8        94        65   \n",
       "3      201  HIMACHAL PRADESH              CHAMBA      15      1150       266   \n",
       "4      202  HIMACHAL PRADESH              KANGRA      19      1785       358   \n",
       "5      203  HIMACHAL PRADESH       LAHUL & SPITI       4       168        53   \n",
       "6      309            PUNJAB            LUDHIANA      12      1044       143   \n",
       "7      310            PUNJAB                MOGA       5       332        46   \n",
       "8      311            PUNJAB            FIROZPUR       6       666        79   \n",
       "9      401        CHANDIGARH          CHANDIGARH      20        84        20   \n",
       "10     501       UTTARAKHAND          UTTARKASHI       6       662        61   \n",
       "11     502       UTTARAKHAND             CHAMOLI       9       809        78   \n",
       "12     503       UTTARAKHAND         RUDRAPRAYAG       3       537        46   \n",
       "13     601           HARYANA           PANCHKULA       4       279        43   \n",
       "14     602           HARYANA              AMBALA       6       431        75   \n",
       "15     603           HARYANA         YAMUNANAGAR       6       591        80   \n",
       "16     701             DELHI    NORTH WEST DELHI       9       224         9   \n",
       "17     702             DELHI         NORTH DELHI       6        80         6   \n",
       "18     703             DELHI    NORTH EAST DELHI       6       133         6   \n",
       "19     801         RAJASTHAN          GANGANAGAR       9      1937       378   \n",
       "20     802         RAJASTHAN         HANUMANGARH       7       994       284   \n",
       "21     803         RAJASTHAN             BIKANER       7       866       293   \n",
       "22     901     UTTAR PRADESH          SAHARANPUR      14      1357       127   \n",
       "23     902     UTTAR PRADESH       MUZAFFARNAGAR      12       594        86   \n",
       "24     903     UTTAR PRADESH              BIJNOR      16      1919       159   \n",
       "25     904     UTTAR PRADESH           MORADABAD      10      1141        69   \n",
       "26    1001             BIHAR  PASHCHIM CHAMPARAN      18      1210       193   \n",
       "27    1002             BIHAR     PURBA CHAMPARAN      27      1534       251   \n",
       "28    1003             BIHAR             SHEOHAR       5       183        34   \n",
       "29    1004             BIHAR           SITAMARHI      17       852       169   \n",
       "30    1005             BIHAR           MADHUBANI      21      1102       241   \n",
       "31    1006             BIHAR              SUPAUL      11       623        94   \n",
       "\n",
       "    TOTPOPULAT  \n",
       "0       875564  \n",
       "1      1015503  \n",
       "2      1269751  \n",
       "3       518844  \n",
       "4      1507223  \n",
       "5        31528  \n",
       "6      3487882  \n",
       "7       992289  \n",
       "8      2026831  \n",
       "9      1054686  \n",
       "10      329686  \n",
       "11      391114  \n",
       "12      236857  \n",
       "13      558890  \n",
       "14     1136784  \n",
       "15     1214162  \n",
       "16     3651261  \n",
       "17      883418  \n",
       "18     2240749  \n",
       "19     1969520  \n",
       "20     1779650  \n",
       "21     2367745  \n",
       "22     3464228  \n",
       "23     4138605  \n",
       "24     3683896  \n",
       "25     4773138  \n",
       "26     3922780  \n",
       "27     5082868  \n",
       "28      656916  \n",
       "29     3419622  \n",
       "30     4476044  \n",
       "31     2228397  "
      ]
     },
     "execution_count": 26,
     "metadata": {},
     "output_type": "execute_result"
    }
   ],
   "source": [
    "df = pd.read_excel(\"Data2.xlsx\")\n",
    "df"
   ]
  },
  {
   "cell_type": "markdown",
   "id": "4fe30029",
   "metadata": {},
   "source": [
    "c. Examine the dataset information"
   ]
  },
  {
   "cell_type": "code",
   "execution_count": 27,
   "id": "48932a68",
   "metadata": {},
   "outputs": [
    {
     "name": "stdout",
     "output_type": "stream",
     "text": [
      "<class 'pandas.core.frame.DataFrame'>\n",
      "RangeIndex: 32 entries, 0 to 31\n",
      "Data columns (total 7 columns):\n",
      " #   Column      Non-Null Count  Dtype \n",
      "---  ------      --------------  ----- \n",
      " 0   DISTCD      32 non-null     int64 \n",
      " 1   STATNAME    32 non-null     object\n",
      " 2   DISTNAME    32 non-null     object\n",
      " 3   BLOCKS      32 non-null     int64 \n",
      " 4   VILLAGES    32 non-null     int64 \n",
      " 5   CLUSTERS    32 non-null     int64 \n",
      " 6   TOTPOPULAT  32 non-null     int64 \n",
      "dtypes: int64(5), object(2)\n",
      "memory usage: 1.9+ KB\n"
     ]
    }
   ],
   "source": [
    "df.info()"
   ]
  },
  {
   "cell_type": "markdown",
   "id": "8a8e83b7",
   "metadata": {},
   "source": [
    "d. Analyze null values"
   ]
  },
  {
   "cell_type": "code",
   "execution_count": 28,
   "id": "a6293931",
   "metadata": {},
   "outputs": [
    {
     "data": {
      "text/plain": [
       "DISTCD        0\n",
       "STATNAME      0\n",
       "DISTNAME      0\n",
       "BLOCKS        0\n",
       "VILLAGES      0\n",
       "CLUSTERS      0\n",
       "TOTPOPULAT    0\n",
       "dtype: int64"
      ]
     },
     "execution_count": 28,
     "metadata": {},
     "output_type": "execute_result"
    }
   ],
   "source": [
    "df.isnull().sum()"
   ]
  },
  {
   "cell_type": "markdown",
   "id": "763a9057",
   "metadata": {},
   "source": [
    "e. Statistical analysis"
   ]
  },
  {
   "cell_type": "code",
   "execution_count": 29,
   "id": "a7e9f96a",
   "metadata": {},
   "outputs": [
    {
     "data": {
      "text/html": [
       "<div>\n",
       "<style scoped>\n",
       "    .dataframe tbody tr th:only-of-type {\n",
       "        vertical-align: middle;\n",
       "    }\n",
       "\n",
       "    .dataframe tbody tr th {\n",
       "        vertical-align: top;\n",
       "    }\n",
       "\n",
       "    .dataframe thead th {\n",
       "        text-align: right;\n",
       "    }\n",
       "</style>\n",
       "<table border=\"1\" class=\"dataframe\">\n",
       "  <thead>\n",
       "    <tr style=\"text-align: right;\">\n",
       "      <th></th>\n",
       "      <th>DISTCD</th>\n",
       "      <th>BLOCKS</th>\n",
       "      <th>VILLAGES</th>\n",
       "      <th>CLUSTERS</th>\n",
       "      <th>TOTPOPULAT</th>\n",
       "    </tr>\n",
       "  </thead>\n",
       "  <tbody>\n",
       "    <tr>\n",
       "      <th>count</th>\n",
       "      <td>32.000000</td>\n",
       "      <td>32.000000</td>\n",
       "      <td>32.000000</td>\n",
       "      <td>32.00000</td>\n",
       "      <td>3.200000e+01</td>\n",
       "    </tr>\n",
       "    <tr>\n",
       "      <th>mean</th>\n",
       "      <td>615.562500</td>\n",
       "      <td>10.906250</td>\n",
       "      <td>764.062500</td>\n",
       "      <td>126.87500</td>\n",
       "      <td>2.043326e+06</td>\n",
       "    </tr>\n",
       "    <tr>\n",
       "      <th>std</th>\n",
       "      <td>312.572979</td>\n",
       "      <td>6.034093</td>\n",
       "      <td>540.128595</td>\n",
       "      <td>104.32386</td>\n",
       "      <td>1.499800e+06</td>\n",
       "    </tr>\n",
       "    <tr>\n",
       "      <th>min</th>\n",
       "      <td>101.000000</td>\n",
       "      <td>3.000000</td>\n",
       "      <td>80.000000</td>\n",
       "      <td>6.00000</td>\n",
       "      <td>3.152800e+04</td>\n",
       "    </tr>\n",
       "    <tr>\n",
       "      <th>25%</th>\n",
       "      <td>310.750000</td>\n",
       "      <td>6.000000</td>\n",
       "      <td>318.750000</td>\n",
       "      <td>51.25000</td>\n",
       "      <td>8.814545e+05</td>\n",
       "    </tr>\n",
       "    <tr>\n",
       "      <th>50%</th>\n",
       "      <td>652.000000</td>\n",
       "      <td>9.000000</td>\n",
       "      <td>664.000000</td>\n",
       "      <td>83.00000</td>\n",
       "      <td>1.643436e+06</td>\n",
       "    </tr>\n",
       "    <tr>\n",
       "      <th>75%</th>\n",
       "      <td>902.250000</td>\n",
       "      <td>15.250000</td>\n",
       "      <td>1111.750000</td>\n",
       "      <td>175.00000</td>\n",
       "      <td>3.470142e+06</td>\n",
       "    </tr>\n",
       "    <tr>\n",
       "      <th>max</th>\n",
       "      <td>1006.000000</td>\n",
       "      <td>27.000000</td>\n",
       "      <td>1937.000000</td>\n",
       "      <td>378.00000</td>\n",
       "      <td>5.082868e+06</td>\n",
       "    </tr>\n",
       "  </tbody>\n",
       "</table>\n",
       "</div>"
      ],
      "text/plain": [
       "            DISTCD     BLOCKS     VILLAGES   CLUSTERS    TOTPOPULAT\n",
       "count    32.000000  32.000000    32.000000   32.00000  3.200000e+01\n",
       "mean    615.562500  10.906250   764.062500  126.87500  2.043326e+06\n",
       "std     312.572979   6.034093   540.128595  104.32386  1.499800e+06\n",
       "min     101.000000   3.000000    80.000000    6.00000  3.152800e+04\n",
       "25%     310.750000   6.000000   318.750000   51.25000  8.814545e+05\n",
       "50%     652.000000   9.000000   664.000000   83.00000  1.643436e+06\n",
       "75%     902.250000  15.250000  1111.750000  175.00000  3.470142e+06\n",
       "max    1006.000000  27.000000  1937.000000  378.00000  5.082868e+06"
      ]
     },
     "execution_count": 29,
     "metadata": {},
     "output_type": "execute_result"
    }
   ],
   "source": [
    "df.describe()"
   ]
  },
  {
   "cell_type": "markdown",
   "id": "b9f43141",
   "metadata": {},
   "source": [
    "f. Generate boxplots for each column"
   ]
  },
  {
   "cell_type": "code",
   "execution_count": 30,
   "id": "765bd99b",
   "metadata": {},
   "outputs": [
    {
     "data": {
      "image/png": "[encoded data removed]",
      "text/plain": [
       "<Figure size 640x480 with 1 Axes>"
      ]
     },
     "metadata": {},
     "output_type": "display_data"
    },
    {
     "data": {
      "image/png": "[encoded data removed]",
      "text/plain": [
       "<Figure size 640x480 with 1 Axes>"
      ]
     },
     "metadata": {},
     "output_type": "display_data"
    },
    {
     "data": {
      "image/png": "[encoded data removed]",
      "text/plain": [
       "<Figure size 640x480 with 1 Axes>"
      ]
     },
     "metadata": {},
     "output_type": "display_data"
    },
    {
     "data": {
      "image/png": "[encoded data removed]",
      "text/plain": [
       "<Figure size 640x480 with 1 Axes>"
      ]
     },
     "metadata": {},
     "output_type": "display_data"
    },
    {
     "data": {
      "image/png": "[encoded data removed]",
      "text/plain": [
       "<Figure size 640x480 with 1 Axes>"
      ]
     },
     "metadata": {},
     "output_type": "display_data"
    }
   ],
   "source": [
    "df_test = df.select_dtypes(include=[float , int])\n",
    "for col in df_test :\n",
    "\n",
    "    sns.boxplot(df[col])\n",
    "    plt.show()"
   ]
  },
  {
   "cell_type": "markdown",
   "id": "46ffd02b",
   "metadata": {},
   "source": [
    "g. Determine quartiles and reomve outliers"
   ]
  },
  {
   "cell_type": "code",
   "execution_count": 31,
   "id": "f8f195f4",
   "metadata": {},
   "outputs": [
    {
     "name": "stderr",
     "output_type": "stream",
     "text": [
      "C:\\Users\\samya\\AppData\\Local\\Temp\\ipykernel_17112\\1642005113.py:9: FutureWarning:\n",
      "\n",
      "Setting an item of incompatible dtype is deprecated and will raise in a future error of pandas. Value '615.5625' has dtype incompatible with int64, please explicitly cast to a compatible dtype first.\n",
      "\n",
      "C:\\Users\\samya\\AppData\\Local\\Temp\\ipykernel_17112\\1642005113.py:9: FutureWarning:\n",
      "\n",
      "Setting an item of incompatible dtype is deprecated and will raise in a future error of pandas. Value '10.90625' has dtype incompatible with int64, please explicitly cast to a compatible dtype first.\n",
      "\n",
      "C:\\Users\\samya\\AppData\\Local\\Temp\\ipykernel_17112\\1642005113.py:9: FutureWarning:\n",
      "\n",
      "Setting an item of incompatible dtype is deprecated and will raise in a future error of pandas. Value '764.0625' has dtype incompatible with int64, please explicitly cast to a compatible dtype first.\n",
      "\n",
      "C:\\Users\\samya\\AppData\\Local\\Temp\\ipykernel_17112\\1642005113.py:9: FutureWarning:\n",
      "\n",
      "Setting an item of incompatible dtype is deprecated and will raise in a future error of pandas. Value '126.875' has dtype incompatible with int64, please explicitly cast to a compatible dtype first.\n",
      "\n",
      "C:\\Users\\samya\\AppData\\Local\\Temp\\ipykernel_17112\\1642005113.py:9: FutureWarning:\n",
      "\n",
      "Setting an item of incompatible dtype is deprecated and will raise in a future error of pandas. Value '2043325.96875' has dtype incompatible with int64, please explicitly cast to a compatible dtype first.\n",
      "\n"
     ]
    },
    {
     "data": {
      "text/html": [
       "<div>\n",
       "<style scoped>\n",
       "    .dataframe tbody tr th:only-of-type {\n",
       "        vertical-align: middle;\n",
       "    }\n",
       "\n",
       "    .dataframe tbody tr th {\n",
       "        vertical-align: top;\n",
       "    }\n",
       "\n",
       "    .dataframe thead th {\n",
       "        text-align: right;\n",
       "    }\n",
       "</style>\n",
       "<table border=\"1\" class=\"dataframe\">\n",
       "  <thead>\n",
       "    <tr style=\"text-align: right;\">\n",
       "      <th></th>\n",
       "      <th>DISTCD</th>\n",
       "      <th>BLOCKS</th>\n",
       "      <th>VILLAGES</th>\n",
       "      <th>CLUSTERS</th>\n",
       "      <th>TOTPOPULAT</th>\n",
       "    </tr>\n",
       "  </thead>\n",
       "  <tbody>\n",
       "    <tr>\n",
       "      <th>0</th>\n",
       "      <td>101.0</td>\n",
       "      <td>13.0</td>\n",
       "      <td>391.0</td>\n",
       "      <td>104.000</td>\n",
       "      <td>875564.0</td>\n",
       "    </tr>\n",
       "    <tr>\n",
       "      <th>1</th>\n",
       "      <td>102.0</td>\n",
       "      <td>18.0</td>\n",
       "      <td>678.0</td>\n",
       "      <td>144.000</td>\n",
       "      <td>1015503.0</td>\n",
       "    </tr>\n",
       "    <tr>\n",
       "      <th>2</th>\n",
       "      <td>103.0</td>\n",
       "      <td>8.0</td>\n",
       "      <td>94.0</td>\n",
       "      <td>65.000</td>\n",
       "      <td>1269751.0</td>\n",
       "    </tr>\n",
       "    <tr>\n",
       "      <th>3</th>\n",
       "      <td>201.0</td>\n",
       "      <td>15.0</td>\n",
       "      <td>1150.0</td>\n",
       "      <td>266.000</td>\n",
       "      <td>518844.0</td>\n",
       "    </tr>\n",
       "    <tr>\n",
       "      <th>4</th>\n",
       "      <td>202.0</td>\n",
       "      <td>19.0</td>\n",
       "      <td>1785.0</td>\n",
       "      <td>358.000</td>\n",
       "      <td>1507223.0</td>\n",
       "    </tr>\n",
       "    <tr>\n",
       "      <th>5</th>\n",
       "      <td>203.0</td>\n",
       "      <td>4.0</td>\n",
       "      <td>168.0</td>\n",
       "      <td>53.000</td>\n",
       "      <td>31528.0</td>\n",
       "    </tr>\n",
       "    <tr>\n",
       "      <th>6</th>\n",
       "      <td>309.0</td>\n",
       "      <td>12.0</td>\n",
       "      <td>1044.0</td>\n",
       "      <td>143.000</td>\n",
       "      <td>3487882.0</td>\n",
       "    </tr>\n",
       "    <tr>\n",
       "      <th>7</th>\n",
       "      <td>310.0</td>\n",
       "      <td>5.0</td>\n",
       "      <td>332.0</td>\n",
       "      <td>46.000</td>\n",
       "      <td>992289.0</td>\n",
       "    </tr>\n",
       "    <tr>\n",
       "      <th>8</th>\n",
       "      <td>311.0</td>\n",
       "      <td>6.0</td>\n",
       "      <td>666.0</td>\n",
       "      <td>79.000</td>\n",
       "      <td>2026831.0</td>\n",
       "    </tr>\n",
       "    <tr>\n",
       "      <th>9</th>\n",
       "      <td>401.0</td>\n",
       "      <td>20.0</td>\n",
       "      <td>84.0</td>\n",
       "      <td>20.000</td>\n",
       "      <td>1054686.0</td>\n",
       "    </tr>\n",
       "    <tr>\n",
       "      <th>10</th>\n",
       "      <td>501.0</td>\n",
       "      <td>6.0</td>\n",
       "      <td>662.0</td>\n",
       "      <td>61.000</td>\n",
       "      <td>329686.0</td>\n",
       "    </tr>\n",
       "    <tr>\n",
       "      <th>11</th>\n",
       "      <td>502.0</td>\n",
       "      <td>9.0</td>\n",
       "      <td>809.0</td>\n",
       "      <td>78.000</td>\n",
       "      <td>391114.0</td>\n",
       "    </tr>\n",
       "    <tr>\n",
       "      <th>12</th>\n",
       "      <td>503.0</td>\n",
       "      <td>3.0</td>\n",
       "      <td>537.0</td>\n",
       "      <td>46.000</td>\n",
       "      <td>236857.0</td>\n",
       "    </tr>\n",
       "    <tr>\n",
       "      <th>13</th>\n",
       "      <td>601.0</td>\n",
       "      <td>4.0</td>\n",
       "      <td>279.0</td>\n",
       "      <td>43.000</td>\n",
       "      <td>558890.0</td>\n",
       "    </tr>\n",
       "    <tr>\n",
       "      <th>14</th>\n",
       "      <td>602.0</td>\n",
       "      <td>6.0</td>\n",
       "      <td>431.0</td>\n",
       "      <td>75.000</td>\n",
       "      <td>1136784.0</td>\n",
       "    </tr>\n",
       "    <tr>\n",
       "      <th>15</th>\n",
       "      <td>603.0</td>\n",
       "      <td>6.0</td>\n",
       "      <td>591.0</td>\n",
       "      <td>80.000</td>\n",
       "      <td>1214162.0</td>\n",
       "    </tr>\n",
       "    <tr>\n",
       "      <th>16</th>\n",
       "      <td>701.0</td>\n",
       "      <td>9.0</td>\n",
       "      <td>224.0</td>\n",
       "      <td>9.000</td>\n",
       "      <td>3651261.0</td>\n",
       "    </tr>\n",
       "    <tr>\n",
       "      <th>17</th>\n",
       "      <td>702.0</td>\n",
       "      <td>6.0</td>\n",
       "      <td>80.0</td>\n",
       "      <td>6.000</td>\n",
       "      <td>883418.0</td>\n",
       "    </tr>\n",
       "    <tr>\n",
       "      <th>18</th>\n",
       "      <td>703.0</td>\n",
       "      <td>6.0</td>\n",
       "      <td>133.0</td>\n",
       "      <td>6.000</td>\n",
       "      <td>2240749.0</td>\n",
       "    </tr>\n",
       "    <tr>\n",
       "      <th>19</th>\n",
       "      <td>801.0</td>\n",
       "      <td>9.0</td>\n",
       "      <td>1937.0</td>\n",
       "      <td>126.875</td>\n",
       "      <td>1969520.0</td>\n",
       "    </tr>\n",
       "    <tr>\n",
       "      <th>20</th>\n",
       "      <td>802.0</td>\n",
       "      <td>7.0</td>\n",
       "      <td>994.0</td>\n",
       "      <td>284.000</td>\n",
       "      <td>1779650.0</td>\n",
       "    </tr>\n",
       "    <tr>\n",
       "      <th>21</th>\n",
       "      <td>803.0</td>\n",
       "      <td>7.0</td>\n",
       "      <td>866.0</td>\n",
       "      <td>293.000</td>\n",
       "      <td>2367745.0</td>\n",
       "    </tr>\n",
       "    <tr>\n",
       "      <th>22</th>\n",
       "      <td>901.0</td>\n",
       "      <td>14.0</td>\n",
       "      <td>1357.0</td>\n",
       "      <td>127.000</td>\n",
       "      <td>3464228.0</td>\n",
       "    </tr>\n",
       "    <tr>\n",
       "      <th>23</th>\n",
       "      <td>902.0</td>\n",
       "      <td>12.0</td>\n",
       "      <td>594.0</td>\n",
       "      <td>86.000</td>\n",
       "      <td>4138605.0</td>\n",
       "    </tr>\n",
       "    <tr>\n",
       "      <th>24</th>\n",
       "      <td>903.0</td>\n",
       "      <td>16.0</td>\n",
       "      <td>1919.0</td>\n",
       "      <td>159.000</td>\n",
       "      <td>3683896.0</td>\n",
       "    </tr>\n",
       "    <tr>\n",
       "      <th>25</th>\n",
       "      <td>904.0</td>\n",
       "      <td>10.0</td>\n",
       "      <td>1141.0</td>\n",
       "      <td>69.000</td>\n",
       "      <td>4773138.0</td>\n",
       "    </tr>\n",
       "    <tr>\n",
       "      <th>26</th>\n",
       "      <td>1001.0</td>\n",
       "      <td>18.0</td>\n",
       "      <td>1210.0</td>\n",
       "      <td>193.000</td>\n",
       "      <td>3922780.0</td>\n",
       "    </tr>\n",
       "    <tr>\n",
       "      <th>27</th>\n",
       "      <td>1002.0</td>\n",
       "      <td>27.0</td>\n",
       "      <td>1534.0</td>\n",
       "      <td>251.000</td>\n",
       "      <td>5082868.0</td>\n",
       "    </tr>\n",
       "    <tr>\n",
       "      <th>28</th>\n",
       "      <td>1003.0</td>\n",
       "      <td>5.0</td>\n",
       "      <td>183.0</td>\n",
       "      <td>34.000</td>\n",
       "      <td>656916.0</td>\n",
       "    </tr>\n",
       "    <tr>\n",
       "      <th>29</th>\n",
       "      <td>1004.0</td>\n",
       "      <td>17.0</td>\n",
       "      <td>852.0</td>\n",
       "      <td>169.000</td>\n",
       "      <td>3419622.0</td>\n",
       "    </tr>\n",
       "    <tr>\n",
       "      <th>30</th>\n",
       "      <td>1005.0</td>\n",
       "      <td>21.0</td>\n",
       "      <td>1102.0</td>\n",
       "      <td>241.000</td>\n",
       "      <td>4476044.0</td>\n",
       "    </tr>\n",
       "    <tr>\n",
       "      <th>31</th>\n",
       "      <td>1006.0</td>\n",
       "      <td>11.0</td>\n",
       "      <td>623.0</td>\n",
       "      <td>94.000</td>\n",
       "      <td>2228397.0</td>\n",
       "    </tr>\n",
       "  </tbody>\n",
       "</table>\n",
       "</div>"
      ],
      "text/plain": [
       "    DISTCD  BLOCKS  VILLAGES  CLUSTERS  TOTPOPULAT\n",
       "0    101.0    13.0     391.0   104.000    875564.0\n",
       "1    102.0    18.0     678.0   144.000   1015503.0\n",
       "2    103.0     8.0      94.0    65.000   1269751.0\n",
       "3    201.0    15.0    1150.0   266.000    518844.0\n",
       "4    202.0    19.0    1785.0   358.000   1507223.0\n",
       "5    203.0     4.0     168.0    53.000     31528.0\n",
       "6    309.0    12.0    1044.0   143.000   3487882.0\n",
       "7    310.0     5.0     332.0    46.000    992289.0\n",
       "8    311.0     6.0     666.0    79.000   2026831.0\n",
       "9    401.0    20.0      84.0    20.000   1054686.0\n",
       "10   501.0     6.0     662.0    61.000    329686.0\n",
       "11   502.0     9.0     809.0    78.000    391114.0\n",
       "12   503.0     3.0     537.0    46.000    236857.0\n",
       "13   601.0     4.0     279.0    43.000    558890.0\n",
       "14   602.0     6.0     431.0    75.000   1136784.0\n",
       "15   603.0     6.0     591.0    80.000   1214162.0\n",
       "16   701.0     9.0     224.0     9.000   3651261.0\n",
       "17   702.0     6.0      80.0     6.000    883418.0\n",
       "18   703.0     6.0     133.0     6.000   2240749.0\n",
       "19   801.0     9.0    1937.0   126.875   1969520.0\n",
       "20   802.0     7.0     994.0   284.000   1779650.0\n",
       "21   803.0     7.0     866.0   293.000   2367745.0\n",
       "22   901.0    14.0    1357.0   127.000   3464228.0\n",
       "23   902.0    12.0     594.0    86.000   4138605.0\n",
       "24   903.0    16.0    1919.0   159.000   3683896.0\n",
       "25   904.0    10.0    1141.0    69.000   4773138.0\n",
       "26  1001.0    18.0    1210.0   193.000   3922780.0\n",
       "27  1002.0    27.0    1534.0   251.000   5082868.0\n",
       "28  1003.0     5.0     183.0    34.000    656916.0\n",
       "29  1004.0    17.0     852.0   169.000   3419622.0\n",
       "30  1005.0    21.0    1102.0   241.000   4476044.0\n",
       "31  1006.0    11.0     623.0    94.000   2228397.0"
      ]
     },
     "execution_count": 31,
     "metadata": {},
     "output_type": "execute_result"
    }
   ],
   "source": [
    "for i in df_test:\n",
    "    q1 = np.percentile(df_test[i], 25)\n",
    "    q3 = np.percentile(df_test[i], 75)\n",
    "    iqr = q3 - q1\n",
    "    lower_bound = q1 - 1.5 * iqr\n",
    "    upper_bound = q3 + 1.5 * iqr\n",
    "    filt = (df_test[i] < lower_bound) | (df_test[i] > upper_bound) \n",
    "    \n",
    "    df_test.loc[filt , i] = df[i].mean()\n",
    "\n",
    "df_test"
   ]
  },
  {
   "cell_type": "code",
   "execution_count": 32,
   "id": "890f4d85",
   "metadata": {},
   "outputs": [
    {
     "data": {
      "text/html": [
       "<div>\n",
       "<style scoped>\n",
       "    .dataframe tbody tr th:only-of-type {\n",
       "        vertical-align: middle;\n",
       "    }\n",
       "\n",
       "    .dataframe tbody tr th {\n",
       "        vertical-align: top;\n",
       "    }\n",
       "\n",
       "    .dataframe thead th {\n",
       "        text-align: right;\n",
       "    }\n",
       "</style>\n",
       "<table border=\"1\" class=\"dataframe\">\n",
       "  <thead>\n",
       "    <tr style=\"text-align: right;\">\n",
       "      <th></th>\n",
       "      <th>DISTCD</th>\n",
       "      <th>BLOCKS</th>\n",
       "      <th>VILLAGES</th>\n",
       "      <th>CLUSTERS</th>\n",
       "      <th>TOTPOPULAT</th>\n",
       "    </tr>\n",
       "  </thead>\n",
       "  <tbody>\n",
       "    <tr>\n",
       "      <th>count</th>\n",
       "      <td>32.000000</td>\n",
       "      <td>32.000000</td>\n",
       "      <td>32.000000</td>\n",
       "      <td>32.000000</td>\n",
       "      <td>3.200000e+01</td>\n",
       "    </tr>\n",
       "    <tr>\n",
       "      <th>mean</th>\n",
       "      <td>615.562500</td>\n",
       "      <td>10.906250</td>\n",
       "      <td>764.062500</td>\n",
       "      <td>119.027344</td>\n",
       "      <td>2.043326e+06</td>\n",
       "    </tr>\n",
       "    <tr>\n",
       "      <th>std</th>\n",
       "      <td>312.572979</td>\n",
       "      <td>6.034093</td>\n",
       "      <td>540.128595</td>\n",
       "      <td>93.731427</td>\n",
       "      <td>1.499800e+06</td>\n",
       "    </tr>\n",
       "    <tr>\n",
       "      <th>min</th>\n",
       "      <td>101.000000</td>\n",
       "      <td>3.000000</td>\n",
       "      <td>80.000000</td>\n",
       "      <td>6.000000</td>\n",
       "      <td>3.152800e+04</td>\n",
       "    </tr>\n",
       "    <tr>\n",
       "      <th>25%</th>\n",
       "      <td>310.750000</td>\n",
       "      <td>6.000000</td>\n",
       "      <td>318.750000</td>\n",
       "      <td>51.250000</td>\n",
       "      <td>8.814545e+05</td>\n",
       "    </tr>\n",
       "    <tr>\n",
       "      <th>50%</th>\n",
       "      <td>652.000000</td>\n",
       "      <td>9.000000</td>\n",
       "      <td>664.000000</td>\n",
       "      <td>83.000000</td>\n",
       "      <td>1.643436e+06</td>\n",
       "    </tr>\n",
       "    <tr>\n",
       "      <th>75%</th>\n",
       "      <td>902.250000</td>\n",
       "      <td>15.250000</td>\n",
       "      <td>1111.750000</td>\n",
       "      <td>161.500000</td>\n",
       "      <td>3.470142e+06</td>\n",
       "    </tr>\n",
       "    <tr>\n",
       "      <th>max</th>\n",
       "      <td>1006.000000</td>\n",
       "      <td>27.000000</td>\n",
       "      <td>1937.000000</td>\n",
       "      <td>358.000000</td>\n",
       "      <td>5.082868e+06</td>\n",
       "    </tr>\n",
       "  </tbody>\n",
       "</table>\n",
       "</div>"
      ],
      "text/plain": [
       "            DISTCD     BLOCKS     VILLAGES    CLUSTERS    TOTPOPULAT\n",
       "count    32.000000  32.000000    32.000000   32.000000  3.200000e+01\n",
       "mean    615.562500  10.906250   764.062500  119.027344  2.043326e+06\n",
       "std     312.572979   6.034093   540.128595   93.731427  1.499800e+06\n",
       "min     101.000000   3.000000    80.000000    6.000000  3.152800e+04\n",
       "25%     310.750000   6.000000   318.750000   51.250000  8.814545e+05\n",
       "50%     652.000000   9.000000   664.000000   83.000000  1.643436e+06\n",
       "75%     902.250000  15.250000  1111.750000  161.500000  3.470142e+06\n",
       "max    1006.000000  27.000000  1937.000000  358.000000  5.082868e+06"
      ]
     },
     "execution_count": 32,
     "metadata": {},
     "output_type": "execute_result"
    }
   ],
   "source": [
    "df_test.describe()"
   ]
  },
  {
   "cell_type": "markdown",
   "id": "2e6362c0",
   "metadata": {},
   "source": [
    "h. calculate correlation and visualize with a heatmap"
   ]
  },
  {
   "cell_type": "code",
   "execution_count": 33,
   "id": "bab5cde6",
   "metadata": {},
   "outputs": [
    {
     "data": {
      "text/plain": [
       "<Axes: >"
      ]
     },
     "execution_count": 33,
     "metadata": {},
     "output_type": "execute_result"
    },
    {
     "data": {
      "image/png": "[encoded data removed]",
      "text/plain": [
       "<Figure size 640x480 with 2 Axes>"
      ]
     },
     "metadata": {},
     "output_type": "display_data"
    }
   ],
   "source": [
    "sns.heatmap(df_test.corr() , annot = True)"
   ]
  },
  {
   "cell_type": "markdown",
   "id": "c9139cf6",
   "metadata": {},
   "source": [
    "i. Normalize the various features of the given datasets"
   ]
  },
  {
   "cell_type": "code",
   "execution_count": 34,
   "id": "e48f8896",
   "metadata": {},
   "outputs": [
    {
     "data": {
      "text/plain": [
       "array([[0.        , 0.41666667, 0.16747442, 0.27840909, 0.1670915 ],\n",
       "       [0.00110497, 0.625     , 0.32202477, 0.39204545, 0.19479485],\n",
       "       [0.00220994, 0.20833333, 0.00753904, 0.16761364, 0.24512763],\n",
       "       [0.11049724, 0.5       , 0.57619817, 0.73863636, 0.09647262],\n",
       "       [0.11160221, 0.66666667, 0.91814755, 1.        , 0.29213931],\n",
       "       [0.11270718, 0.04166667, 0.04738826, 0.13352273, 0.        ],\n",
       "       [0.22983425, 0.375     , 0.51911686, 0.38920455, 0.68424497],\n",
       "       [0.23093923, 0.08333333, 0.13570275, 0.11363636, 0.19019923],\n",
       "       [0.2320442 , 0.125     , 0.31556274, 0.20738636, 0.39500469],\n",
       "       [0.33149171, 0.70833333, 0.00215401, 0.03977273, 0.2025518 ],\n",
       "       [0.44198895, 0.125     , 0.31340872, 0.15625   , 0.05902553],\n",
       "       [0.44309392, 0.25      , 0.39256866, 0.20454545, 0.07118626],\n",
       "       [0.4441989 , 0.        , 0.24609585, 0.11363636, 0.04064842],\n",
       "       [0.55248619, 0.04166667, 0.10716209, 0.10511364, 0.10440042],\n",
       "       [0.55359116, 0.125     , 0.18901454, 0.19602273, 0.21880452],\n",
       "       [0.55469613, 0.125     , 0.27517501, 0.21022727, 0.23412283],\n",
       "       [0.66298343, 0.25      , 0.07754443, 0.00852273, 0.71658867],\n",
       "       [0.6640884 , 0.125     , 0.        , 0.        , 0.16864634],\n",
       "       [0.66519337, 0.125     , 0.02854066, 0.        , 0.43735345],\n",
       "       [0.77348066, 0.25      , 1.        , 0.34339489, 0.38365899],\n",
       "       [0.77458564, 0.16666667, 0.49219171, 0.78977273, 0.34607094],\n",
       "       [0.77569061, 0.16666667, 0.42326333, 0.81534091, 0.46249451],\n",
       "       [0.8839779 , 0.45833333, 0.68766828, 0.34375   , 0.67956225],\n",
       "       [0.88508287, 0.375     , 0.27679052, 0.22727273, 0.81306683],\n",
       "       [0.88618785, 0.54166667, 0.99030695, 0.43465909, 0.72304933],\n",
       "       [0.88729282, 0.29166667, 0.57135164, 0.17897727, 0.9386836 ],\n",
       "       [0.99447514, 0.625     , 0.60850835, 0.53125   , 0.77034054],\n",
       "       [0.99558011, 1.        , 0.78298331, 0.69602273, 1.        ],\n",
       "       [0.99668508, 0.08333333, 0.05546581, 0.07954545, 0.12380636],\n",
       "       [0.99779006, 0.58333333, 0.41572429, 0.46306818, 0.67073173],\n",
       "       [0.99889503, 0.75      , 0.55035003, 0.66761364, 0.87986871],\n",
       "       [1.        , 0.33333333, 0.29240711, 0.25      , 0.43490816]])"
      ]
     },
     "execution_count": 34,
     "metadata": {},
     "output_type": "execute_result"
    }
   ],
   "source": [
    "from sklearn.preprocessing import MinMaxScaler\n",
    "\n",
    "scaler = MinMaxScaler()\n",
    "model = scaler.fit(df_test)\n",
    "model.transform(df_test)"
   ]
  },
  {
   "cell_type": "markdown",
   "id": "40007f13",
   "metadata": {},
   "source": [
    "j. Arrange correlation values for each attribute in ascending order"
   ]
  },
  {
   "cell_type": "code",
   "execution_count": 35,
   "id": "904b7967",
   "metadata": {},
   "outputs": [
    {
     "name": "stdout",
     "output_type": "stream",
     "text": [
      "CLUSTERS    DISTCD      0.098607\n",
      "BLOCKS      DISTCD      0.171932\n",
      "VILLAGES    DISTCD      0.295476\n",
      "TOTPOPULAT  CLUSTERS    0.308139\n",
      "            VILLAGES    0.490269\n",
      "VILLAGES    BLOCKS      0.532225\n",
      "TOTPOPULAT  BLOCKS      0.559050\n",
      "CLUSTERS    BLOCKS      0.560216\n",
      "TOTPOPULAT  DISTCD      0.630933\n",
      "CLUSTERS    VILLAGES    0.708498\n",
      "dtype: float64\n"
     ]
    }
   ],
   "source": [
    "from sklearn.preprocessing import LabelEncoder \n",
    "\n",
    "corr_mat = df_test.corr(method='pearson') \n",
    "  \n",
    "# Extract upper triangle of correlation matrix\n",
    "upper_corr_mat = corr_mat.where(np.triu(np.ones(corr_mat.shape), k=1).astype(bool))\n",
    "\n",
    "# Extract unique correlation pairs and sort\n",
    "unique_corr_pairs = upper_corr_mat.unstack().dropna()\n",
    "sorted_mat = unique_corr_pairs.sort_values()\n",
    "\n",
    "print(sorted_mat)"
   ]
  },
  {
   "cell_type": "markdown",
   "id": "63a50224",
   "metadata": {},
   "source": [
    "Q6)  a. Scatter plots with coloured points and adjustable sizes using columns (1) col1, col2 and (2) col3, col4 (3) col5, col6."
   ]
  },
  {
   "cell_type": "code",
   "execution_count": 36,
   "id": "ca9364f1",
   "metadata": {},
   "outputs": [
    {
     "data": {
      "image/png": "[encoded data removed]",
      "text/plain": [
       "<Figure size 640x480 with 1 Axes>"
      ]
     },
     "metadata": {},
     "output_type": "display_data"
    },
    {
     "data": {
      "image/png": "[encoded data removed]",
      "text/plain": [
       "<Figure size 640x480 with 1 Axes>"
      ]
     },
     "metadata": {},
     "output_type": "display_data"
    }
   ],
   "source": [
    "plt.scatter(df_test['DISTCD'] , df_test['BLOCKS'] , c=\"Pink\")\n",
    "plt.xlabel(\"DISTCD\")\n",
    "plt.ylabel(\"BLOCKS\")\n",
    "plt.show()\n",
    "\n",
    "plt.scatter(df_test['VILLAGES'] , df_test['CLUSTERS'] , c=\"Red\")\n",
    "plt.xlabel(\"VILLAGES\")\n",
    "plt.ylabel(\"CLUSTERS\")\n",
    "plt.show()"
   ]
  },
  {
   "cell_type": "markdown",
   "id": "793cc326",
   "metadata": {},
   "source": [
    "b. Line charts for columns (1) col1, col2 (2) col3, col4 (3) col5, col6."
   ]
  },
  {
   "cell_type": "code",
   "execution_count": 37,
   "id": "92355e75",
   "metadata": {},
   "outputs": [
    {
     "data": {
      "image/png": "[encoded data removed]",
      "text/plain": [
       "<Figure size 640x480 with 1 Axes>"
      ]
     },
     "metadata": {},
     "output_type": "display_data"
    },
    {
     "data": {
      "image/png": "[encoded data removed]",
      "text/plain": [
       "<Figure size 640x480 with 1 Axes>"
      ]
     },
     "metadata": {},
     "output_type": "display_data"
    }
   ],
   "source": [
    "sns.lineplot(data=df, x='DISTCD', y='BLOCKS')\n",
    "plt.show()\n",
    "\n",
    "# Plotting line plot for BloodPressure vs. SkinThickness\n",
    "sns.lineplot(data=df, x='VILLAGES', y='CLUSTERS')\n",
    "plt.show()"
   ]
  },
  {
   "cell_type": "markdown",
   "id": "0d0e5dec",
   "metadata": {},
   "source": [
    "c. Bar charts representing columns (1) col1, col2 (2) col3, col4 (3) col5, col6"
   ]
  },
  {
   "cell_type": "code",
   "execution_count": 38,
   "id": "408bdd78",
   "metadata": {},
   "outputs": [
    {
     "data": {
      "image/png": "[encoded data removed]",
      "text/plain": [
       "<Figure size 640x480 with 1 Axes>"
      ]
     },
     "metadata": {},
     "output_type": "display_data"
    }
   ],
   "source": [
    "plt.bar(df_test.iloc[:,0],df_test.iloc[:,1])\n",
    "plt.show()"
   ]
  },
  {
   "cell_type": "code",
   "execution_count": 39,
   "id": "a4d2907c",
   "metadata": {},
   "outputs": [
    {
     "data": {
      "image/png": "[encoded data removed]",
      "text/plain": [
       "<Figure size 640x480 with 1 Axes>"
      ]
     },
     "metadata": {},
     "output_type": "display_data"
    }
   ],
   "source": [
    "plt.bar(df_test.iloc[:,2],df_test.iloc[:,3])\n",
    "plt.show()"
   ]
  },
  {
   "cell_type": "markdown",
   "id": "ea0e9dcc",
   "metadata": {},
   "source": [
    "d. Histograms to depict the dataset's distribution."
   ]
  },
  {
   "cell_type": "code",
   "execution_count": 40,
   "id": "872223c0",
   "metadata": {},
   "outputs": [
    {
     "data": {
      "image/png": "[encoded data removed]",
      "text/plain": [
       "<Figure size 640x480 with 1 Axes>"
      ]
     },
     "metadata": {},
     "output_type": "display_data"
    },
    {
     "data": {
      "image/png": "[encoded data removed]",
      "text/plain": [
       "<Figure size 640x480 with 1 Axes>"
      ]
     },
     "metadata": {},
     "output_type": "display_data"
    },
    {
     "data": {
      "image/png": "[encoded data removed]",
      "text/plain": [
       "<Figure size 640x480 with 1 Axes>"
      ]
     },
     "metadata": {},
     "output_type": "display_data"
    },
    {
     "data": {
      "image/png": "[encoded data removed]",
      "text/plain": [
       "<Figure size 640x480 with 1 Axes>"
      ]
     },
     "metadata": {},
     "output_type": "display_data"
    },
    {
     "data": {
      "image/png": "[encoded data removed]",
      "text/plain": [
       "<Figure size 640x480 with 1 Axes>"
      ]
     },
     "metadata": {},
     "output_type": "display_data"
    }
   ],
   "source": [
    "for col in df_test:\n",
    "    plt.hist(df_test[col])\n",
    "    plt.title(col)\n",
    "    plt.show()"
   ]
  },
  {
   "cell_type": "markdown",
   "id": "5e22bd93",
   "metadata": {},
   "source": [
    "e. Employ Bokeh for interactive data visualization"
   ]
  },
  {
   "cell_type": "code",
   "execution_count": 41,
   "id": "fe23b2b2",
   "metadata": {},
   "outputs": [
    {
     "data": {
      "text/html": [
       "    <style>\n",
       "        .bk-notebook-logo {\n",
       "            display: block;\n",
       "            width: 20px;\n",
       "            height: 20px;\n",
       "            background-image: url(data:image/png;base64,iVBORw0KGgoAAAANSUhEUgAAABQAAAAUCAYAAACNiR0NAAAABHNCSVQICAgIfAhkiAAAAAlwSFlzAAALEgAACxIB0t1+/AAAABx0RVh0U29mdHdhcmUAQWRvYmUgRmlyZXdvcmtzIENTNui8sowAAAOkSURBVDiNjZRtaJVlGMd/1/08zzln5zjP1LWcU9N0NkN8m2CYjpgQYQXqSs0I84OLIC0hkEKoPtiH3gmKoiJDU7QpLgoLjLIQCpEsNJ1vqUOdO7ppbuec5+V+rj4ctwzd8IIbbi6u+8f1539dt3A78eXC7QizUF7gyV1fD1Yqg4JWz84yffhm0qkFqBogB9rM8tZdtwVsPUhWhGcFJngGeWrPzHm5oaMmkfEg1usvLFyc8jLRqDOMru7AyC8saQr7GG7f5fvDeH7Ej8CM66nIF+8yngt6HWaKh7k49Soy9nXurCi1o3qUbS3zWfrYeQDTB/Qj6kX6Ybhw4B+bOYoLKCC9H3Nu/leUTZ1JdRWkkn2ldcCamzrcf47KKXdAJllSlxAOkRgyHsGC/zRday5Qld9DyoM4/q/rUoy/CXh3jzOu3bHUVZeU+DEn8FInkPBFlu3+nW3Nw0mk6vCDiWg8CeJaxEwuHS3+z5RgY+YBR6V1Z1nxSOfoaPa4LASWxxdNp+VWTk7+4vzaou8v8PN+xo+KY2xsw6une2frhw05CTYOmQvsEhjhWjn0bmXPjpE1+kplmmkP3suftwTubK9Vq22qKmrBhpY4jvd5afdRA3wGjFAgcnTK2s4hY0/GPNIb0nErGMCRxWOOX64Z8RAC4oCXdklmEvcL8o0BfkNK4lUg9HTl+oPlQxdNo3Mg4Nv175e/1LDGzZen30MEjRUtmXSfiTVu1kK8W4txyV6BMKlbgk3lMwYCiusNy9fVfvvwMxv8Ynl6vxoByANLTWplvuj/nF9m2+PDtt1eiHPBr1oIfhCChQMBw6Aw0UulqTKZdfVvfG7VcfIqLG9bcldL/+pdWTLxLUy8Qq38heUIjh4XlzZxzQm19lLFlr8vdQ97rjZVOLf8nclzckbcD4wxXMidpX30sFd37Fv/GtwwhzhxGVAprjbg0gCAEeIgwCZyTV2Z1REEW8O4py0wsjeloKoMr6iCY6dP92H6Vw/oTyICIthibxjm/DfN9lVz8IqtqKYLUXfoKVMVQVVJOElGjrnnUt9T9wbgp8AyYKaGlqingHZU/uG2NTZSVqwHQTWkx9hxjkpWDaCg6Ckj5qebgBVbT3V3NNXMSiWSDdGV3hrtzla7J+duwPOToIg42ChPQOQjspnSlp1V+Gjdged7+8UN5CRAV7a5EdFNwCjEaBR27b3W890TE7g24NAP/mMDXRWrGoFPQI9ls/MWO2dWFAar/xcOIImbbpA3zgAAAABJRU5ErkJggg==);\n",
       "        }\n",
       "    </style>\n",
       "    <div>\n",
       "        <a href=\"https://bokeh.org\" target=\"_blank\" class=\"bk-notebook-logo\"></a>\n",
       "        <span id=\"dde23277-7395-4253-b041-c3d671fce28d\">Loading BokehJS ...</span>\n",
       "    </div>\n"
      ]
     },
     "metadata": {},
     "output_type": "display_data"
    },
    {
     "data": {
      "application/javascript": [
       "(function(root) {\n",
       "  function now() {\n",
       "    return new Date();\n",
       "  }\n",
       "\n",
       "  const force = true;\n",
       "\n",
       "  if (typeof root._bokeh_onload_callbacks === \"undefined\" || force === true) {\n",
       "    root._bokeh_onload_callbacks = [];\n",
       "    root._bokeh_is_loading = undefined;\n",
       "  }\n",
       "\n",
       "const JS_MIME_TYPE = 'application/javascript';\n",
       "  const HTML_MIME_TYPE = 'text/html';\n",
       "  const EXEC_MIME_TYPE = 'application/vnd.bokehjs_exec.v0+json';\n",
       "  const CLASS_NAME = 'output_bokeh rendered_html';\n",
       "\n",
       "  /**\n",
       "   * Render data to the DOM node\n",
       "   */\n",
       "  function render(props, node) {\n",
       "    const script = document.createElement(\"script\");\n",
       "    node.appendChild(script);\n",
       "  }\n",
       "\n",
       "  /**\n",
       "   * Handle when an output is cleared or removed\n",
       "   */\n",
       "  function handleClearOutput(event, handle) {\n",
       "    function drop(id) {\n",
       "      const view = Bokeh.index.get_by_id(id)\n",
       "      if (view != null) {\n",
       "        view.model.document.clear()\n",
       "        Bokeh.index.delete(view)\n",
       "      }\n",
       "    }\n",
       "\n",
       "    const cell = handle.cell;\n",
       "\n",
       "    const id = cell.output_area._bokeh_element_id;\n",
       "    const server_id = cell.output_area._bokeh_server_id;\n",
       "\n",
       "    // Clean up Bokeh references\n",
       "    if (id != null) {\n",
       "      drop(id)\n",
       "    }\n",
       "\n",
       "    if (server_id !== undefined) {\n",
       "      // Clean up Bokeh references\n",
       "      const cmd_clean = \"from bokeh.io.state import curstate; print(curstate().uuid_to_server['\" + server_id + \"'].get_sessions()[0].document.roots[0]._id)\";\n",
       "      cell.notebook.kernel.execute(cmd_clean, {\n",
       "        iopub: {\n",
       "          output: function(msg) {\n",
       "            const id = msg.content.text.trim()\n",
       "            drop(id)\n",
       "          }\n",
       "        }\n",
       "      });\n",
       "      // Destroy server and session\n",
       "      const cmd_destroy = \"import bokeh.io.notebook as ion; ion.destroy_server('\" + server_id + \"')\";\n",
       "      cell.notebook.kernel.execute(cmd_destroy);\n",
       "    }\n",
       "  }\n",
       "\n",
       "  /**\n",
       "   * Handle when a new output is added\n",
       "   */\n",
       "  function handleAddOutput(event, handle) {\n",
       "    const output_area = handle.output_area;\n",
       "    const output = handle.output;\n",
       "\n",
       "    // limit handleAddOutput to display_data with EXEC_MIME_TYPE content only\n",
       "    if ((output.output_type != \"display_data\") || (!Object.prototype.hasOwnProperty.call(output.data, EXEC_MIME_TYPE))) {\n",
       "      return\n",
       "    }\n",
       "\n",
       "    const toinsert = output_area.element.find(\".\" + CLASS_NAME.split(' ')[0]);\n",
       "\n",
       "    if (output.metadata[EXEC_MIME_TYPE][\"id\"] !== undefined) {\n",
       "      toinsert[toinsert.length - 1].firstChild.textContent = output.data[JS_MIME_TYPE];\n",
       "      // store reference to embed id on output_area\n",
       "      output_area._bokeh_element_id = output.metadata[EXEC_MIME_TYPE][\"id\"];\n",
       "    }\n",
       "    if (output.metadata[EXEC_MIME_TYPE][\"server_id\"] !== undefined) {\n",
       "      const bk_div = document.createElement(\"div\");\n",
       "      bk_div.innerHTML = output.data[HTML_MIME_TYPE];\n",
       "      const script_attrs = bk_div.children[0].attributes;\n",
       "      for (let i = 0; i < script_attrs.length; i++) {\n",
       "        toinsert[toinsert.length - 1].firstChild.setAttribute(script_attrs[i].name, script_attrs[i].value);\n",
       "        toinsert[toinsert.length - 1].firstChild.textContent = bk_div.children[0].textContent\n",
       "      }\n",
       "      // store reference to server id on output_area\n",
       "      output_area._bokeh_server_id = output.metadata[EXEC_MIME_TYPE][\"server_id\"];\n",
       "    }\n",
       "  }\n",
       "\n",
       "  function register_renderer(events, OutputArea) {\n",
       "\n",
       "    function append_mime(data, metadata, element) {\n",
       "      // create a DOM node to render to\n",
       "      const toinsert = this.create_output_subarea(\n",
       "        metadata,\n",
       "        CLASS_NAME,\n",
       "        EXEC_MIME_TYPE\n",
       "      );\n",
       "      this.keyboard_manager.register_events(toinsert);\n",
       "      // Render to node\n",
       "      const props = {data: data, metadata: metadata[EXEC_MIME_TYPE]};\n",
       "      render(props, toinsert[toinsert.length - 1]);\n",
       "      element.append(toinsert);\n",
       "      return toinsert\n",
       "    }\n",
       "\n",
       "    /* Handle when an output is cleared or removed */\n",
       "    events.on('clear_output.CodeCell', handleClearOutput);\n",
       "    events.on('delete.Cell', handleClearOutput);\n",
       "\n",
       "    /* Handle when a new output is added */\n",
       "    events.on('output_added.OutputArea', handleAddOutput);\n",
       "\n",
       "    /**\n",
       "     * Register the mime type and append_mime function with output_area\n",
       "     */\n",
       "    OutputArea.prototype.register_mime_type(EXEC_MIME_TYPE, append_mime, {\n",
       "      /* Is output safe? */\n",
       "      safe: true,\n",
       "      /* Index of renderer in `output_area.display_order` */\n",
       "      index: 0\n",
       "    });\n",
       "  }\n",
       "\n",
       "  // register the mime type if in Jupyter Notebook environment and previously unregistered\n",
       "  if (root.Jupyter !== undefined) {\n",
       "    const events = require('base/js/events');\n",
       "    const OutputArea = require('notebook/js/outputarea').OutputArea;\n",
       "\n",
       "    if (OutputArea.prototype.mime_types().indexOf(EXEC_MIME_TYPE) == -1) {\n",
       "      register_renderer(events, OutputArea);\n",
       "    }\n",
       "  }\n",
       "  if (typeof (root._bokeh_timeout) === \"undefined\" || force === true) {\n",
       "    root._bokeh_timeout = Date.now() + 5000;\n",
       "    root._bokeh_failed_load = false;\n",
       "  }\n",
       "\n",
       "  const NB_LOAD_WARNING = {'data': {'text/html':\n",
       "     \"<div style='background-color: #fdd'>\\n\"+\n",
       "     \"<p>\\n\"+\n",
       "     \"BokehJS does not appear to have successfully loaded. If loading BokehJS from CDN, this \\n\"+\n",
       "     \"may be due to a slow or bad network connection. Possible fixes:\\n\"+\n",
       "     \"</p>\\n\"+\n",
       "     \"<ul>\\n\"+\n",
       "     \"<li>re-rerun `output_notebook()` to attempt to load from CDN again, or</li>\\n\"+\n",
       "     \"<li>use INLINE resources instead, as so:</li>\\n\"+\n",
       "     \"</ul>\\n\"+\n",
       "     \"<code>\\n\"+\n",
       "     \"from bokeh.resources import INLINE\\n\"+\n",
       "     \"output_notebook(resources=INLINE)\\n\"+\n",
       "     \"</code>\\n\"+\n",
       "     \"</div>\"}};\n",
       "\n",
       "  function display_loaded() {\n",
       "    const el = document.getElementById(\"dde23277-7395-4253-b041-c3d671fce28d\");\n",
       "    if (el != null) {\n",
       "      el.textContent = \"BokehJS is loading...\";\n",
       "    }\n",
       "    if (root.Bokeh !== undefined) {\n",
       "      if (el != null) {\n",
       "        el.textContent = \"BokehJS \" + root.Bokeh.version + \" successfully loaded.\";\n",
       "      }\n",
       "    } else if (Date.now() < root._bokeh_timeout) {\n",
       "      setTimeout(display_loaded, 100)\n",
       "    }\n",
       "  }\n",
       "\n",
       "  function run_callbacks() {\n",
       "    try {\n",
       "      root._bokeh_onload_callbacks.forEach(function(callback) {\n",
       "        if (callback != null)\n",
       "          callback();\n",
       "      });\n",
       "    } finally {\n",
       "      delete root._bokeh_onload_callbacks\n",
       "    }\n",
       "    console.debug(\"Bokeh: all callbacks have finished\");\n",
       "  }\n",
       "\n",
       "  function load_libs(css_urls, js_urls, callback) {\n",
       "    if (css_urls == null) css_urls = [];\n",
       "    if (js_urls == null) js_urls = [];\n",
       "\n",
       "    root._bokeh_onload_callbacks.push(callback);\n",
       "    if (root._bokeh_is_loading > 0) {\n",
       "      console.debug(\"Bokeh: BokehJS is being loaded, scheduling callback at\", now());\n",
       "      return null;\n",
       "    }\n",
       "    if (js_urls == null || js_urls.length === 0) {\n",
       "      run_callbacks();\n",
       "      return null;\n",
       "    }\n",
       "    console.debug(\"Bokeh: BokehJS not loaded, scheduling load and callback at\", now());\n",
       "    root._bokeh_is_loading = css_urls.length + js_urls.length;\n",
       "\n",
       "    function on_load() {\n",
       "      root._bokeh_is_loading--;\n",
       "      if (root._bokeh_is_loading === 0) {\n",
       "        console.debug(\"Bokeh: all BokehJS libraries/stylesheets loaded\");\n",
       "        run_callbacks()\n",
       "      }\n",
       "    }\n",
       "\n",
       "    function on_error(url) {\n",
       "      console.error(\"failed to load \" + url);\n",
       "    }\n",
       "\n",
       "    for (let i = 0; i < css_urls.length; i++) {\n",
       "      const url = css_urls[i];\n",
       "      const element = document.createElement(\"link\");\n",
       "      element.onload = on_load;\n",
       "      element.onerror = on_error.bind(null, url);\n",
       "      element.rel = \"stylesheet\";\n",
       "      element.type = \"text/css\";\n",
       "      element.href = url;\n",
       "      console.debug(\"Bokeh: injecting link tag for BokehJS stylesheet: \", url);\n",
       "      document.body.appendChild(element);\n",
       "    }\n",
       "\n",
       "    for (let i = 0; i < js_urls.length; i++) {\n",
       "      const url = js_urls[i];\n",
       "      const element = document.createElement('script');\n",
       "      element.onload = on_load;\n",
       "      element.onerror = on_error.bind(null, url);\n",
       "      element.async = false;\n",
       "      element.src = url;\n",
       "      console.debug(\"Bokeh: injecting script tag for BokehJS library: \", url);\n",
       "      document.head.appendChild(element);\n",
       "    }\n",
       "  };\n",
       "\n",
       "  function inject_raw_css(css) {\n",
       "    const element = document.createElement(\"style\");\n",
       "    element.appendChild(document.createTextNode(css));\n",
       "    document.body.appendChild(element);\n",
       "  }\n",
       "\n",
       "  const js_urls = [\"https://cdn.bokeh.org/bokeh/release/bokeh-3.3.2.min.js\", \"https://cdn.bokeh.org/bokeh/release/bokeh-gl-3.3.2.min.js\", \"https://cdn.bokeh.org/bokeh/release/bokeh-widgets-3.3.2.min.js\", \"https://cdn.bokeh.org/bokeh/release/bokeh-tables-3.3.2.min.js\", \"https://cdn.bokeh.org/bokeh/release/bokeh-mathjax-3.3.2.min.js\"];\n",
       "  const css_urls = [];\n",
       "\n",
       "  const inline_js = [    function(Bokeh) {\n",
       "      Bokeh.set_log_level(\"info\");\n",
       "    },\n",
       "function(Bokeh) {\n",
       "    }\n",
       "  ];\n",
       "\n",
       "  function run_inline_js() {\n",
       "    if (root.Bokeh !== undefined || force === true) {\n",
       "          for (let i = 0; i < inline_js.length; i++) {\n",
       "      inline_js[i].call(root, root.Bokeh);\n",
       "    }\n",
       "if (force === true) {\n",
       "        display_loaded();\n",
       "      }} else if (Date.now() < root._bokeh_timeout) {\n",
       "      setTimeout(run_inline_js, 100);\n",
       "    } else if (!root._bokeh_failed_load) {\n",
       "      console.log(\"Bokeh: BokehJS failed to load within specified timeout.\");\n",
       "      root._bokeh_failed_load = true;\n",
       "    } else if (force !== true) {\n",
       "      const cell = $(document.getElementById(\"dde23277-7395-4253-b041-c3d671fce28d\")).parents('.cell').data().cell;\n",
       "      cell.output_area.append_execute_result(NB_LOAD_WARNING)\n",
       "    }\n",
       "  }\n",
       "\n",
       "  if (root._bokeh_is_loading === 0) {\n",
       "    console.debug(\"Bokeh: BokehJS loaded, going straight to plotting\");\n",
       "    run_inline_js();\n",
       "  } else {\n",
       "    load_libs(css_urls, js_urls, function() {\n",
       "      console.debug(\"Bokeh: BokehJS plotting callback run at\", now());\n",
       "      run_inline_js();\n",
       "    });\n",
       "  }\n",
       "}(window));"
      ],
      "application/vnd.bokehjs_load.v0+json": ""
     },
     "metadata": {},
     "output_type": "display_data"
    },
    {
     "data": {
      "text/html": [
       "\n",
       "  <div id=\"d097d492-8a13-469c-83bb-279f8b2f886a\" data-root-id=\"p1076\" style=\"display: contents;\"></div>\n"
      ]
     },
     "metadata": {},
     "output_type": "display_data"
    },
    {
     "data": {
      "application/javascript": [
       "(function(root) {\n",
       "  function embed_document(root) {\n",
       "  const docs_json = {\"619f7ee9-8f7c-49ab-9a4c-5f202c2848f2\":{\"version\":\"3.3.2\",\"title\":\"Bokeh Application\",\"roots\":[{\"type\":\"object\",\"name\":\"Figure\",\"id\":\"p1076\",\"attributes\":{\"x_range\":{\"type\":\"object\",\"name\":\"DataRange1d\",\"id\":\"p1077\"},\"y_range\":{\"type\":\"object\",\"name\":\"DataRange1d\",\"id\":\"p1078\"},\"x_scale\":{\"type\":\"object\",\"name\":\"LinearScale\",\"id\":\"p1085\"},\"y_scale\":{\"type\":\"object\",\"name\":\"LinearScale\",\"id\":\"p1086\"},\"title\":{\"type\":\"object\",\"name\":\"Title\",\"id\":\"p1083\"},\"renderers\":[{\"type\":\"object\",\"name\":\"GlyphRenderer\",\"id\":\"p1114\",\"attributes\":{\"data_source\":{\"type\":\"object\",\"name\":\"ColumnDataSource\",\"id\":\"p1108\",\"attributes\":{\"selected\":{\"type\":\"object\",\"name\":\"Selection\",\"id\":\"p1109\",\"attributes\":{\"indices\":[],\"line_indices\":[]}},\"selection_policy\":{\"type\":\"object\",\"name\":\"UnionRenderers\",\"id\":\"p1110\"},\"data\":{\"type\":\"map\",\"entries\":[[\"x\",{\"type\":\"ndarray\",\"array\":{\"type\":\"bytes\",\"data\":\"AAAAAABAWUAAAAAAAIBZQAAAAAAAwFlAAAAAAAAgaUAAAAAAAEBpQAAAAAAAYGlAAAAAAABQc0AAAAAAAGBzQAAAAAAAcHNAAAAAAAAQeUAAAAAAAFB/QAAAAAAAYH9AAAAAAABwf0AAAAAAAMiCQAAAAAAA0IJAAAAAAADYgkAAAAAAAOiFQAAAAAAA8IVAAAAAAAD4hUAAAAAAAAiJQAAAAAAAEIlAAAAAAAAYiUAAAAAAACiMQAAAAAAAMIxAAAAAAAA4jEAAAAAAAECMQAAAAAAASI9AAAAAAABQj0AAAAAAAFiPQAAAAAAAYI9AAAAAAABoj0AAAAAAAHCPQA==\"},\"shape\":[32],\"dtype\":\"float64\",\"order\":\"little\"}],[\"top\",{\"type\":\"ndarray\",\"array\":{\"type\":\"bytes\",\"data\":\"AAAAAAAAKkAAAAAAAAAyQAAAAAAAACBAAAAAAAAALkAAAAAAAAAzQAAAAAAAABBAAAAAAAAAKEAAAAAAAAAUQAAAAAAAABhAAAAAAAAANEAAAAAAAAAYQAAAAAAAACJAAAAAAAAACEAAAAAAAAAQQAAAAAAAABhAAAAAAAAAGEAAAAAAAAAiQAAAAAAAABhAAAAAAAAAGEAAAAAAAAAiQAAAAAAAABxAAAAAAAAAHEAAAAAAAAAsQAAAAAAAAChAAAAAAAAAMEAAAAAAAAAkQAAAAAAAADJAAAAAAAAAO0AAAAAAAAAUQAAAAAAAADFAAAAAAAAANUAAAAAAAAAmQA==\"},\"shape\":[32],\"dtype\":\"float64\",\"order\":\"little\"}]]}}},\"view\":{\"type\":\"object\",\"name\":\"CDSView\",\"id\":\"p1115\",\"attributes\":{\"filter\":{\"type\":\"object\",\"name\":\"AllIndices\",\"id\":\"p1116\"}}},\"glyph\":{\"type\":\"object\",\"name\":\"VBar\",\"id\":\"p1111\",\"attributes\":{\"x\":{\"type\":\"field\",\"field\":\"x\"},\"width\":{\"type\":\"value\",\"value\":0.8},\"top\":{\"type\":\"field\",\"field\":\"top\"},\"line_color\":{\"type\":\"value\",\"value\":\"#1f77b4\"},\"fill_color\":{\"type\":\"value\",\"value\":\"#1f77b4\"}}},\"nonselection_glyph\":{\"type\":\"object\",\"name\":\"VBar\",\"id\":\"p1112\",\"attributes\":{\"x\":{\"type\":\"field\",\"field\":\"x\"},\"width\":{\"type\":\"value\",\"value\":0.8},\"top\":{\"type\":\"field\",\"field\":\"top\"},\"line_color\":{\"type\":\"value\",\"value\":\"#1f77b4\"},\"line_alpha\":{\"type\":\"value\",\"value\":0.1},\"fill_color\":{\"type\":\"value\",\"value\":\"#1f77b4\"},\"fill_alpha\":{\"type\":\"value\",\"value\":0.1},\"hatch_alpha\":{\"type\":\"value\",\"value\":0.1}}},\"muted_glyph\":{\"type\":\"object\",\"name\":\"VBar\",\"id\":\"p1113\",\"attributes\":{\"x\":{\"type\":\"field\",\"field\":\"x\"},\"width\":{\"type\":\"value\",\"value\":0.8},\"top\":{\"type\":\"field\",\"field\":\"top\"},\"line_color\":{\"type\":\"value\",\"value\":\"#1f77b4\"},\"line_alpha\":{\"type\":\"value\",\"value\":0.2},\"fill_color\":{\"type\":\"value\",\"value\":\"#1f77b4\"},\"fill_alpha\":{\"type\":\"value\",\"value\":0.2},\"hatch_alpha\":{\"type\":\"value\",\"value\":0.2}}}}}],\"toolbar\":{\"type\":\"object\",\"name\":\"Toolbar\",\"id\":\"p1084\",\"attributes\":{\"tools\":[{\"type\":\"object\",\"name\":\"PanTool\",\"id\":\"p1097\"},{\"type\":\"object\",\"name\":\"WheelZoomTool\",\"id\":\"p1098\",\"attributes\":{\"renderers\":\"auto\"}},{\"type\":\"object\",\"name\":\"BoxZoomTool\",\"id\":\"p1099\",\"attributes\":{\"overlay\":{\"type\":\"object\",\"name\":\"BoxAnnotation\",\"id\":\"p1100\",\"attributes\":{\"syncable\":false,\"level\":\"overlay\",\"visible\":false,\"left\":{\"type\":\"number\",\"value\":\"nan\"},\"right\":{\"type\":\"number\",\"value\":\"nan\"},\"top\":{\"type\":\"number\",\"value\":\"nan\"},\"bottom\":{\"type\":\"number\",\"value\":\"nan\"},\"left_units\":\"canvas\",\"right_units\":\"canvas\",\"top_units\":\"canvas\",\"bottom_units\":\"canvas\",\"line_color\":\"black\",\"line_alpha\":1.0,\"line_width\":2,\"line_dash\":[4,4],\"fill_color\":\"lightgrey\",\"fill_alpha\":0.5}}}},{\"type\":\"object\",\"name\":\"SaveTool\",\"id\":\"p1105\"},{\"type\":\"object\",\"name\":\"ResetTool\",\"id\":\"p1106\"},{\"type\":\"object\",\"name\":\"HelpTool\",\"id\":\"p1107\"}]}},\"left\":[{\"type\":\"object\",\"name\":\"LinearAxis\",\"id\":\"p1092\",\"attributes\":{\"ticker\":{\"type\":\"object\",\"name\":\"BasicTicker\",\"id\":\"p1093\",\"attributes\":{\"mantissas\":[1,2,5]}},\"formatter\":{\"type\":\"object\",\"name\":\"BasicTickFormatter\",\"id\":\"p1094\"},\"axis_label\":\"BLOCKS\",\"major_label_policy\":{\"type\":\"object\",\"name\":\"AllLabels\",\"id\":\"p1095\"}}}],\"below\":[{\"type\":\"object\",\"name\":\"LinearAxis\",\"id\":\"p1087\",\"attributes\":{\"ticker\":{\"type\":\"object\",\"name\":\"BasicTicker\",\"id\":\"p1088\",\"attributes\":{\"mantissas\":[1,2,5]}},\"formatter\":{\"type\":\"object\",\"name\":\"BasicTickFormatter\",\"id\":\"p1089\"},\"axis_label\":\"DISTCD\",\"major_label_policy\":{\"type\":\"object\",\"name\":\"AllLabels\",\"id\":\"p1090\"}}}],\"center\":[{\"type\":\"object\",\"name\":\"Grid\",\"id\":\"p1091\",\"attributes\":{\"axis\":{\"id\":\"p1087\"}}},{\"type\":\"object\",\"name\":\"Grid\",\"id\":\"p1096\",\"attributes\":{\"dimension\":1,\"axis\":{\"id\":\"p1092\"}}}]}}]}};\n",
       "  const render_items = [{\"docid\":\"619f7ee9-8f7c-49ab-9a4c-5f202c2848f2\",\"roots\":{\"p1076\":\"d097d492-8a13-469c-83bb-279f8b2f886a\"},\"root_ids\":[\"p1076\"]}];\n",
       "  root.Bokeh.embed.embed_items_notebook(docs_json, render_items);\n",
       "  }\n",
       "  if (root.Bokeh !== undefined) {\n",
       "    embed_document(root);\n",
       "  } else {\n",
       "    let attempts = 0;\n",
       "    const timer = setInterval(function(root) {\n",
       "      if (root.Bokeh !== undefined) {\n",
       "        clearInterval(timer);\n",
       "        embed_document(root);\n",
       "      } else {\n",
       "        attempts++;\n",
       "        if (attempts > 100) {\n",
       "          clearInterval(timer);\n",
       "          console.log(\"Bokeh: ERROR: Unable to run BokehJS code because BokehJS library is missing\");\n",
       "        }\n",
       "      }\n",
       "    }, 10, root)\n",
       "  }\n",
       "})(window);"
      ],
      "application/vnd.bokehjs_exec.v0+json": ""
     },
     "metadata": {
      "application/vnd.bokehjs_exec.v0+json": {
       "id": "p1076"
      }
     },
     "output_type": "display_data"
    }
   ],
   "source": [
    "from bokeh.plotting import figure,show\n",
    "from bokeh.io import output_notebook\n",
    "c=figure(x_axis_label=\"DISTCD\",y_axis_label=\"BLOCKS\")\n",
    "c.vbar(x=df_test.DISTCD,top=df_test.BLOCKS,width=0.8)\n",
    "output_notebook()\n",
    "show(c)"
   ]
  },
  {
   "cell_type": "markdown",
   "id": "c15230d1",
   "metadata": {},
   "source": [
    "f. Utilize Bokeh's GUI features, including buttons, sliders, checkboxes, and radio buttons"
   ]
  },
  {
   "cell_type": "code",
   "execution_count": 42,
   "id": "73fad904",
   "metadata": {},
   "outputs": [
    {
     "data": {
      "text/html": [
       "\n",
       "  <div id=\"ec55db45-9348-432d-aeab-1e36dd6b60d1\" data-root-id=\"p1119\" style=\"display: contents;\"></div>\n"
      ]
     },
     "metadata": {},
     "output_type": "display_data"
    },
    {
     "data": {
      "application/javascript": [
       "(function(root) {\n",
       "  function embed_document(root) {\n",
       "  const docs_json = {\"3e8068ba-93ab-4a8c-9426-cd49aa899d35\":{\"version\":\"3.3.2\",\"title\":\"Bokeh Application\",\"roots\":[{\"type\":\"object\",\"name\":\"Button\",\"id\":\"p1119\"}]}};\n",
       "  const render_items = [{\"docid\":\"3e8068ba-93ab-4a8c-9426-cd49aa899d35\",\"roots\":{\"p1119\":\"ec55db45-9348-432d-aeab-1e36dd6b60d1\"},\"root_ids\":[\"p1119\"]}];\n",
       "  root.Bokeh.embed.embed_items_notebook(docs_json, render_items);\n",
       "  }\n",
       "  if (root.Bokeh !== undefined) {\n",
       "    embed_document(root);\n",
       "  } else {\n",
       "    let attempts = 0;\n",
       "    const timer = setInterval(function(root) {\n",
       "      if (root.Bokeh !== undefined) {\n",
       "        clearInterval(timer);\n",
       "        embed_document(root);\n",
       "      } else {\n",
       "        attempts++;\n",
       "        if (attempts > 100) {\n",
       "          clearInterval(timer);\n",
       "          console.log(\"Bokeh: ERROR: Unable to run BokehJS code because BokehJS library is missing\");\n",
       "        }\n",
       "      }\n",
       "    }, 10, root)\n",
       "  }\n",
       "})(window);"
      ],
      "application/vnd.bokehjs_exec.v0+json": ""
     },
     "metadata": {
      "application/vnd.bokehjs_exec.v0+json": {
       "id": "p1119"
      }
     },
     "output_type": "display_data"
    }
   ],
   "source": [
    "from bokeh.models import Button , CheckboxGroup , RadioGroup , Slider\n",
    "from bokeh.plotting import show\n",
    "\n",
    "button = Button(label = \"Button\")\n",
    "show(button)"
   ]
  },
  {
   "cell_type": "code",
   "execution_count": 43,
   "id": "b239ef58",
   "metadata": {},
   "outputs": [
    {
     "data": {
      "text/html": [
       "\n",
       "  <div id=\"e1c699d6-ecb2-48d4-9b8c-d9bc5b2d24d1\" data-root-id=\"p1120\" style=\"display: contents;\"></div>\n"
      ]
     },
     "metadata": {},
     "output_type": "display_data"
    },
    {
     "data": {
      "application/javascript": [
       "(function(root) {\n",
       "  function embed_document(root) {\n",
       "  const docs_json = {\"2615e953-7ba7-4ae1-ab4e-c0afd8c33470\":{\"version\":\"3.3.2\",\"title\":\"Bokeh Application\",\"roots\":[{\"type\":\"object\",\"name\":\"Slider\",\"id\":\"p1120\",\"attributes\":{\"title\":\"Slider\",\"start\":0,\"end\":10,\"value\":5}}]}};\n",
       "  const render_items = [{\"docid\":\"2615e953-7ba7-4ae1-ab4e-c0afd8c33470\",\"roots\":{\"p1120\":\"e1c699d6-ecb2-48d4-9b8c-d9bc5b2d24d1\"},\"root_ids\":[\"p1120\"]}];\n",
       "  root.Bokeh.embed.embed_items_notebook(docs_json, render_items);\n",
       "  }\n",
       "  if (root.Bokeh !== undefined) {\n",
       "    embed_document(root);\n",
       "  } else {\n",
       "    let attempts = 0;\n",
       "    const timer = setInterval(function(root) {\n",
       "      if (root.Bokeh !== undefined) {\n",
       "        clearInterval(timer);\n",
       "        embed_document(root);\n",
       "      } else {\n",
       "        attempts++;\n",
       "        if (attempts > 100) {\n",
       "          clearInterval(timer);\n",
       "          console.log(\"Bokeh: ERROR: Unable to run BokehJS code because BokehJS library is missing\");\n",
       "        }\n",
       "      }\n",
       "    }, 10, root)\n",
       "  }\n",
       "})(window);"
      ],
      "application/vnd.bokehjs_exec.v0+json": ""
     },
     "metadata": {
      "application/vnd.bokehjs_exec.v0+json": {
       "id": "p1120"
      }
     },
     "output_type": "display_data"
    }
   ],
   "source": [
    "slider = Slider(start=0 , end=10 , value=5 , step=1 , title=\"Slider\")\n",
    "show(slider)"
   ]
  },
  {
   "cell_type": "code",
   "execution_count": 44,
   "id": "f91f9094",
   "metadata": {},
   "outputs": [
    {
     "data": {
      "text/html": [
       "\n",
       "  <div id=\"d01bf7db-21fd-47a2-803f-7ce8539e86cf\" data-root-id=\"p1121\" style=\"display: contents;\"></div>\n"
      ]
     },
     "metadata": {},
     "output_type": "display_data"
    },
    {
     "data": {
      "application/javascript": [
       "(function(root) {\n",
       "  function embed_document(root) {\n",
       "  const docs_json = {\"fe85ddcc-87a2-4b54-95e1-80b22076e2e9\":{\"version\":\"3.3.2\",\"title\":\"Bokeh Application\",\"roots\":[{\"type\":\"object\",\"name\":\"CheckboxGroup\",\"id\":\"p1121\",\"attributes\":{\"labels\":[\"Option 1\",\"Option 2\",\"Option 3\"]}}]}};\n",
       "  const render_items = [{\"docid\":\"fe85ddcc-87a2-4b54-95e1-80b22076e2e9\",\"roots\":{\"p1121\":\"d01bf7db-21fd-47a2-803f-7ce8539e86cf\"},\"root_ids\":[\"p1121\"]}];\n",
       "  root.Bokeh.embed.embed_items_notebook(docs_json, render_items);\n",
       "  }\n",
       "  if (root.Bokeh !== undefined) {\n",
       "    embed_document(root);\n",
       "  } else {\n",
       "    let attempts = 0;\n",
       "    const timer = setInterval(function(root) {\n",
       "      if (root.Bokeh !== undefined) {\n",
       "        clearInterval(timer);\n",
       "        embed_document(root);\n",
       "      } else {\n",
       "        attempts++;\n",
       "        if (attempts > 100) {\n",
       "          clearInterval(timer);\n",
       "          console.log(\"Bokeh: ERROR: Unable to run BokehJS code because BokehJS library is missing\");\n",
       "        }\n",
       "      }\n",
       "    }, 10, root)\n",
       "  }\n",
       "})(window);"
      ],
      "application/vnd.bokehjs_exec.v0+json": ""
     },
     "metadata": {
      "application/vnd.bokehjs_exec.v0+json": {
       "id": "p1121"
      }
     },
     "output_type": "display_data"
    }
   ],
   "source": [
    "checkbox_group = CheckboxGroup(labels=[\"Option 1\" , \"Option 2\" , \"Option 3\"])\n",
    "show(checkbox_group)"
   ]
  },
  {
   "cell_type": "code",
   "execution_count": 45,
   "id": "02b06a23",
   "metadata": {},
   "outputs": [
    {
     "data": {
      "text/html": [
       "\n",
       "  <div id=\"f06ad8b3-ddd9-4cf5-bc0e-a0ff64628729\" data-root-id=\"p1122\" style=\"display: contents;\"></div>\n"
      ]
     },
     "metadata": {},
     "output_type": "display_data"
    },
    {
     "data": {
      "application/javascript": [
       "(function(root) {\n",
       "  function embed_document(root) {\n",
       "  const docs_json = {\"865ebb01-d081-4051-bd5c-629897243fdb\":{\"version\":\"3.3.2\",\"title\":\"Bokeh Application\",\"roots\":[{\"type\":\"object\",\"name\":\"RadioGroup\",\"id\":\"p1122\",\"attributes\":{\"labels\":[\"Option 1\",\"Option 2\",\"Option 3\"]}}]}};\n",
       "  const render_items = [{\"docid\":\"865ebb01-d081-4051-bd5c-629897243fdb\",\"roots\":{\"p1122\":\"f06ad8b3-ddd9-4cf5-bc0e-a0ff64628729\"},\"root_ids\":[\"p1122\"]}];\n",
       "  root.Bokeh.embed.embed_items_notebook(docs_json, render_items);\n",
       "  }\n",
       "  if (root.Bokeh !== undefined) {\n",
       "    embed_document(root);\n",
       "  } else {\n",
       "    let attempts = 0;\n",
       "    const timer = setInterval(function(root) {\n",
       "      if (root.Bokeh !== undefined) {\n",
       "        clearInterval(timer);\n",
       "        embed_document(root);\n",
       "      } else {\n",
       "        attempts++;\n",
       "        if (attempts > 100) {\n",
       "          clearInterval(timer);\n",
       "          console.log(\"Bokeh: ERROR: Unable to run BokehJS code because BokehJS library is missing\");\n",
       "        }\n",
       "      }\n",
       "    }, 10, root)\n",
       "  }\n",
       "})(window);"
      ],
      "application/vnd.bokehjs_exec.v0+json": ""
     },
     "metadata": {
      "application/vnd.bokehjs_exec.v0+json": {
       "id": "p1122"
      }
     },
     "output_type": "display_data"
    }
   ],
   "source": [
    "radio_group = RadioGroup(labels=[\"Option 1\" , \"Option 2\" , \"Option 3\"])\n",
    "show(radio_group)"
   ]
  },
  {
   "cell_type": "markdown",
   "id": "c8af2759",
   "metadata": {},
   "source": [
    "g. Employ Plotly to create a dropdown menu"
   ]
  },
  {
   "cell_type": "code",
   "execution_count": 46,
   "id": "e807bb17",
   "metadata": {},
   "outputs": [
    {
     "data": {
      "application/vnd.plotly.v1+json": {
       "config": {
        "plotlyServerURL": "https://plot.ly"
       },
       "data": [
        {
         "type": "surface",
         "z": [
          [
           101,
           13,
           391,
           104,
           875564
          ],
          [
           102,
           18,
           678,
           144,
           1015503
          ],
          [
           103,
           8,
           94,
           65,
           1269751
          ],
          [
           201,
           15,
           1150,
           266,
           518844
          ],
          [
           202,
           19,
           1785,
           358,
           1507223
          ],
          [
           203,
           4,
           168,
           53,
           31528
          ],
          [
           309,
           12,
           1044,
           143,
           3487882
          ],
          [
           310,
           5,
           332,
           46,
           992289
          ],
          [
           311,
           6,
           666,
           79,
           2026831
          ],
          [
           401,
           20,
           84,
           20,
           1054686
          ],
          [
           501,
           6,
           662,
           61,
           329686
          ],
          [
           502,
           9,
           809,
           78,
           391114
          ],
          [
           503,
           3,
           537,
           46,
           236857
          ],
          [
           601,
           4,
           279,
           43,
           558890
          ],
          [
           602,
           6,
           431,
           75,
           1136784
          ],
          [
           603,
           6,
           591,
           80,
           1214162
          ],
          [
           701,
           9,
           224,
           9,
           3651261
          ],
          [
           702,
           6,
           80,
           6,
           883418
          ],
          [
           703,
           6,
           133,
           6,
           2240749
          ],
          [
           801,
           9,
           1937,
           126.875,
           1969520
          ],
          [
           802,
           7,
           994,
           284,
           1779650
          ],
          [
           803,
           7,
           866,
           293,
           2367745
          ],
          [
           901,
           14,
           1357,
           127,
           3464228
          ],
          [
           902,
           12,
           594,
           86,
           4138605
          ],
          [
           903,
           16,
           1919,
           159,
           3683896
          ],
          [
           904,
           10,
           1141,
           69,
           4773138
          ],
          [
           1001,
           18,
           1210,
           193,
           3922780
          ],
          [
           1002,
           27,
           1534,
           251,
           5082868
          ],
          [
           1003,
           5,
           183,
           34,
           656916
          ],
          [
           1004,
           17,
           852,
           169,
           3419622
          ],
          [
           1005,
           21,
           1102,
           241,
           4476044
          ],
          [
           1006,
           11,
           623,
           94,
           2228397
          ]
         ]
        }
       ],
       "layout": {
        "template": {
         "data": {
          "bar": [
           {
            "error_x": {
             "color": "#2a3f5f"
            },
            "error_y": {
             "color": "#2a3f5f"
            },
            "marker": {
             "line": {
              "color": "#E5ECF6",
              "width": 0.5
             },
             "pattern": {
              "fillmode": "overlay",
              "size": 10,
              "solidity": 0.2
             }
            },
            "type": "bar"
           }
          ],
          "barpolar": [
           {
            "marker": {
             "line": {
              "color": "#E5ECF6",
              "width": 0.5
             },
             "pattern": {
              "fillmode": "overlay",
              "size": 10,
              "solidity": 0.2
             }
            },
            "type": "barpolar"
           }
          ],
          "carpet": [
           {
            "aaxis": {
             "endlinecolor": "#2a3f5f",
             "gridcolor": "white",
             "linecolor": "white",
             "minorgridcolor": "white",
             "startlinecolor": "#2a3f5f"
            },
            "baxis": {
             "endlinecolor": "#2a3f5f",
             "gridcolor": "white",
             "linecolor": "white",
             "minorgridcolor": "white",
             "startlinecolor": "#2a3f5f"
            },
            "type": "carpet"
           }
          ],
          "choropleth": [
           {
            "colorbar": {
             "outlinewidth": 0,
             "ticks": ""
            },
            "type": "choropleth"
           }
          ],
          "contour": [
           {
            "colorbar": {
             "outlinewidth": 0,
             "ticks": ""
            },
            "colorscale": [
             [
              0,
              "#0d0887"
             ],
             [
              0.1111111111111111,
              "#46039f"
             ],
             [
              0.2222222222222222,
              "#7201a8"
             ],
             [
              0.3333333333333333,
              "#9c179e"
             ],
             [
              0.4444444444444444,
              "#bd3786"
             ],
             [
              0.5555555555555556,
              "#d8576b"
             ],
             [
              0.6666666666666666,
              "#ed7953"
             ],
             [
              0.7777777777777778,
              "#fb9f3a"
             ],
             [
              0.8888888888888888,
              "#fdca26"
             ],
             [
              1,
              "#f0f921"
             ]
            ],
            "type": "contour"
           }
          ],
          "contourcarpet": [
           {
            "colorbar": {
             "outlinewidth": 0,
             "ticks": ""
            },
            "type": "contourcarpet"
           }
          ],
          "heatmap": [
           {
            "colorbar": {
             "outlinewidth": 0,
             "ticks": ""
            },
            "colorscale": [
             [
              0,
              "#0d0887"
             ],
             [
              0.1111111111111111,
              "#46039f"
             ],
             [
              0.2222222222222222,
              "#7201a8"
             ],
             [
              0.3333333333333333,
              "#9c179e"
             ],
             [
              0.4444444444444444,
              "#bd3786"
             ],
             [
              0.5555555555555556,
              "#d8576b"
             ],
             [
              0.6666666666666666,
              "#ed7953"
             ],
             [
              0.7777777777777778,
              "#fb9f3a"
             ],
             [
              0.8888888888888888,
              "#fdca26"
             ],
             [
              1,
              "#f0f921"
             ]
            ],
            "type": "heatmap"
           }
          ],
          "heatmapgl": [
           {
            "colorbar": {
             "outlinewidth": 0,
             "ticks": ""
            },
            "colorscale": [
             [
              0,
              "#0d0887"
             ],
             [
              0.1111111111111111,
              "#46039f"
             ],
             [
              0.2222222222222222,
              "#7201a8"
             ],
             [
              0.3333333333333333,
              "#9c179e"
             ],
             [
              0.4444444444444444,
              "#bd3786"
             ],
             [
              0.5555555555555556,
              "#d8576b"
             ],
             [
              0.6666666666666666,
              "#ed7953"
             ],
             [
              0.7777777777777778,
              "#fb9f3a"
             ],
             [
              0.8888888888888888,
              "#fdca26"
             ],
             [
              1,
              "#f0f921"
             ]
            ],
            "type": "heatmapgl"
           }
          ],
          "histogram": [
           {
            "marker": {
             "pattern": {
              "fillmode": "overlay",
              "size": 10,
              "solidity": 0.2
             }
            },
            "type": "histogram"
           }
          ],
          "histogram2d": [
           {
            "colorbar": {
             "outlinewidth": 0,
             "ticks": ""
            },
            "colorscale": [
             [
              0,
              "#0d0887"
             ],
             [
              0.1111111111111111,
              "#46039f"
             ],
             [
              0.2222222222222222,
              "#7201a8"
             ],
             [
              0.3333333333333333,
              "#9c179e"
             ],
             [
              0.4444444444444444,
              "#bd3786"
             ],
             [
              0.5555555555555556,
              "#d8576b"
             ],
             [
              0.6666666666666666,
              "#ed7953"
             ],
             [
              0.7777777777777778,
              "#fb9f3a"
             ],
             [
              0.8888888888888888,
              "#fdca26"
             ],
             [
              1,
              "#f0f921"
             ]
            ],
            "type": "histogram2d"
           }
          ],
          "histogram2dcontour": [
           {
            "colorbar": {
             "outlinewidth": 0,
             "ticks": ""
            },
            "colorscale": [
             [
              0,
              "#0d0887"
             ],
             [
              0.1111111111111111,
              "#46039f"
             ],
             [
              0.2222222222222222,
              "#7201a8"
             ],
             [
              0.3333333333333333,
              "#9c179e"
             ],
             [
              0.4444444444444444,
              "#bd3786"
             ],
             [
              0.5555555555555556,
              "#d8576b"
             ],
             [
              0.6666666666666666,
              "#ed7953"
             ],
             [
              0.7777777777777778,
              "#fb9f3a"
             ],
             [
              0.8888888888888888,
              "#fdca26"
             ],
             [
              1,
              "#f0f921"
             ]
            ],
            "type": "histogram2dcontour"
           }
          ],
          "mesh3d": [
           {
            "colorbar": {
             "outlinewidth": 0,
             "ticks": ""
            },
            "type": "mesh3d"
           }
          ],
          "parcoords": [
           {
            "line": {
             "colorbar": {
              "outlinewidth": 0,
              "ticks": ""
             }
            },
            "type": "parcoords"
           }
          ],
          "pie": [
           {
            "automargin": true,
            "type": "pie"
           }
          ],
          "scatter": [
           {
            "fillpattern": {
             "fillmode": "overlay",
             "size": 10,
             "solidity": 0.2
            },
            "type": "scatter"
           }
          ],
          "scatter3d": [
           {
            "line": {
             "colorbar": {
              "outlinewidth": 0,
              "ticks": ""
             }
            },
            "marker": {
             "colorbar": {
              "outlinewidth": 0,
              "ticks": ""
             }
            },
            "type": "scatter3d"
           }
          ],
          "scattercarpet": [
           {
            "marker": {
             "colorbar": {
              "outlinewidth": 0,
              "ticks": ""
             }
            },
            "type": "scattercarpet"
           }
          ],
          "scattergeo": [
           {
            "marker": {
             "colorbar": {
              "outlinewidth": 0,
              "ticks": ""
             }
            },
            "type": "scattergeo"
           }
          ],
          "scattergl": [
           {
            "marker": {
             "colorbar": {
              "outlinewidth": 0,
              "ticks": ""
             }
            },
            "type": "scattergl"
           }
          ],
          "scattermapbox": [
           {
            "marker": {
             "colorbar": {
              "outlinewidth": 0,
              "ticks": ""
             }
            },
            "type": "scattermapbox"
           }
          ],
          "scatterpolar": [
           {
            "marker": {
             "colorbar": {
              "outlinewidth": 0,
              "ticks": ""
             }
            },
            "type": "scatterpolar"
           }
          ],
          "scatterpolargl": [
           {
            "marker": {
             "colorbar": {
              "outlinewidth": 0,
              "ticks": ""
             }
            },
            "type": "scatterpolargl"
           }
          ],
          "scatterternary": [
           {
            "marker": {
             "colorbar": {
              "outlinewidth": 0,
              "ticks": ""
             }
            },
            "type": "scatterternary"
           }
          ],
          "surface": [
           {
            "colorbar": {
             "outlinewidth": 0,
             "ticks": ""
            },
            "colorscale": [
             [
              0,
              "#0d0887"
             ],
             [
              0.1111111111111111,
              "#46039f"
             ],
             [
              0.2222222222222222,
              "#7201a8"
             ],
             [
              0.3333333333333333,
              "#9c179e"
             ],
             [
              0.4444444444444444,
              "#bd3786"
             ],
             [
              0.5555555555555556,
              "#d8576b"
             ],
             [
              0.6666666666666666,
              "#ed7953"
             ],
             [
              0.7777777777777778,
              "#fb9f3a"
             ],
             [
              0.8888888888888888,
              "#fdca26"
             ],
             [
              1,
              "#f0f921"
             ]
            ],
            "type": "surface"
           }
          ],
          "table": [
           {
            "cells": {
             "fill": {
              "color": "#EBF0F8"
             },
             "line": {
              "color": "white"
             }
            },
            "header": {
             "fill": {
              "color": "#C8D4E3"
             },
             "line": {
              "color": "white"
             }
            },
            "type": "table"
           }
          ]
         },
         "layout": {
          "annotationdefaults": {
           "arrowcolor": "#2a3f5f",
           "arrowhead": 0,
           "arrowwidth": 1
          },
          "autotypenumbers": "strict",
          "coloraxis": {
           "colorbar": {
            "outlinewidth": 0,
            "ticks": ""
           }
          },
          "colorscale": {
           "diverging": [
            [
             0,
             "#8e0152"
            ],
            [
             0.1,
             "#c51b7d"
            ],
            [
             0.2,
             "#de77ae"
            ],
            [
             0.3,
             "#f1b6da"
            ],
            [
             0.4,
             "#fde0ef"
            ],
            [
             0.5,
             "#f7f7f7"
            ],
            [
             0.6,
             "#e6f5d0"
            ],
            [
             0.7,
             "#b8e186"
            ],
            [
             0.8,
             "#7fbc41"
            ],
            [
             0.9,
             "#4d9221"
            ],
            [
             1,
             "#276419"
            ]
           ],
           "sequential": [
            [
             0,
             "#0d0887"
            ],
            [
             0.1111111111111111,
             "#46039f"
            ],
            [
             0.2222222222222222,
             "#7201a8"
            ],
            [
             0.3333333333333333,
             "#9c179e"
            ],
            [
             0.4444444444444444,
             "#bd3786"
            ],
            [
             0.5555555555555556,
             "#d8576b"
            ],
            [
             0.6666666666666666,
             "#ed7953"
            ],
            [
             0.7777777777777778,
             "#fb9f3a"
            ],
            [
             0.8888888888888888,
             "#fdca26"
            ],
            [
             1,
             "#f0f921"
            ]
           ],
           "sequentialminus": [
            [
             0,
             "#0d0887"
            ],
            [
             0.1111111111111111,
             "#46039f"
            ],
            [
             0.2222222222222222,
             "#7201a8"
            ],
            [
             0.3333333333333333,
             "#9c179e"
            ],
            [
             0.4444444444444444,
             "#bd3786"
            ],
            [
             0.5555555555555556,
             "#d8576b"
            ],
            [
             0.6666666666666666,
             "#ed7953"
            ],
            [
             0.7777777777777778,
             "#fb9f3a"
            ],
            [
             0.8888888888888888,
             "#fdca26"
            ],
            [
             1,
             "#f0f921"
            ]
           ]
          },
          "colorway": [
           "#636efa",
           "#EF553B",
           "#00cc96",
           "#ab63fa",
           "#FFA15A",
           "#19d3f3",
           "#FF6692",
           "#B6E880",
           "#FF97FF",
           "#FECB52"
          ],
          "font": {
           "color": "#2a3f5f"
          },
          "geo": {
           "bgcolor": "white",
           "lakecolor": "white",
           "landcolor": "#E5ECF6",
           "showlakes": true,
           "showland": true,
           "subunitcolor": "white"
          },
          "hoverlabel": {
           "align": "left"
          },
          "hovermode": "closest",
          "mapbox": {
           "style": "light"
          },
          "paper_bgcolor": "white",
          "plot_bgcolor": "#E5ECF6",
          "polar": {
           "angularaxis": {
            "gridcolor": "white",
            "linecolor": "white",
            "ticks": ""
           },
           "bgcolor": "#E5ECF6",
           "radialaxis": {
            "gridcolor": "white",
            "linecolor": "white",
            "ticks": ""
           }
          },
          "scene": {
           "xaxis": {
            "backgroundcolor": "#E5ECF6",
            "gridcolor": "white",
            "gridwidth": 2,
            "linecolor": "white",
            "showbackground": true,
            "ticks": "",
            "zerolinecolor": "white"
           },
           "yaxis": {
            "backgroundcolor": "#E5ECF6",
            "gridcolor": "white",
            "gridwidth": 2,
            "linecolor": "white",
            "showbackground": true,
            "ticks": "",
            "zerolinecolor": "white"
           },
           "zaxis": {
            "backgroundcolor": "#E5ECF6",
            "gridcolor": "white",
            "gridwidth": 2,
            "linecolor": "white",
            "showbackground": true,
            "ticks": "",
            "zerolinecolor": "white"
           }
          },
          "shapedefaults": {
           "line": {
            "color": "#2a3f5f"
           }
          },
          "ternary": {
           "aaxis": {
            "gridcolor": "white",
            "linecolor": "white",
            "ticks": ""
           },
           "baxis": {
            "gridcolor": "white",
            "linecolor": "white",
            "ticks": ""
           },
           "bgcolor": "#E5ECF6",
           "caxis": {
            "gridcolor": "white",
            "linecolor": "white",
            "ticks": ""
           }
          },
          "title": {
           "x": 0.05
          },
          "xaxis": {
           "automargin": true,
           "gridcolor": "white",
           "linecolor": "white",
           "ticks": "",
           "title": {
            "standoff": 15
           },
           "zerolinecolor": "white",
           "zerolinewidth": 2
          },
          "yaxis": {
           "automargin": true,
           "gridcolor": "white",
           "linecolor": "white",
           "ticks": "",
           "title": {
            "standoff": 15
           },
           "zerolinecolor": "white",
           "zerolinewidth": 2
          }
         }
        },
        "updatemenus": [
         {
          "buttons": [
           {
            "args": [
             "type",
             "surface"
            ],
            "label": "3D Surface",
            "method": "restyle"
           },
           {
            "args": [
             "type",
             "heatmap"
            ],
            "label": "Heatmap",
            "method": "restyle"
           }
          ],
          "direction": "down",
          "showactive": true,
          "x": 0.1,
          "xanchor": "left",
          "y": 1.1,
          "yanchor": "top"
         }
        ]
       }
      }
     },
     "metadata": {},
     "output_type": "display_data"
    }
   ],
   "source": [
    "import plotly.graph_objects as go\n",
    "fig = go.Figure()\n",
    "fig.add_surface(z=df_test.values)\n",
    "fig.update_layout(\n",
    "    updatemenus=[\n",
    "        dict(\n",
    "            buttons=list([\n",
    "                dict(\n",
    "                    args=['type', 'surface'],\n",
    "                    label='3D Surface',\n",
    "                    method='restyle'\n",
    "                ),\n",
    "                dict(\n",
    "                    args=['type', 'heatmap'],\n",
    "                    label='Heatmap',\n",
    "                    method='restyle'\n",
    "                )\n",
    "            ]),\n",
    "            direction='down',\n",
    "            showactive=True,\n",
    "            x=0.1,\n",
    "            xanchor='left',\n",
    "            y=1.1,\n",
    "            yanchor='top'\n",
    "        ),\n",
    "    ]\n",
    ")\n",
    "fig.show()"
   ]
  },
  {
   "cell_type": "markdown",
   "id": "bf33a811",
   "metadata": {},
   "source": [
    "h. Develop custom action buttons using Plotly"
   ]
  },
  {
   "cell_type": "code",
   "execution_count": 47,
   "id": "72552a13",
   "metadata": {},
   "outputs": [
    {
     "data": {
      "application/vnd.plotly.v1+json": {
       "config": {
        "plotlyServerURL": "https://plot.ly"
       },
       "data": [
        {
         "marker": {
          "color": [
           0.7706469993502101,
           0.47784734009157426,
           0.6006641590693712,
           0.693913219413879,
           0.38528118736765815,
           0.01813929070579945,
           0.7611226274772794,
           0.6422337913371338,
           0.9202603333997484,
           0.7164898272519185,
           0.5044677665539201,
           0.941849356938532,
           0.28963708402486166,
           0.42069490553021927,
           0.6334269016314849,
           0.5003783348666441,
           0.7600013106621895,
           0.5170667562538989,
           0.8563491242288898,
           0.6962883980237718,
           0.9277199602997777,
           0.4567728951690352,
           0.09044934855398312,
           0.8085297354830646,
           0.9041072753446214,
           0.2415362129531815,
           0.57566382004882,
           0.14599474113673205,
           0.8240203611084548,
           0.9519792037816747,
           0.7524831388092451,
           0.13010220818756846,
           0.3054106701041115,
           0.007131060901360509,
           0.1060067362085566,
           0.01991038784770849,
           0.5420717392344241,
           0.469394971603303,
           0.19637708678353527,
           0.848134087371258,
           0.01973230104359136,
           0.00901199169057365,
           0.052718440019386636,
           0.009444756252208864,
           0.8487112018615663,
           0.29677631801351123,
           0.9012164630525193,
           0.5596688351384896,
           0.15513931600092257,
           0.06149408258738509,
           0.7062316623822774,
           0.4992090480980841,
           0.9613705854249944,
           0.6640283591385797,
           0.8085888637838292,
           0.1303029654257728,
           0.07254801761422636,
           0.3596440842302904,
           0.4896711229900672,
           0.3460548953469049,
           0.40065784842986685,
           0.4845424107087113,
           0.5630815455245973,
           0.7917204445564026,
           0.5039319975115826,
           0.8612550603231225,
           0.7902570350826218,
           0.7925266846734583,
           0.4633982319581158,
           0.10931800247670964,
           0.04701880091027266,
           0.41880136525337286,
           0.5035923160783408,
           0.493553529312065,
           0.7557351179633701,
           0.0366147020496258,
           0.8846113501704007,
           0.22835884982928267,
           0.14836107699928014,
           0.9032201645026254,
           0.13511179449392574,
           0.34984250649109183,
           0.22679252058821742,
           0.4085670671492798,
           0.5000250303221352,
           0.527364970156578,
           0.8361387160216601,
           0.47131671911586204,
           0.219764070136102,
           0.47663808153782994,
           0.6533813432116219,
           0.9991278126668303,
           0.41696636656014274,
           0.777368648048974,
           0.49615885161136664,
           0.7551942372893686,
           0.09160054505018755,
           0.08832853304839727,
           0.9398690498066086,
           0.46937635316943993
          ]
         },
         "mode": "markers",
         "type": "scatter",
         "x": [
          "B",
          "L",
          "O",
          "C",
          "K",
          "S"
         ],
         "y": [
          "V",
          "I",
          "L",
          "L",
          "A",
          "G",
          "E",
          "S"
         ]
        }
       ],
       "layout": {
        "template": {
         "data": {
          "bar": [
           {
            "error_x": {
             "color": "#2a3f5f"
            },
            "error_y": {
             "color": "#2a3f5f"
            },
            "marker": {
             "line": {
              "color": "#E5ECF6",
              "width": 0.5
             },
             "pattern": {
              "fillmode": "overlay",
              "size": 10,
              "solidity": 0.2
             }
            },
            "type": "bar"
           }
          ],
          "barpolar": [
           {
            "marker": {
             "line": {
              "color": "#E5ECF6",
              "width": 0.5
             },
             "pattern": {
              "fillmode": "overlay",
              "size": 10,
              "solidity": 0.2
             }
            },
            "type": "barpolar"
           }
          ],
          "carpet": [
           {
            "aaxis": {
             "endlinecolor": "#2a3f5f",
             "gridcolor": "white",
             "linecolor": "white",
             "minorgridcolor": "white",
             "startlinecolor": "#2a3f5f"
            },
            "baxis": {
             "endlinecolor": "#2a3f5f",
             "gridcolor": "white",
             "linecolor": "white",
             "minorgridcolor": "white",
             "startlinecolor": "#2a3f5f"
            },
            "type": "carpet"
           }
          ],
          "choropleth": [
           {
            "colorbar": {
             "outlinewidth": 0,
             "ticks": ""
            },
            "type": "choropleth"
           }
          ],
          "contour": [
           {
            "colorbar": {
             "outlinewidth": 0,
             "ticks": ""
            },
            "colorscale": [
             [
              0,
              "#0d0887"
             ],
             [
              0.1111111111111111,
              "#46039f"
             ],
             [
              0.2222222222222222,
              "#7201a8"
             ],
             [
              0.3333333333333333,
              "#9c179e"
             ],
             [
              0.4444444444444444,
              "#bd3786"
             ],
             [
              0.5555555555555556,
              "#d8576b"
             ],
             [
              0.6666666666666666,
              "#ed7953"
             ],
             [
              0.7777777777777778,
              "#fb9f3a"
             ],
             [
              0.8888888888888888,
              "#fdca26"
             ],
             [
              1,
              "#f0f921"
             ]
            ],
            "type": "contour"
           }
          ],
          "contourcarpet": [
           {
            "colorbar": {
             "outlinewidth": 0,
             "ticks": ""
            },
            "type": "contourcarpet"
           }
          ],
          "heatmap": [
           {
            "colorbar": {
             "outlinewidth": 0,
             "ticks": ""
            },
            "colorscale": [
             [
              0,
              "#0d0887"
             ],
             [
              0.1111111111111111,
              "#46039f"
             ],
             [
              0.2222222222222222,
              "#7201a8"
             ],
             [
              0.3333333333333333,
              "#9c179e"
             ],
             [
              0.4444444444444444,
              "#bd3786"
             ],
             [
              0.5555555555555556,
              "#d8576b"
             ],
             [
              0.6666666666666666,
              "#ed7953"
             ],
             [
              0.7777777777777778,
              "#fb9f3a"
             ],
             [
              0.8888888888888888,
              "#fdca26"
             ],
             [
              1,
              "#f0f921"
             ]
            ],
            "type": "heatmap"
           }
          ],
          "heatmapgl": [
           {
            "colorbar": {
             "outlinewidth": 0,
             "ticks": ""
            },
            "colorscale": [
             [
              0,
              "#0d0887"
             ],
             [
              0.1111111111111111,
              "#46039f"
             ],
             [
              0.2222222222222222,
              "#7201a8"
             ],
             [
              0.3333333333333333,
              "#9c179e"
             ],
             [
              0.4444444444444444,
              "#bd3786"
             ],
             [
              0.5555555555555556,
              "#d8576b"
             ],
             [
              0.6666666666666666,
              "#ed7953"
             ],
             [
              0.7777777777777778,
              "#fb9f3a"
             ],
             [
              0.8888888888888888,
              "#fdca26"
             ],
             [
              1,
              "#f0f921"
             ]
            ],
            "type": "heatmapgl"
           }
          ],
          "histogram": [
           {
            "marker": {
             "pattern": {
              "fillmode": "overlay",
              "size": 10,
              "solidity": 0.2
             }
            },
            "type": "histogram"
           }
          ],
          "histogram2d": [
           {
            "colorbar": {
             "outlinewidth": 0,
             "ticks": ""
            },
            "colorscale": [
             [
              0,
              "#0d0887"
             ],
             [
              0.1111111111111111,
              "#46039f"
             ],
             [
              0.2222222222222222,
              "#7201a8"
             ],
             [
              0.3333333333333333,
              "#9c179e"
             ],
             [
              0.4444444444444444,
              "#bd3786"
             ],
             [
              0.5555555555555556,
              "#d8576b"
             ],
             [
              0.6666666666666666,
              "#ed7953"
             ],
             [
              0.7777777777777778,
              "#fb9f3a"
             ],
             [
              0.8888888888888888,
              "#fdca26"
             ],
             [
              1,
              "#f0f921"
             ]
            ],
            "type": "histogram2d"
           }
          ],
          "histogram2dcontour": [
           {
            "colorbar": {
             "outlinewidth": 0,
             "ticks": ""
            },
            "colorscale": [
             [
              0,
              "#0d0887"
             ],
             [
              0.1111111111111111,
              "#46039f"
             ],
             [
              0.2222222222222222,
              "#7201a8"
             ],
             [
              0.3333333333333333,
              "#9c179e"
             ],
             [
              0.4444444444444444,
              "#bd3786"
             ],
             [
              0.5555555555555556,
              "#d8576b"
             ],
             [
              0.6666666666666666,
              "#ed7953"
             ],
             [
              0.7777777777777778,
              "#fb9f3a"
             ],
             [
              0.8888888888888888,
              "#fdca26"
             ],
             [
              1,
              "#f0f921"
             ]
            ],
            "type": "histogram2dcontour"
           }
          ],
          "mesh3d": [
           {
            "colorbar": {
             "outlinewidth": 0,
             "ticks": ""
            },
            "type": "mesh3d"
           }
          ],
          "parcoords": [
           {
            "line": {
             "colorbar": {
              "outlinewidth": 0,
              "ticks": ""
             }
            },
            "type": "parcoords"
           }
          ],
          "pie": [
           {
            "automargin": true,
            "type": "pie"
           }
          ],
          "scatter": [
           {
            "fillpattern": {
             "fillmode": "overlay",
             "size": 10,
             "solidity": 0.2
            },
            "type": "scatter"
           }
          ],
          "scatter3d": [
           {
            "line": {
             "colorbar": {
              "outlinewidth": 0,
              "ticks": ""
             }
            },
            "marker": {
             "colorbar": {
              "outlinewidth": 0,
              "ticks": ""
             }
            },
            "type": "scatter3d"
           }
          ],
          "scattercarpet": [
           {
            "marker": {
             "colorbar": {
              "outlinewidth": 0,
              "ticks": ""
             }
            },
            "type": "scattercarpet"
           }
          ],
          "scattergeo": [
           {
            "marker": {
             "colorbar": {
              "outlinewidth": 0,
              "ticks": ""
             }
            },
            "type": "scattergeo"
           }
          ],
          "scattergl": [
           {
            "marker": {
             "colorbar": {
              "outlinewidth": 0,
              "ticks": ""
             }
            },
            "type": "scattergl"
           }
          ],
          "scattermapbox": [
           {
            "marker": {
             "colorbar": {
              "outlinewidth": 0,
              "ticks": ""
             }
            },
            "type": "scattermapbox"
           }
          ],
          "scatterpolar": [
           {
            "marker": {
             "colorbar": {
              "outlinewidth": 0,
              "ticks": ""
             }
            },
            "type": "scatterpolar"
           }
          ],
          "scatterpolargl": [
           {
            "marker": {
             "colorbar": {
              "outlinewidth": 0,
              "ticks": ""
             }
            },
            "type": "scatterpolargl"
           }
          ],
          "scatterternary": [
           {
            "marker": {
             "colorbar": {
              "outlinewidth": 0,
              "ticks": ""
             }
            },
            "type": "scatterternary"
           }
          ],
          "surface": [
           {
            "colorbar": {
             "outlinewidth": 0,
             "ticks": ""
            },
            "colorscale": [
             [
              0,
              "#0d0887"
             ],
             [
              0.1111111111111111,
              "#46039f"
             ],
             [
              0.2222222222222222,
              "#7201a8"
             ],
             [
              0.3333333333333333,
              "#9c179e"
             ],
             [
              0.4444444444444444,
              "#bd3786"
             ],
             [
              0.5555555555555556,
              "#d8576b"
             ],
             [
              0.6666666666666666,
              "#ed7953"
             ],
             [
              0.7777777777777778,
              "#fb9f3a"
             ],
             [
              0.8888888888888888,
              "#fdca26"
             ],
             [
              1,
              "#f0f921"
             ]
            ],
            "type": "surface"
           }
          ],
          "table": [
           {
            "cells": {
             "fill": {
              "color": "#EBF0F8"
             },
             "line": {
              "color": "white"
             }
            },
            "header": {
             "fill": {
              "color": "#C8D4E3"
             },
             "line": {
              "color": "white"
             }
            },
            "type": "table"
           }
          ]
         },
         "layout": {
          "annotationdefaults": {
           "arrowcolor": "#2a3f5f",
           "arrowhead": 0,
           "arrowwidth": 1
          },
          "autotypenumbers": "strict",
          "coloraxis": {
           "colorbar": {
            "outlinewidth": 0,
            "ticks": ""
           }
          },
          "colorscale": {
           "diverging": [
            [
             0,
             "#8e0152"
            ],
            [
             0.1,
             "#c51b7d"
            ],
            [
             0.2,
             "#de77ae"
            ],
            [
             0.3,
             "#f1b6da"
            ],
            [
             0.4,
             "#fde0ef"
            ],
            [
             0.5,
             "#f7f7f7"
            ],
            [
             0.6,
             "#e6f5d0"
            ],
            [
             0.7,
             "#b8e186"
            ],
            [
             0.8,
             "#7fbc41"
            ],
            [
             0.9,
             "#4d9221"
            ],
            [
             1,
             "#276419"
            ]
           ],
           "sequential": [
            [
             0,
             "#0d0887"
            ],
            [
             0.1111111111111111,
             "#46039f"
            ],
            [
             0.2222222222222222,
             "#7201a8"
            ],
            [
             0.3333333333333333,
             "#9c179e"
            ],
            [
             0.4444444444444444,
             "#bd3786"
            ],
            [
             0.5555555555555556,
             "#d8576b"
            ],
            [
             0.6666666666666666,
             "#ed7953"
            ],
            [
             0.7777777777777778,
             "#fb9f3a"
            ],
            [
             0.8888888888888888,
             "#fdca26"
            ],
            [
             1,
             "#f0f921"
            ]
           ],
           "sequentialminus": [
            [
             0,
             "#0d0887"
            ],
            [
             0.1111111111111111,
             "#46039f"
            ],
            [
             0.2222222222222222,
             "#7201a8"
            ],
            [
             0.3333333333333333,
             "#9c179e"
            ],
            [
             0.4444444444444444,
             "#bd3786"
            ],
            [
             0.5555555555555556,
             "#d8576b"
            ],
            [
             0.6666666666666666,
             "#ed7953"
            ],
            [
             0.7777777777777778,
             "#fb9f3a"
            ],
            [
             0.8888888888888888,
             "#fdca26"
            ],
            [
             1,
             "#f0f921"
            ]
           ]
          },
          "colorway": [
           "#636efa",
           "#EF553B",
           "#00cc96",
           "#ab63fa",
           "#FFA15A",
           "#19d3f3",
           "#FF6692",
           "#B6E880",
           "#FF97FF",
           "#FECB52"
          ],
          "font": {
           "color": "#2a3f5f"
          },
          "geo": {
           "bgcolor": "white",
           "lakecolor": "white",
           "landcolor": "#E5ECF6",
           "showlakes": true,
           "showland": true,
           "subunitcolor": "white"
          },
          "hoverlabel": {
           "align": "left"
          },
          "hovermode": "closest",
          "mapbox": {
           "style": "light"
          },
          "paper_bgcolor": "white",
          "plot_bgcolor": "#E5ECF6",
          "polar": {
           "angularaxis": {
            "gridcolor": "white",
            "linecolor": "white",
            "ticks": ""
           },
           "bgcolor": "#E5ECF6",
           "radialaxis": {
            "gridcolor": "white",
            "linecolor": "white",
            "ticks": ""
           }
          },
          "scene": {
           "xaxis": {
            "backgroundcolor": "#E5ECF6",
            "gridcolor": "white",
            "gridwidth": 2,
            "linecolor": "white",
            "showbackground": true,
            "ticks": "",
            "zerolinecolor": "white"
           },
           "yaxis": {
            "backgroundcolor": "#E5ECF6",
            "gridcolor": "white",
            "gridwidth": 2,
            "linecolor": "white",
            "showbackground": true,
            "ticks": "",
            "zerolinecolor": "white"
           },
           "zaxis": {
            "backgroundcolor": "#E5ECF6",
            "gridcolor": "white",
            "gridwidth": 2,
            "linecolor": "white",
            "showbackground": true,
            "ticks": "",
            "zerolinecolor": "white"
           }
          },
          "shapedefaults": {
           "line": {
            "color": "#2a3f5f"
           }
          },
          "ternary": {
           "aaxis": {
            "gridcolor": "white",
            "linecolor": "white",
            "ticks": ""
           },
           "baxis": {
            "gridcolor": "white",
            "linecolor": "white",
            "ticks": ""
           },
           "bgcolor": "#E5ECF6",
           "caxis": {
            "gridcolor": "white",
            "linecolor": "white",
            "ticks": ""
           }
          },
          "title": {
           "x": 0.05
          },
          "xaxis": {
           "automargin": true,
           "gridcolor": "white",
           "linecolor": "white",
           "ticks": "",
           "title": {
            "standoff": 15
           },
           "zerolinecolor": "white",
           "zerolinewidth": 2
          },
          "yaxis": {
           "automargin": true,
           "gridcolor": "white",
           "linecolor": "white",
           "ticks": "",
           "title": {
            "standoff": 15
           },
           "zerolinecolor": "white",
           "zerolinewidth": 2
          }
         }
        },
        "updatemenus": [
         {
          "buttons": [
           {
            "args": [
             {
              "marker.color": [
               0.8075183265298294,
               0.8569126494810474,
               0.9830358217215984,
               0.28464733810043186,
               0.6887517275074089,
               0.9985314619732228,
               0.9192737949281421,
               0.3072131000530032,
               0.6966414731506763,
               0.4790459371572896,
               0.4474325147267655,
               0.7765970240281069,
               0.4793240848889633,
               0.3898383195913179,
               0.6753764700427075,
               0.7660992894627708,
               0.27764865295464813,
               0.38879383053336014,
               0.7318652522089371,
               0.3634843292739921,
               0.17061376745474266,
               0.6418603341285329,
               0.9948102423214905,
               0.23919149988098531,
               0.19444450493025556,
               0.00647169963846439,
               0.9064460175772804,
               0.35787434737870216,
               0.824601599382193,
               0.3278797105258502,
               0.23347252521596673,
               0.36310400755530914,
               0.9989890242864591,
               0.0734443428562438,
               0.8743095484748088,
               0.9813926472202308,
               0.9996442410163853,
               0.24006396850237288,
               0.7102671754505797,
               0.2684068498999378,
               0.23106160796456798,
               0.6368190703528382,
               0.9507134726434668,
               0.9098308959711378,
               0.8515463320265428,
               0.48995912634420025,
               0.23101340481995958,
               0.03009899717861375,
               0.7519479425458283,
               0.25315955209378915,
               0.29211130141112573,
               0.3768049682478247,
               0.658304347275265,
               0.4639382931534499,
               0.6850549916249007,
               0.10832726164716533,
               0.9580603367871258,
               0.9025087121891333,
               0.8819245847574101,
               0.4981461062712649,
               0.9350808023341203,
               0.20922826181964538,
               0.11231478554811136,
               0.8146765026904013,
               0.889177418027909,
               0.5361693125133132,
               0.01215200670654415,
               0.46623285013425253,
               0.4261326068717738,
               0.9378701684133749,
               0.3160709796015092,
               0.689514513539755,
               0.7037029005005991,
               0.4877936616256586,
               0.7395700115359621,
               0.23079165744984576,
               0.3362216169639318,
               0.16798573715775855,
               0.6557015412380104,
               0.8381745267049336,
               0.4163977822647108,
               0.6096166613124773,
               0.39512574014754465,
               0.43132587520755716,
               0.721356900695139,
               0.46550724647659103,
               0.8397546619996421,
               0.058712405985799965,
               0.9989823346112804,
               0.20566919873893508,
               0.14591814814176096,
               0.6718488955309347,
               0.5875157979788103,
               0.2587528278568605,
               0.6349610196998821,
               0.7476772797922383,
               0.8687614462280989,
               0.35048751178585213,
               0.13681269785442463,
               0.34689696488805477
              ]
             }
            ],
            "label": "Change Color",
            "method": "update"
           }
          ],
          "direction": "right",
          "type": "buttons"
         }
        ]
       }
      }
     },
     "metadata": {},
     "output_type": "display_data"
    }
   ],
   "source": [
    "import plotly.graph_objects as go\n",
    "import numpy as np\n",
    "x = []\n",
    "for i in \"BLOCKS\":\n",
    "    x.append(i)\n",
    "y = []\n",
    "for j in \"VILLAGES\":\n",
    "    y.append(j)\n",
    "color = np.random.rand(100)\n",
    "fig = go.Figure()\n",
    "fig.add_trace(go.Scatter(x=x, y=y, mode='markers', marker=dict(color=color)))\n",
    "fig.update_layout(\n",
    "    updatemenus=[\n",
    "        dict(\n",
    "            type=\"buttons\",\n",
    "            direction=\"right\",\n",
    "            buttons=[\n",
    "                dict(\n",
    "                    label=\"Change Color\",\n",
    "                    method=\"update\",\n",
    "                    args=[{\"marker.color\": np.random.rand(100)}],\n",
    "                )\n",
    "            ],\n",
    "        )\n",
    "    ]\n",
    ")\n",
    "fig.show()"
   ]
  }
 ],
 "metadata": {
  "kernelspec": {
   "display_name": "Python 3 (ipykernel)",
   "language": "python",
   "name": "python3"
  },
  "language_info": {
   "codemirror_mode": {
    "name": "ipython",
    "version": 3
   },
   "file_extension": ".py",
   "mimetype": "text/x-python",
   "name": "python",
   "nbconvert_exporter": "python",
   "pygments_lexer": "ipython3",
   "version": "3.11.4"
  }
 },
 "nbformat": 4,
 "nbformat_minor": 5
}
