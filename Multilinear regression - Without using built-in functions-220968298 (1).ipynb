{
  "cells": [
    {
      "cell_type": "markdown",
      "source": [
        "## Name- Shivli Mathur\n",
        "## Reg. no.-220968298\n",
        "## Batch-B4\n",
        "## Week-2"
      ],
      "metadata": {},
      "id": "27fa9b8e"
    },
    {
      "cell_type": "markdown",
      "source": [
        "## For given dataset"
      ],
      "metadata": {},
      "id": "44073175"
    },
    {
      "cell_type": "code",
      "source": [
        "import pandas as pd\n",
        "import numpy as np\n",
        "import matplotlib.pyplot as plt\n",
        "import seaborn as sns"
      ],
      "outputs": [],
      "execution_count": 1,
      "metadata": {},
      "id": "6282967f"
    },
    {
      "cell_type": "code",
      "source": [
        "Y=np.array([-3.7,3.5,2.5,11.5,5.7])\n",
        "X1=np.array([3,4,5,6,2])\n",
        "X2=np.array([8,5,7,3,1])"
      ],
      "outputs": [],
      "execution_count": 2,
      "metadata": {},
      "id": "947bb380"
    },
    {
      "cell_type": "code",
      "source": [
        "X1_sum=np.sum(X1)\n",
        "print(X1_sum)\n",
        "X2_sum=np.sum(X2)\n",
        "print(X2_sum)\n",
        "Y_sum=np.sum(Y)\n",
        "print(Y_sum)"
      ],
      "outputs": [
        {
          "output_type": "stream",
          "name": "stdout",
          "text": "20\n24\n19.5\n"
        }
      ],
      "execution_count": 3,
      "metadata": {},
      "id": "d66ede91"
    },
    {
      "cell_type": "code",
      "source": [
        "X1X2 = np.sum(X1 * X2)\n",
        "print(X1X2)\n",
        "X1Y=np.sum(X1*Y)\n",
        "print(X1Y)\n",
        "X2Y=np.sum(X2*Y)\n",
        "print(X2Y)"
      ],
      "outputs": [
        {
          "output_type": "stream",
          "name": "stdout",
          "text": "99\n95.80000000000001\n45.6\n"
        }
      ],
      "execution_count": 4,
      "metadata": {},
      "id": "d6002e70"
    },
    {
      "cell_type": "code",
      "source": [
        "X1_2sum=np.sum(np.square(X1))\n",
        "print(X1_2sum)\n",
        "X2_2sum=np.sum(np.square(X2))\n",
        "print(X2_2sum)"
      ],
      "outputs": [
        {
          "output_type": "stream",
          "name": "stdout",
          "text": "90\n148\n"
        }
      ],
      "execution_count": 5,
      "metadata": {},
      "id": "c47f1292"
    },
    {
      "cell_type": "code",
      "source": [
        "x1_2sum=X1_2sum-((X1_sum*X1_sum)/5)\n",
        "print(x1_2sum)\n",
        "x2_2sum=X2_2sum-((X2_sum*X2_sum)/5)\n",
        "print(x2_2sum)\n",
        "x1y=X1Y-((X1_sum*Y_sum)/5)\n",
        "print(x1y)\n",
        "x2y=X2Y-((X2_sum*Y_sum)/5)\n",
        "print(x2y)\n",
        "x1x2=X1X2-((X1_sum*X2_sum)/5)\n",
        "print(x1x2)"
      ],
      "outputs": [
        {
          "output_type": "stream",
          "name": "stdout",
          "text": "10.0\n32.8\n17.80000000000001\n-47.99999999999999\n3.0\n"
        }
      ],
      "execution_count": 6,
      "metadata": {},
      "id": "8f411c82"
    },
    {
      "cell_type": "code",
      "source": [
        "b1=((x2_2sum*x1y-x1x2*x2y)/(x1_2sum*x2_2sum-x1x2*x1x2))\n",
        "b2=((x1_2sum*x2y-x1x2*x1y)/(x1_2sum*x2_2sum-x1x2*x1x2))\n",
        "a=(Y_sum-b1*X1_sum-b2*X2_sum)/5\n",
        "print(b1)\n",
        "print(b2)\n",
        "print(a)"
      ],
      "outputs": [
        {
          "output_type": "stream",
          "name": "stdout",
          "text": "2.2816300940438885\n-1.6721003134796237\n2.7995611285266393\n"
        }
      ],
      "execution_count": 7,
      "metadata": {},
      "id": "62c97b6b"
    },
    {
      "cell_type": "code",
      "source": [
        "x1=3\n",
        "x2=2\n",
        "y_pred = a+b1*x1+b2*x2\n",
        "print(y_pred)"
      ],
      "outputs": [
        {
          "output_type": "stream",
          "name": "stdout",
          "text": "6.300250783699056\n"
        }
      ],
      "execution_count": 8,
      "metadata": {},
      "id": "fdfba581"
    },
    {
      "cell_type": "code",
      "source": [
        "df = pd.DataFrame({'Y': Y, 'X1':X1, 'X2': X2})\n",
        "\n",
        "# Create a pairplot\n",
        "sns.pairplot(df)\n",
        "\n",
        "# Display the plot\n",
        "plt.show()"
      ],
      "outputs": [
        {
          "output_type": "display_data",
          "data": {
            "image/png": "[encoded data removed]",
            "text/plain": "<Figure size 750x750 with 12 Axes>"
          },
          "metadata": {}
        }
      ],
      "execution_count": 9,
      "metadata": {},
      "id": "139724f6"
    },
    {
      "cell_type": "markdown",
      "source": [
        "## USING RANDOM MODULE WITHOUT INBUILT FUNCTIONS"
      ],
      "metadata": {},
      "id": "f44b9dde"
    },
    {
      "cell_type": "code",
      "source": [
        "import random\n",
        " \n",
        "# using random.sample()\n",
        "# to generate random number list\n",
        "X1= np.array(random.sample(range(1, 50), 5))\n",
        "X2= np.array(random.sample(range(1, 50), 5))\n",
        "Y= np.array(random.sample(range(1, 50), 5))\n",
        "# printing result\n",
        "print(\"Random number list is : \" +str(X1))\n",
        "print(\"Random number list is : \" +str(X2))\n",
        "print(\"Random number list is : \" +str(Y))"
      ],
      "outputs": [
        {
          "output_type": "stream",
          "name": "stdout",
          "text": "Random number list is : [ 9 16 29 12 49]\nRandom number list is : [10 24 27 48  5]\nRandom number list is : [32 22 43 28 26]\n"
        }
      ],
      "execution_count": 10,
      "metadata": {},
      "id": "562fca0b"
    },
    {
      "cell_type": "code",
      "source": [
        "X1_sum=np.sum(X1)\n",
        "print(X1_sum)\n",
        "X2_sum=np.sum(X2)\n",
        "print(X2_sum)\n",
        "Y_sum=np.sum(Y)\n",
        "print(Y_sum)"
      ],
      "outputs": [
        {
          "output_type": "stream",
          "name": "stdout",
          "text": "115\n114\n151\n"
        }
      ],
      "execution_count": 11,
      "metadata": {},
      "id": "64890997"
    },
    {
      "cell_type": "code",
      "source": [
        "X1X2 = np.sum(X1 * X2)\n",
        "print(X1X2)\n",
        "X1Y=np.sum(X1*Y)\n",
        "print(X1Y)\n",
        "X2Y=np.sum(X2*Y)\n",
        "print(X2Y)"
      ],
      "outputs": [
        {
          "output_type": "stream",
          "name": "stdout",
          "text": "2078\n3497\n3483\n"
        }
      ],
      "execution_count": 12,
      "metadata": {},
      "id": "4a50578b"
    },
    {
      "cell_type": "code",
      "source": [
        "X1_2sum=np.sum(np.square(X1))\n",
        "print(X1_2sum)\n",
        "X2_2sum=np.sum(np.square(X2))\n",
        "print(X2_2sum)"
      ],
      "outputs": [
        {
          "output_type": "stream",
          "name": "stdout",
          "text": "3723\n3734\n"
        }
      ],
      "execution_count": 13,
      "metadata": {},
      "id": "70a0c7f9"
    },
    {
      "cell_type": "code",
      "source": [
        "x1_2sum=X1_2sum-((X1_sum*X1_sum)/5)\n",
        "print(x1_2sum)\n",
        "x2_2sum=X2_2sum-((X2_sum*X2_sum)/5)\n",
        "print(x2_2sum)\n",
        "x1y=X1Y-((X1_sum*Y_sum)/5)\n",
        "print(x1y)\n",
        "x2y=X2Y-((X2_sum*Y_sum)/5)\n",
        "print(x2y)\n",
        "x1x2=X1X2-((X1_sum*X2_sum)/5)\n",
        "print(x1x2)"
      ],
      "outputs": [
        {
          "output_type": "stream",
          "name": "stdout",
          "text": "1078.0\n1134.8000000000002\n24.0\n40.19999999999982\n-544.0\n"
        }
      ],
      "execution_count": 14,
      "metadata": {},
      "id": "fd62844b"
    },
    {
      "cell_type": "code",
      "source": [
        "b1=((x2_2sum*x1y-x1x2*x2y)/(x1_2sum*x2_2sum-x1x2*x1x2))\n",
        "b2=((x1_2sum*x2y-x1x2*x1y)/(x1_2sum*x2_2sum-x1x2*x1x2))\n",
        "a=(Y_sum-b1*X1_sum-b2*X2_sum)/5\n",
        "print(b1)\n",
        "print(b2)\n",
        "print(a)"
      ],
      "outputs": [
        {
          "output_type": "stream",
          "name": "stdout",
          "text": "0.05294925997845097\n0.06080754091318041\n27.595755087675116\n"
        }
      ],
      "execution_count": 15,
      "metadata": {},
      "id": "c2ec0063"
    },
    {
      "cell_type": "code",
      "source": [
        "x1=3\n",
        "x2=2\n",
        "y_pred = a+b1*x1+b2*x2\n",
        "print(y_pred)"
      ],
      "outputs": [
        {
          "output_type": "stream",
          "name": "stdout",
          "text": "27.87621794943683\n"
        }
      ],
      "execution_count": 16,
      "metadata": {},
      "id": "8cedc760"
    },
    {
      "cell_type": "code",
      "source": [
        "df = pd.DataFrame({'Y': Y, 'X1':X1, 'X2': X2})\n",
        "\n",
        "# Create a pairplot\n",
        "sns.pairplot(df)\n",
        "\n",
        "# Display the plot\n",
        "plt.show()"
      ],
      "outputs": [
        {
          "output_type": "display_data",
          "data": {
            "image/png": "[encoded data removed]",
            "text/plain": "<Figure size 750x750 with 12 Axes>"
          },
          "metadata": {}
        }
      ],
      "execution_count": 17,
      "metadata": {},
      "id": "070598af"
    },
    {
      "cell_type": "code",
      "source": [],
      "outputs": [],
      "execution_count": null,
      "metadata": {},
      "id": "83938d11"
    }
  ],
  "metadata": {
    "kernelspec": {
      "display_name": "Python 3 (ipykernel)",
      "language": "python",
      "name": "python3"
    },
    "language_info": {
      "codemirror_mode": {
        "name": "ipython",
        "version": 3
      },
      "file_extension": ".py",
      "mimetype": "text/x-python",
      "name": "python",
      "nbconvert_exporter": "python",
      "pygments_lexer": "ipython3",
      "version": "3.11.4"
    },
    "nteract": {
      "version": "nteract-front-end@1.0.0"
    }
  },
  "nbformat": 4,
  "nbformat_minor": 5
}