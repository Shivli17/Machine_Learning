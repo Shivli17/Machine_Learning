{
  "cells": [
    {
      "cell_type": "markdown",
      "source": [
        "## Name- Shivli Mathur\n",
        "## Reg. no.-220968298\n",
        "## Batch-B4\n",
        "## Week-2"
      ],
      "metadata": {},
      "id": "face292e"
    },
    {
      "cell_type": "code",
      "source": [
        "import numpy as np\n",
        "import pandas as pd\n",
        "import matplotlib.pyplot as plt"
      ],
      "outputs": [],
      "execution_count": 1,
      "metadata": {},
      "id": "0ee5b3c3"
    },
    {
      "cell_type": "markdown",
      "source": [
        "## For given dataset"
      ],
      "metadata": {},
      "id": "e08743a7"
    },
    {
      "cell_type": "code",
      "source": [
        "data=pd.read_csv(\"C:\\\\Users\\\\HP\\\\Downloads\\\\Book 3.csv\")"
      ],
      "outputs": [],
      "execution_count": 2,
      "metadata": {},
      "id": "4b5d6f18"
    },
    {
      "cell_type": "code",
      "source": [
        "data"
      ],
      "outputs": [
        {
          "output_type": "execute_result",
          "execution_count": 3,
          "data": {
            "text/html": "<div>\n<style scoped>\n    .dataframe tbody tr th:only-of-type {\n        vertical-align: middle;\n    }\n\n    .dataframe tbody tr th {\n        vertical-align: top;\n    }\n\n    .dataframe thead th {\n        text-align: right;\n    }\n</style>\n<table border=\"1\" class=\"dataframe\">\n  <thead>\n    <tr style=\"text-align: right;\">\n      <th></th>\n      <th>X</th>\n      <th>Y</th>\n    </tr>\n  </thead>\n  <tbody>\n    <tr>\n      <th>0</th>\n      <td>1</td>\n      <td>1.2</td>\n    </tr>\n    <tr>\n      <th>1</th>\n      <td>2</td>\n      <td>1.8</td>\n    </tr>\n    <tr>\n      <th>2</th>\n      <td>3</td>\n      <td>2.6</td>\n    </tr>\n    <tr>\n      <th>3</th>\n      <td>4</td>\n      <td>3.2</td>\n    </tr>\n    <tr>\n      <th>4</th>\n      <td>5</td>\n      <td>3.8</td>\n    </tr>\n  </tbody>\n</table>\n</div>",
            "text/plain": "   X    Y\n0  1  1.2\n1  2  1.8\n2  3  2.6\n3  4  3.2\n4  5  3.8"
          },
          "metadata": {}
        }
      ],
      "execution_count": 3,
      "metadata": {},
      "id": "8c6576a3"
    },
    {
      "cell_type": "code",
      "source": [
        "x = np.array(data['X'])\n",
        "x"
      ],
      "outputs": [
        {
          "output_type": "execute_result",
          "execution_count": 4,
          "data": {
            "text/plain": "array([1, 2, 3, 4, 5], dtype=int64)"
          },
          "metadata": {}
        }
      ],
      "execution_count": 4,
      "metadata": {},
      "id": "82c101b1"
    },
    {
      "cell_type": "code",
      "source": [
        "y = np.array(data['Y'])\n",
        "y"
      ],
      "outputs": [
        {
          "output_type": "execute_result",
          "execution_count": 5,
          "data": {
            "text/plain": "array([1.2, 1.8, 2.6, 3.2, 3.8])"
          },
          "metadata": {}
        }
      ],
      "execution_count": 5,
      "metadata": {},
      "id": "dc37d09b"
    },
    {
      "cell_type": "code",
      "source": [
        "xmean=np.mean(x)\n",
        "xmean"
      ],
      "outputs": [
        {
          "output_type": "execute_result",
          "execution_count": 6,
          "data": {
            "text/plain": "3.0"
          },
          "metadata": {}
        }
      ],
      "execution_count": 6,
      "metadata": {},
      "id": "13d6cbc4"
    },
    {
      "cell_type": "code",
      "source": [
        "ymean=np.mean(y)\n",
        "ymean"
      ],
      "outputs": [
        {
          "output_type": "execute_result",
          "execution_count": 7,
          "data": {
            "text/plain": "2.5200000000000005"
          },
          "metadata": {}
        }
      ],
      "execution_count": 7,
      "metadata": {},
      "id": "237710bd"
    },
    {
      "cell_type": "code",
      "source": [
        "xsqmean=np.mean(x*x)\n",
        "xsqmean"
      ],
      "outputs": [
        {
          "output_type": "execute_result",
          "execution_count": 8,
          "data": {
            "text/plain": "11.0"
          },
          "metadata": {}
        }
      ],
      "execution_count": 8,
      "metadata": {},
      "id": "21053b47"
    },
    {
      "cell_type": "code",
      "source": [
        "xymean=np.mean(x*y)\n",
        "xymean"
      ],
      "outputs": [
        {
          "output_type": "execute_result",
          "execution_count": 9,
          "data": {
            "text/plain": "8.88"
          },
          "metadata": {}
        }
      ],
      "execution_count": 9,
      "metadata": {},
      "id": "01810ee2"
    },
    {
      "cell_type": "code",
      "source": [
        "a1=(xymean-(xmean*ymean))/(xsqmean-(xmean*xmean))\n",
        "a1"
      ],
      "outputs": [
        {
          "output_type": "execute_result",
          "execution_count": 10,
          "data": {
            "text/plain": "0.6599999999999997"
          },
          "metadata": {}
        }
      ],
      "execution_count": 10,
      "metadata": {},
      "id": "749664e6"
    },
    {
      "cell_type": "code",
      "source": [
        "a0=ymean-a1*xmean\n",
        "a0"
      ],
      "outputs": [
        {
          "output_type": "execute_result",
          "execution_count": 11,
          "data": {
            "text/plain": "0.5400000000000014"
          },
          "metadata": {}
        }
      ],
      "execution_count": 11,
      "metadata": {},
      "id": "f1742bb5"
    },
    {
      "cell_type": "code",
      "source": [
        "y=a0+a1*x\n",
        "y"
      ],
      "outputs": [
        {
          "output_type": "execute_result",
          "execution_count": 12,
          "data": {
            "text/plain": "array([1.2 , 1.86, 2.52, 3.18, 3.84])"
          },
          "metadata": {}
        }
      ],
      "execution_count": 12,
      "metadata": {},
      "id": "21c0c24d"
    },
    {
      "cell_type": "code",
      "source": [
        "x_line = np.linspace(min(data.X), max(data.X), 100)\n",
        "y_line = a0 + a1 * x_line"
      ],
      "outputs": [],
      "execution_count": 13,
      "metadata": {},
      "id": "ec415b87"
    },
    {
      "cell_type": "markdown",
      "source": [
        "#### Plotting graph"
      ],
      "metadata": {},
      "id": "b41bcadc"
    },
    {
      "cell_type": "code",
      "source": [
        "for x, y in zip(data.X, data.Y):\n",
        "    plt.text(x, y, f'({x}, {y})', fontsize=8, ha='right', va='bottom')\n",
        "\n",
        "plt.xlabel(\"X-Independent\")\n",
        "plt.ylabel(\"Y-Dependent\")\n",
        "plt.scatter(data.X, data.Y, color='red')\n",
        "plt.plot(x_line, y_line)"
      ],
      "outputs": [
        {
          "output_type": "execute_result",
          "execution_count": 14,
          "data": {
            "text/plain": "[<matplotlib.lines.Line2D at 0x226800694d0>]"
          },
          "metadata": {}
        },
        {
          "output_type": "display_data",
          "data": {
            "image/png": "[encoded data removed]",
            "text/plain": "<Figure size 640x480 with 1 Axes>"
          },
          "metadata": {}
        }
      ],
      "execution_count": 14,
      "metadata": {},
      "id": "16767fd9"
    },
    {
      "cell_type": "markdown",
      "source": [
        "#### Regression equation"
      ],
      "metadata": {},
      "id": "75d6b402"
    },
    {
      "cell_type": "code",
      "source": [
        "print(\"Equation is:\",a0,\"+\",a1,\"x\")"
      ],
      "outputs": [
        {
          "output_type": "stream",
          "name": "stdout",
          "text": "Equation is: 0.5400000000000014 + 0.6599999999999997 x\n"
        }
      ],
      "execution_count": 15,
      "metadata": {},
      "id": "39191456"
    },
    {
      "cell_type": "markdown",
      "source": [
        "#### Value of y at x=7 and x=12"
      ],
      "metadata": {},
      "id": "b4e9b269"
    },
    {
      "cell_type": "code",
      "source": [
        "print(\"y value at x=7: \", a1*7+a0)"
      ],
      "outputs": [
        {
          "output_type": "stream",
          "name": "stdout",
          "text": "y value at x=7:  5.159999999999998\n"
        }
      ],
      "execution_count": 16,
      "metadata": {},
      "id": "b93cbf61"
    },
    {
      "cell_type": "code",
      "source": [
        "print(\"y value at x=12: \", a1*12+a0)"
      ],
      "outputs": [
        {
          "output_type": "stream",
          "name": "stdout",
          "text": "y value at x=12:  8.459999999999997\n"
        }
      ],
      "execution_count": 17,
      "metadata": {},
      "id": "1de00d96"
    },
    {
      "cell_type": "markdown",
      "source": [
        "## For random dataset"
      ],
      "metadata": {},
      "id": "b8df8439"
    },
    {
      "cell_type": "markdown",
      "source": [
        "#### Generating random dataset"
      ],
      "metadata": {},
      "id": "53f692a2"
    },
    {
      "cell_type": "code",
      "source": [
        "import random\n",
        "#np.random.seed(42)  # For reproducibility\n",
        "x = np.random.rand(5) \n",
        "x=x.reshape(-1, 1)\n",
        "print(x)"
      ],
      "outputs": [
        {
          "output_type": "stream",
          "name": "stdout",
          "text": "[[0.78517596]\n [0.19967378]\n [0.51423444]\n [0.59241457]\n [0.04645041]]\n"
        }
      ],
      "execution_count": 26,
      "metadata": {},
      "id": "287cfbe7"
    },
    {
      "cell_type": "code",
      "source": [
        "y = np.random.rand(5) \n",
        "y=y.reshape(-1, 1)\n",
        "print(y)"
      ],
      "outputs": [
        {
          "output_type": "stream",
          "name": "stdout",
          "text": "[[0.60754485]\n [0.17052412]\n [0.06505159]\n [0.94888554]\n [0.96563203]]\n"
        }
      ],
      "execution_count": 27,
      "metadata": {},
      "id": "6520036c"
    },
    {
      "cell_type": "code",
      "source": [
        "xmean=np.mean(x)\n",
        "xmean"
      ],
      "outputs": [
        {
          "output_type": "execute_result",
          "execution_count": 28,
          "data": {
            "text/plain": "0.42758983270940504"
          },
          "metadata": {}
        }
      ],
      "execution_count": 28,
      "metadata": {},
      "id": "8ed25e0a"
    },
    {
      "cell_type": "code",
      "source": [
        "ymean=np.mean(y)\n",
        "ymean"
      ],
      "outputs": [
        {
          "output_type": "execute_result",
          "execution_count": 29,
          "data": {
            "text/plain": "0.5515276277803804"
          },
          "metadata": {}
        }
      ],
      "execution_count": 29,
      "metadata": {},
      "id": "d087ee1b"
    },
    {
      "cell_type": "code",
      "source": [
        "xsqmean=np.mean(x*x)\n",
        "xsqmean"
      ],
      "outputs": [
        {
          "output_type": "execute_result",
          "execution_count": 30,
          "data": {
            "text/plain": "0.25478412590465754"
          },
          "metadata": {}
        }
      ],
      "execution_count": 30,
      "metadata": {},
      "id": "f62da7d2"
    },
    {
      "cell_type": "code",
      "source": [
        "xymean=np.mean(x*y)\n",
        "xymean"
      ],
      "outputs": [
        {
          "output_type": "execute_result",
          "execution_count": 31,
          "data": {
            "text/plain": "0.23030364044339802"
          },
          "metadata": {}
        }
      ],
      "execution_count": 31,
      "metadata": {},
      "id": "ce4b46b0"
    },
    {
      "cell_type": "code",
      "source": [
        "a1=(xymean-(xmean*ymean))/(xsqmean-(xmean*xmean))\n",
        "a1"
      ],
      "outputs": [
        {
          "output_type": "execute_result",
          "execution_count": 32,
          "data": {
            "text/plain": "-0.0767739292120881"
          },
          "metadata": {}
        }
      ],
      "execution_count": 32,
      "metadata": {},
      "id": "ac1f99bb"
    },
    {
      "cell_type": "code",
      "source": [
        "a0=ymean-a1*xmean\n",
        "a0"
      ],
      "outputs": [
        {
          "output_type": "execute_result",
          "execution_count": 33,
          "data": {
            "text/plain": "0.5843553793286209"
          },
          "metadata": {}
        }
      ],
      "execution_count": 33,
      "metadata": {},
      "id": "dc69f633"
    },
    {
      "cell_type": "code",
      "source": [
        "x_line = np.linspace(min(x), max(x), 100)\n",
        "y_line = a0 + a1 * x_line"
      ],
      "outputs": [],
      "execution_count": 34,
      "metadata": {},
      "id": "f5ff7992"
    },
    {
      "cell_type": "markdown",
      "source": [
        "#### Plotting graph"
      ],
      "metadata": {},
      "id": "d8070165"
    },
    {
      "cell_type": "code",
      "source": [
        "for i, j in zip(x, y):\n",
        "    plt.text(i, j, f'({i}, {j})', fontsize=8, ha='right', va='bottom')\n",
        "\n",
        "plt.xlabel(\"X-Independent\")\n",
        "plt.ylabel(\"Y-Dependent\")\n",
        "plt.scatter(x, y, color='red')\n",
        "plt.plot(x_line, y_line)"
      ],
      "outputs": [
        {
          "output_type": "execute_result",
          "execution_count": 35,
          "data": {
            "text/plain": "[<matplotlib.lines.Line2D at 0x226800ea2d0>]"
          },
          "metadata": {}
        },
        {
          "output_type": "display_data",
          "data": {
            "image/png": "[encoded data removed]",
            "text/plain": "<Figure size 640x480 with 1 Axes>"
          },
          "metadata": {}
        }
      ],
      "execution_count": 35,
      "metadata": {},
      "id": "4f22ad45"
    },
    {
      "cell_type": "markdown",
      "source": [
        "#### Regression equation"
      ],
      "metadata": {},
      "id": "b929dd80"
    },
    {
      "cell_type": "code",
      "source": [
        "print(\"Equation is:\",a1,\"x +\",a0)"
      ],
      "outputs": [
        {
          "output_type": "stream",
          "name": "stdout",
          "text": "Equation is: -0.0767739292120881 x + 0.5843553793286209\n"
        }
      ],
      "execution_count": 37,
      "metadata": {},
      "id": "116760f9"
    },
    {
      "cell_type": "markdown",
      "source": [
        "#### Value of y at x=7 and x=12"
      ],
      "metadata": {},
      "id": "ce6ca139"
    },
    {
      "cell_type": "code",
      "source": [
        "print(\"y value at x=7: \", a1*7+a0)"
      ],
      "outputs": [
        {
          "output_type": "stream",
          "name": "stdout",
          "text": "y value at x=7:  0.046937874844004246\n"
        }
      ],
      "execution_count": 38,
      "metadata": {},
      "id": "23c3d7e2"
    },
    {
      "cell_type": "code",
      "source": [
        "print(\"y value at x=12: \", a1*12+a0)"
      ],
      "outputs": [
        {
          "output_type": "stream",
          "name": "stdout",
          "text": "y value at x=12:  -0.33693177121643636\n"
        }
      ],
      "execution_count": 39,
      "metadata": {},
      "id": "adace0ac"
    }
  ],
  "metadata": {
    "kernelspec": {
      "display_name": "Python 3 (ipykernel)",
      "language": "python",
      "name": "python3"
    },
    "language_info": {
      "codemirror_mode": {
        "name": "ipython",
        "version": 3
      },
      "file_extension": ".py",
      "mimetype": "text/x-python",
      "name": "python",
      "nbconvert_exporter": "python",
      "pygments_lexer": "ipython3",
      "version": "3.11.4"
    },
    "nteract": {
      "version": "nteract-front-end@1.0.0"
    }
  },
  "nbformat": 4,
  "nbformat_minor": 5
}